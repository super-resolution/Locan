{
 "cells": [
  {
   "cell_type": "markdown",
   "id": "surprised-killing",
   "metadata": {},
   "source": [
    "# Tutorial about logging"
   ]
  },
  {
   "cell_type": "markdown",
   "id": "weekly-astrology",
   "metadata": {},
   "source": [
    "Logging as supplied by the python standard library can be used.\n",
    "\n",
    "We make use of the standard logging levels DEBUG, INFO, WARNING, ERROR, CRITICAL."
   ]
  },
  {
   "cell_type": "code",
   "execution_count": 1,
   "id": "narrative-serve",
   "metadata": {
    "tags": []
   },
   "outputs": [],
   "source": [
    "import logging\n",
    "import sys\n",
    "from pathlib import Path\n",
    "\n",
    "import numpy as np\n",
    "import pandas as pd\n",
    "\n",
    "import locan as lc"
   ]
  },
  {
   "cell_type": "code",
   "execution_count": 2,
   "id": "graphic-means",
   "metadata": {
    "tags": []
   },
   "outputs": [
    {
     "name": "stdout",
     "output_type": "stream",
     "text": [
      "\n",
      "Locan:\n",
      "   version: 0.7.dev7+gb690986\n",
      "\n",
      "Python:\n",
      "   version: 3.8.8\n",
      "\n",
      "System:\n",
      "python-bits: 64\n",
      "    system: Windows\n",
      "   release: 10\n",
      "   version: 10.0.18362\n",
      "   machine: AMD64\n",
      " processor: Intel64 Family 6 Model 142 Stepping 10, GenuineIntel\n",
      " byteorder: little\n",
      "    LC_ALL: None\n",
      "      LANG: None\n",
      "    LOCALE: {'language-code': 'de_DE', 'encoding': 'cp1252'}\n"
     ]
    }
   ],
   "source": [
    "lc.show_versions(dependencies=False, verbose=False)"
   ]
  },
  {
   "cell_type": "markdown",
   "id": "understanding-dryer",
   "metadata": {},
   "source": [
    "## Activate logging"
   ]
  },
  {
   "cell_type": "markdown",
   "id": "complete-strap",
   "metadata": {},
   "source": [
    "In any script or notebook logging has to be enabled e.g. for streaming to stdout.\n",
    "\n",
    "For changing the configuration logging has to be reloaded or the kernel be restarted."
   ]
  },
  {
   "cell_type": "code",
   "execution_count": 3,
   "id": "lyric-patch",
   "metadata": {
    "tags": []
   },
   "outputs": [],
   "source": [
    "logging.basicConfig(stream=sys.stdout, level=logging.INFO, format='%(asctime)s - %(name)s - %(levelname)s - %(message)s')"
   ]
  },
  {
   "cell_type": "markdown",
   "id": "assumed-punishment",
   "metadata": {},
   "source": [
    "A top-level logger has to be instantiated to process any log messages from the library."
   ]
  },
  {
   "cell_type": "code",
   "execution_count": 4,
   "id": "stupid-undergraduate",
   "metadata": {
    "tags": []
   },
   "outputs": [
    {
     "data": {
      "text/plain": [
       "<RootLogger root (INFO)>"
      ]
     },
     "execution_count": 4,
     "metadata": {},
     "output_type": "execute_result"
    }
   ],
   "source": [
    "logger = logging.getLogger()\n",
    "logger"
   ]
  },
  {
   "cell_type": "markdown",
   "id": "consolidated-groove",
   "metadata": {},
   "source": [
    "Further log messages can be added:"
   ]
  },
  {
   "cell_type": "code",
   "execution_count": 5,
   "id": "interior-fundamentals",
   "metadata": {
    "tags": []
   },
   "outputs": [
    {
     "name": "stdout",
     "output_type": "stream",
     "text": [
      "2021-03-20 08:04:58,607 - root - INFO - test\n"
     ]
    }
   ],
   "source": [
    "logger.info(\"test\")"
   ]
  },
  {
   "cell_type": "markdown",
   "id": "advisory-renewal",
   "metadata": {},
   "source": [
    "### Handling locan.logger"
   ]
  },
  {
   "cell_type": "markdown",
   "id": "difficult-piano",
   "metadata": {},
   "source": [
    "To change the filter level of locan log records, use an instance of the locan logger identified by its module name."
   ]
  },
  {
   "cell_type": "code",
   "execution_count": 6,
   "id": "valuable-momentum",
   "metadata": {
    "tags": []
   },
   "outputs": [
    {
     "data": {
      "text/plain": [
       "<Logger locan (INFO)>"
      ]
     },
     "execution_count": 6,
     "metadata": {},
     "output_type": "execute_result"
    }
   ],
   "source": [
    "locan_logger = logging.getLogger('locan')\n",
    "locan_logger.setLevel(logging.INFO)\n",
    "locan_logger"
   ]
  },
  {
   "cell_type": "markdown",
   "id": "determined-semiconductor",
   "metadata": {},
   "source": [
    "Changing the level of the locan logger to `logging.WARN` or higher, will switch off most locan log records."
   ]
  },
  {
   "cell_type": "raw",
   "id": "certain-murray",
   "metadata": {},
   "source": [
    "locan_logger.setLevel(logging.WARN)\n",
    "locan_logger"
   ]
  },
  {
   "cell_type": "markdown",
   "id": "willing-banking",
   "metadata": {},
   "source": [
    "## Logging in locan"
   ]
  },
  {
   "cell_type": "code",
   "execution_count": 7,
   "id": "electoral-championship",
   "metadata": {
    "tags": []
   },
   "outputs": [
    {
     "name": "stdout",
     "output_type": "stream",
     "text": [
      "identifier: \"1\"\n",
      "creation_date: \"2021-03-20 08:05:03 +0100\"\n",
      "source: SIMULATION\n",
      "state: RAW\n",
      "history {\n",
      "  name: \"simulate_tracks\"\n",
      "  parameter: \"{\\'n_steps\\': 100, \\'ranges\\': ((0, 1000), (0, 1000)), \\'diffusion_constant\\': 1, \\'time_step\\': 10, \\'seed\\': 1, \\'n_walks\\': 5}\"\n",
      "}\n",
      "element_count: 500\n",
      "frame_count: 100\n",
      "\n"
     ]
    }
   ],
   "source": [
    "dat = lc.simulate_tracks(n_walks=5, n_steps=100, ranges=((0,1000),(0,1000)),\n",
    "                      diffusion_constant=1, seed=1)\n",
    "\n",
    "dat.print_meta()"
   ]
  },
  {
   "cell_type": "code",
   "execution_count": 8,
   "id": "integrated-spice",
   "metadata": {
    "tags": []
   },
   "outputs": [
    {
     "name": "stdout",
     "output_type": "stream",
     "text": [
      "2021-03-20 08:05:04,758 - locan.analysis.localization_precision - WARNING - Locdata is empty.\n"
     ]
    }
   ],
   "source": [
    "lp = lc.LocalizationPrecision().compute(locdata=lc.LocData())"
   ]
  },
  {
   "cell_type": "code",
   "execution_count": 9,
   "id": "configured-swiss",
   "metadata": {
    "tags": []
   },
   "outputs": [
    {
     "name": "stderr",
     "output_type": "stream",
     "text": [
      "Processed frames:: 100%|███████████████████████████████████████████████████████████████████████████████████████████████████████████████████████████████████████| 98/98 [00:01<00:00, 56.73it/s]\n"
     ]
    }
   ],
   "source": [
    "lp = lc.LocalizationPrecision().compute(dat)"
   ]
  },
  {
   "cell_type": "markdown",
   "id": "million-account",
   "metadata": {},
   "source": [
    "### Logging in a pipeline"
   ]
  },
  {
   "cell_type": "code",
   "execution_count": 10,
   "id": "intelligent-stewart",
   "metadata": {
    "tags": []
   },
   "outputs": [],
   "source": [
    "def computation(self, file):\n",
    "    logger.info(f'computation started for file: {file}')\n",
    "    return self"
   ]
  },
  {
   "cell_type": "code",
   "execution_count": 11,
   "id": "contrary-glass",
   "metadata": {
    "tags": []
   },
   "outputs": [
    {
     "name": "stdout",
     "output_type": "stream",
     "text": [
      "2021-03-20 08:05:06,639 - root - INFO - computation started for file: 0\n",
      "2021-03-20 08:05:06,641 - root - INFO - computation started for file: 1\n",
      "2021-03-20 08:05:06,643 - root - INFO - computation started for file: 2\n"
     ]
    }
   ],
   "source": [
    "pipes = [lc.Pipeline(computation=computation, file=file).compute() for file in range(3)]"
   ]
  },
  {
   "cell_type": "markdown",
   "id": "ceramic-aside",
   "metadata": {},
   "source": [
    "Another example how to use logging in analysis pipelines is given by the `computation_test` function."
   ]
  },
  {
   "cell_type": "code",
   "execution_count": 12,
   "id": "classical-consistency",
   "metadata": {
    "tags": []
   },
   "outputs": [
    {
     "name": "stdout",
     "output_type": "stream",
     "text": [
      "2021-03-20 08:05:06,652 - locan.analysis.pipeline - INFO - computation finished for locdata: 0\n",
      "2021-03-20 08:05:06,654 - locan.analysis.pipeline - WARNING - An exception occurred for locdata: 0\n",
      "2021-03-20 08:05:06,657 - locan.analysis.pipeline - INFO - computation finished for locdata: 1\n",
      "2021-03-20 08:05:06,658 - locan.analysis.pipeline - WARNING - An exception occurred for locdata: 1\n",
      "2021-03-20 08:05:06,660 - locan.analysis.pipeline - INFO - computation finished for locdata: 2\n",
      "2021-03-20 08:05:06,663 - locan.analysis.pipeline - WARNING - An exception occurred for locdata: 2\n"
     ]
    }
   ],
   "source": [
    "pipes = [lc.Pipeline(computation=lc.analysis.pipeline.computation_test, locdata=file).compute() for file in range(3)]"
   ]
  },
  {
   "cell_type": "code",
   "execution_count": 13,
   "id": "worst-raleigh",
   "metadata": {
    "tags": []
   },
   "outputs": [
    {
     "name": "stdout",
     "output_type": "stream",
     "text": [
      "def computation_test(self, locdata=None, parameter='test'):\n",
      "    \"\"\" A pipeline definition for testing.\"\"\"\n",
      "    self.locdata = locdata\n",
      "    something = 'changed_value'\n",
      "    logger.debug(f'something has a : {something}')\n",
      "    self.test = parameter\n",
      "    logger.info(f'computation finished for locdata: {locdata}')\n",
      "\n",
      "    try:\n",
      "        raise NotImplementedError\n",
      "    except NotImplementedError:\n",
      "        logger.warning(f'An exception occurred for locdata: {locdata}')\n",
      "\n",
      "    return self\n",
      "\n"
     ]
    }
   ],
   "source": [
    "print(pipes[0].computation_as_string())"
   ]
  },
  {
   "cell_type": "markdown",
   "id": "aggregate-grammar",
   "metadata": {},
   "source": [
    "### Logging in multiprocessing with ray"
   ]
  },
  {
   "cell_type": "markdown",
   "id": "useful-artwork",
   "metadata": {},
   "source": [
    "To enable logging in multiprocessing using ray you need to include a default configuration in the computation function: `logging.basicConfig(level=logging.INFO)`."
   ]
  },
  {
   "cell_type": "raw",
   "id": "hired-charleston",
   "metadata": {},
   "source": [
    "def computation(self, file):\n",
    "    logging.basicConfig(level=logging.INFO)\n",
    "    logger.info(f'computation started for file: {file}')\n",
    "    return self"
   ]
  },
  {
   "cell_type": "raw",
   "id": "popular-being",
   "metadata": {},
   "source": [
    "import ray\n",
    "\n",
    "ray.init()\n",
    "# ray.init(num_cpus = 4)"
   ]
  },
  {
   "cell_type": "raw",
   "id": "flying-visiting",
   "metadata": {},
   "source": [
    "%%time\n",
    "@ray.remote\n",
    "def worker(file):\n",
    "    pipe = lc.Pipeline(computation=computation, file=file).compute()\n",
    "    return pipe\n",
    "\n",
    "futures = [worker.remote(file) for file in range(3)]\n",
    "pipes = ray.get(futures)\n",
    "len(pipes)"
   ]
  },
  {
   "cell_type": "raw",
   "id": "american-texture",
   "metadata": {},
   "source": [
    "# Output:\n",
    "Wall time: 19 ms\n",
    "\n",
    "3\n",
    "\n",
    "(pid=86724) INFO:root:computation started for file: 2\n",
    "(pid=86888) INFO:root:computation started for file: 1\n",
    "(pid=88880) INFO:root:computation started for file: 0"
   ]
  },
  {
   "cell_type": "markdown",
   "id": "municipal-hepatitis",
   "metadata": {},
   "source": [
    "## Logging in locan - third party libraries"
   ]
  },
  {
   "cell_type": "markdown",
   "id": "metallic-maintenance",
   "metadata": {},
   "source": [
    "Some third-party libraries provide their own logging system. Typically the individual loggers can be imported and modified."
   ]
  },
  {
   "cell_type": "code",
   "execution_count": 14,
   "id": "democratic-speech",
   "metadata": {
    "tags": []
   },
   "outputs": [],
   "source": [
    "import trackpy as tr"
   ]
  },
  {
   "cell_type": "code",
   "execution_count": 15,
   "id": "ceramic-values",
   "metadata": {
    "tags": []
   },
   "outputs": [
    {
     "data": {
      "text/plain": [
       "<Logger trackpy (INFO)>"
      ]
     },
     "execution_count": 15,
     "metadata": {},
     "output_type": "execute_result"
    }
   ],
   "source": [
    "tr.logger"
   ]
  },
  {
   "cell_type": "markdown",
   "id": "hollow-accounting",
   "metadata": {},
   "source": [
    "alternatively"
   ]
  },
  {
   "cell_type": "code",
   "execution_count": 16,
   "id": "agricultural-prevention",
   "metadata": {
    "tags": []
   },
   "outputs": [
    {
     "data": {
      "text/plain": [
       "<Logger trackpy (INFO)>"
      ]
     },
     "execution_count": 16,
     "metadata": {},
     "output_type": "execute_result"
    }
   ],
   "source": [
    "trackpy_logger = logging.getLogger('trackpy')\n",
    "trackpy_logger"
   ]
  },
  {
   "cell_type": "markdown",
   "id": "allied-latex",
   "metadata": {},
   "source": [
    "Depending on the library various methods can be used to change the logging level. All of the following can be used."
   ]
  },
  {
   "cell_type": "raw",
   "id": "certain-consultancy",
   "metadata": {},
   "source": [
    "trackpy_logger.setLevel(logging.WARN)"
   ]
  },
  {
   "cell_type": "raw",
   "id": "enhanced-sessions",
   "metadata": {},
   "source": [
    "tr.logger.setLevel(logging.WARN)"
   ]
  },
  {
   "cell_type": "raw",
   "id": "hidden-nomination",
   "metadata": {},
   "source": [
    "tr.quiet()"
   ]
  },
  {
   "cell_type": "raw",
   "id": "nutritional-queen",
   "metadata": {},
   "source": [
    "tr.ignore_logging()  # this switches off the trackpy logging system and forwards all logs up the logger hirarchy."
   ]
  },
  {
   "cell_type": "code",
   "execution_count": 17,
   "id": "registered-omaha",
   "metadata": {
    "tags": []
   },
   "outputs": [
    {
     "name": "stdout",
     "output_type": "stream",
     "text": [
      "Frame 99: 5 trajectories present.\n"
     ]
    }
   ],
   "source": [
    "locdata_new, track_series = lc.track(dat, search_range=5)"
   ]
  }
 ],
 "metadata": {
  "kernelspec": {
   "display_name": "Python 3",
   "language": "python",
   "name": "python3"
  },
  "language_info": {
   "codemirror_mode": {
    "name": "ipython",
    "version": 3
   },
   "file_extension": ".py",
   "mimetype": "text/x-python",
   "name": "python",
   "nbconvert_exporter": "python",
   "pygments_lexer": "ipython3",
   "version": "3.8.8"
  },
  "widgets": {
   "application/vnd.jupyter.widget-state+json": {
    "state": {},
    "version_major": 2,
    "version_minor": 0
   }
  }
 },
 "nbformat": 4,
 "nbformat_minor": 5
}
