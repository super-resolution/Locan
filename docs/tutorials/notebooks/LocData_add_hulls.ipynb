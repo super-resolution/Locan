{
 "cells": [
  {
   "cell_type": "markdown",
   "metadata": {},
   "source": [
    "# Tutorial about computing hulls for LocData"
   ]
  },
  {
   "cell_type": "markdown",
   "metadata": {},
   "source": [
    "For each set of localizations with 2D or 3D spatial coordinates various hull can be computed. A hull can be the minimal bounding box, the oriented minimal bounding box, the convex hull, or an alpha shape. \n",
    "\n",
    "You can trigger computation of specific hull objects using a specific hull class or from the corresponding LocData attribute."
   ]
  },
  {
   "cell_type": "code",
   "execution_count": 1,
   "metadata": {
    "execution": {
     "iopub.execute_input": "2021-03-04T12:47:09.826129Z",
     "iopub.status.busy": "2021-03-04T12:47:09.826129Z",
     "iopub.status.idle": "2021-03-04T12:47:16.028401Z",
     "shell.execute_reply": "2021-03-04T12:47:16.029439Z"
    }
   },
   "outputs": [],
   "source": [
    "from pathlib import Path\n",
    "\n",
    "%matplotlib inline\n",
    "\n",
    "import numpy as np\n",
    "import pandas as pd\n",
    "import matplotlib.pyplot as plt\n",
    "\n",
    "import surepy as sp\n",
    "from surepy.data.hulls import BoundingBox, ConvexHull, OrientedBoundingBox"
   ]
  },
  {
   "cell_type": "code",
   "execution_count": 2,
   "metadata": {
    "execution": {
     "iopub.execute_input": "2021-03-04T12:47:16.033433Z",
     "iopub.status.busy": "2021-03-04T12:47:16.033433Z",
     "iopub.status.idle": "2021-03-04T12:47:16.060444Z",
     "shell.execute_reply": "2021-03-04T12:47:16.060444Z"
    }
   },
   "outputs": [
    {
     "name": "stdout",
     "output_type": "stream",
     "text": [
      "\n",
      "Surepy:\n",
      "   version: 0.7.dev3+gb9aca40\n",
      "\n",
      "Python:\n",
      "   version: 3.8.8\n"
     ]
    }
   ],
   "source": [
    "sp.show_versions(system=False, dependencies=False, verbose=False)"
   ]
  },
  {
   "cell_type": "markdown",
   "metadata": {},
   "source": [
    "## Some localization data"
   ]
  },
  {
   "cell_type": "code",
   "execution_count": 3,
   "metadata": {
    "collapsed": false,
    "execution": {
     "iopub.execute_input": "2021-03-04T12:47:16.069446Z",
     "iopub.status.busy": "2021-03-04T12:47:16.068446Z",
     "iopub.status.idle": "2021-03-04T12:47:16.074446Z",
     "shell.execute_reply": "2021-03-04T12:47:16.074446Z"
    },
    "jupyter": {
     "outputs_hidden": false
    }
   },
   "outputs": [
    {
     "name": "stdout",
     "output_type": "stream",
     "text": [
      "identifier: \"1\"\n",
      "comment: \"\"\n",
      "creation_date: \"2021-03-04 13:47:16 +0100\"\n",
      "modification_date: \"\"\n",
      "source: SIMULATION\n",
      "state: RAW\n",
      "element_count: 30\n",
      "frame_count: 0\n",
      "file_type: UNKNOWN_FILE_TYPE\n",
      "file_path: \"\"\n",
      "\n"
     ]
    }
   ],
   "source": [
    "locdata = sp.simulate_Thomas(n_samples=30, n_features=2, centers=3, feature_range=(0, 100), cluster_std=2, seed=0)\n",
    "\n",
    "locdata.print_summary()"
   ]
  },
  {
   "cell_type": "code",
   "execution_count": 4,
   "metadata": {
    "execution": {
     "iopub.execute_input": "2021-03-04T12:47:16.092479Z",
     "iopub.status.busy": "2021-03-04T12:47:16.092479Z",
     "iopub.status.idle": "2021-03-04T12:47:16.303570Z",
     "shell.execute_reply": "2021-03-04T12:47:16.302533Z"
    }
   },
   "outputs": [
    {
     "data": {
      "image/png": "[encoded data removed]",
      "text/plain": [
       "<Figure size 432x288 with 1 Axes>"
      ]
     },
     "metadata": {
      "needs_background": "light"
     },
     "output_type": "display_data"
    }
   ],
   "source": [
    "fig, ax = plt.subplots(nrows=1, ncols=1)\n",
    "locdata.data.plot.scatter(x='position_x', y='position_y', ax=ax, color='Blue', label='locdata')\n",
    "plt.show()"
   ]
  },
  {
   "cell_type": "markdown",
   "metadata": {},
   "source": [
    "### Minimal bounding box for spatial coordinates"
   ]
  },
  {
   "cell_type": "code",
   "execution_count": 5,
   "metadata": {
    "execution": {
     "iopub.execute_input": "2021-03-04T12:47:16.312553Z",
     "iopub.status.busy": "2021-03-04T12:47:16.311535Z",
     "iopub.status.idle": "2021-03-04T12:47:16.336531Z",
     "shell.execute_reply": "2021-03-04T12:47:16.336531Z"
    }
   },
   "outputs": [
    {
     "name": "stdout",
     "output_type": "stream",
     "text": [
      "dimension:  2\n",
      "hull:  [[39.13768424 50.52672536]\n",
      " [63.34189604 74.42748365]]\n",
      "width:  [24.2042118  23.90075829]\n",
      "vertices:  [[39.13768424 63.34189604]\n",
      " [50.52672536 74.42748365]]\n",
      "region_measure:  578.4990157124165\n",
      "subregion_measure:  96.2099401700656\n"
     ]
    }
   ],
   "source": [
    "# H = BoundingBox(locdata.coordinates)\n",
    "\n",
    "H = locdata.bounding_box\n",
    "\n",
    "print('dimension: ', H.dimension)\n",
    "print('hull: ', H.hull)\n",
    "print('width: ', H.width)\n",
    "print('vertices: ', H.vertices)\n",
    "print('region_measure: ', H.region_measure)\n",
    "print('subregion_measure: ', H.subregion_measure)"
   ]
  },
  {
   "cell_type": "code",
   "execution_count": 6,
   "metadata": {
    "execution": {
     "iopub.execute_input": "2021-03-04T12:47:16.359532Z",
     "iopub.status.busy": "2021-03-04T12:47:16.359532Z",
     "iopub.status.idle": "2021-03-04T12:47:16.532661Z",
     "shell.execute_reply": "2021-03-04T12:47:16.532661Z"
    }
   },
   "outputs": [
    {
     "data": {
      "image/png": "[encoded data removed]",
      "text/plain": [
       "<Figure size 432x288 with 1 Axes>"
      ]
     },
     "metadata": {
      "needs_background": "light"
     },
     "output_type": "display_data"
    }
   ],
   "source": [
    "fig, ax = plt.subplots(nrows=1, ncols=1)\n",
    "ax.add_patch(locdata.bounding_box.region.as_artist(alpha=0.2))\n",
    "locdata.data.plot.scatter(x='position_x', y='position_y', ax=ax, color='Blue', label='locdata')\n",
    "plt.show()"
   ]
  },
  {
   "cell_type": "markdown",
   "metadata": {},
   "source": [
    "### Oriented minimal bounding box for spatial coordinates"
   ]
  },
  {
   "cell_type": "code",
   "execution_count": 7,
   "metadata": {
    "execution": {
     "iopub.execute_input": "2021-03-04T12:47:16.539662Z",
     "iopub.status.busy": "2021-03-04T12:47:16.538664Z",
     "iopub.status.idle": "2021-03-04T12:47:16.561664Z",
     "shell.execute_reply": "2021-03-04T12:47:16.561664Z"
    }
   },
   "outputs": [
    {
     "name": "stdout",
     "output_type": "stream",
     "text": [
      "dimension:  2\n",
      "hull:  POLYGON ((51.20301750899331 45.60896482535035, 67.6048766698954 56.66174563741688, 54.54581045268547 76.04084746794747, 38.14395129178337 64.98806665588094, 51.20301750899331 45.60896482535035))\n",
      "vertices:  [[51.20301751 45.60896483]\n",
      " [67.60487667 56.66174564]\n",
      " [54.54581045 76.04084747]\n",
      " [38.14395129 64.98806666]\n",
      " [51.20301751 45.60896483]]\n",
      "width:  [19.77839598 23.36854292]\n",
      "region_measure:  462.1922953982271\n",
      "subregion_measure:  86.29387780448057\n"
     ]
    }
   ],
   "source": [
    "# H = OrientedBoundingBox(locdata.coordinates)\n",
    "\n",
    "H = locdata.oriented_bounding_box\n",
    "\n",
    "print('dimension: ', H.dimension)\n",
    "print('hull: ', H.hull)\n",
    "print('vertices: ', H.vertices)\n",
    "print('width: ', H.width)\n",
    "print('region_measure: ', H.region_measure)\n",
    "print('subregion_measure: ', H.subregion_measure)"
   ]
  },
  {
   "cell_type": "code",
   "execution_count": 8,
   "metadata": {
    "execution": {
     "iopub.execute_input": "2021-03-04T12:47:16.580661Z",
     "iopub.status.busy": "2021-03-04T12:47:16.564665Z",
     "iopub.status.idle": "2021-03-04T12:47:16.760659Z",
     "shell.execute_reply": "2021-03-04T12:47:16.759660Z"
    }
   },
   "outputs": [
    {
     "data": {
      "image/png": "[encoded data removed]",
      "text/plain": [
       "<Figure size 432x288 with 1 Axes>"
      ]
     },
     "metadata": {
      "needs_background": "light"
     },
     "output_type": "display_data"
    }
   ],
   "source": [
    "fig, ax = plt.subplots(nrows=1, ncols=1)\n",
    "ax.add_patch(locdata.oriented_bounding_box.region.as_artist(alpha=0.2))\n",
    "locdata.data.plot.scatter(x='position_x', y='position_y', ax=ax, color='Blue', label='locdata')\n",
    "plt.show()"
   ]
  },
  {
   "cell_type": "markdown",
   "metadata": {},
   "source": [
    "### Convex hull for spatial coordinates (scipy)"
   ]
  },
  {
   "cell_type": "code",
   "execution_count": 9,
   "metadata": {
    "execution": {
     "iopub.execute_input": "2021-03-04T12:47:16.767667Z",
     "iopub.status.busy": "2021-03-04T12:47:16.766660Z",
     "iopub.status.idle": "2021-03-04T12:47:16.797694Z",
     "shell.execute_reply": "2021-03-04T12:47:16.797694Z"
    }
   },
   "outputs": [
    {
     "name": "stdout",
     "output_type": "stream",
     "text": [
      "dimension:  2\n",
      "hull:  <scipy.spatial.qhull.ConvexHull object at 0x000002CAC3C2FD90>\n",
      "vertex_indices:  [ 6 20 24  5 17  0 28 10 18]\n",
      "vertices:  [[58.50076611 50.52672536]\n",
      " [63.34189604 57.42703584]\n",
      " [59.42085964 68.61020529]\n",
      " [57.86950854 71.10862011]\n",
      " [55.16943754 74.42748365]\n",
      " [49.77537076 72.82617383]\n",
      " [39.85988921 66.14439202]\n",
      " [39.13768424 64.16393075]\n",
      " [40.73918737 61.1368461 ]]\n",
      "region_measure:  331.8318755540807\n",
      "subregion_measure:  71.30458738022182\n",
      "points on boundary:  9\n",
      "points on boundary relative to all points:  0.3\n"
     ]
    }
   ],
   "source": [
    "# H = ConvexHull(locdata.coordinates, method='scipy')\n",
    "\n",
    "H = locdata.convex_hull\n",
    "\n",
    "print('dimension: ', H.dimension)\n",
    "print('hull: ', H.hull)\n",
    "print('vertex_indices: ', H.vertex_indices)\n",
    "print('vertices: ', H.vertices)\n",
    "print('region_measure: ', H.region_measure)\n",
    "print('subregion_measure: ', H.subregion_measure)\n",
    "print('points on boundary: ', H.points_on_boundary)\n",
    "print('points on boundary relative to all points: ', H.points_on_boundary_rel)"
   ]
  },
  {
   "cell_type": "code",
   "execution_count": 10,
   "metadata": {
    "execution": {
     "iopub.execute_input": "2021-03-04T12:47:16.823697Z",
     "iopub.status.busy": "2021-03-04T12:47:16.816695Z",
     "iopub.status.idle": "2021-03-04T12:47:17.004762Z",
     "shell.execute_reply": "2021-03-04T12:47:17.005762Z"
    }
   },
   "outputs": [
    {
     "data": {
      "image/png": "[encoded data removed]",
      "text/plain": [
       "<Figure size 432x288 with 1 Axes>"
      ]
     },
     "metadata": {
      "needs_background": "light"
     },
     "output_type": "display_data"
    }
   ],
   "source": [
    "fig, ax = plt.subplots(nrows=1, ncols=1)\n",
    "ax.add_patch(locdata.convex_hull.region.as_artist(alpha=0.2))\n",
    "locdata.data.plot.scatter(x='position_x', y='position_y', ax=ax, color='Blue', label='locdata')\n",
    "plt.show()"
   ]
  },
  {
   "cell_type": "markdown",
   "metadata": {},
   "source": [
    "### Convex hull for spatial coordinates (shapely)"
   ]
  },
  {
   "cell_type": "markdown",
   "metadata": {},
   "source": [
    "Some hulls can be computed from different algorithms. If implemented, use the `methods` parameter to specify the algorithm."
   ]
  },
  {
   "cell_type": "code",
   "execution_count": 11,
   "metadata": {
    "execution": {
     "iopub.execute_input": "2021-03-04T12:47:17.012277Z",
     "iopub.status.busy": "2021-03-04T12:47:17.011278Z",
     "iopub.status.idle": "2021-03-04T12:47:17.034278Z",
     "shell.execute_reply": "2021-03-04T12:47:17.034278Z"
    }
   },
   "outputs": [
    {
     "name": "stdout",
     "output_type": "stream",
     "text": [
      "dimension:  2\n",
      "hull:  POLYGON ((58.50076611190416 50.52672536324184, 40.73918736980156 61.13684610200226, 39.13768423877457 64.16393074623767, 39.85988921379062 66.14439201832943, 49.77537076106432 72.82617382812268, 55.16943753505423 74.4274836511679, 57.86950853904769 71.10862010971034, 59.42085964070769 68.61020528804443, 63.3418960358813 57.42703583949026, 58.50076611190416 50.52672536324184))\n",
      "vertices:  [[58.50076611 50.52672536]\n",
      " [40.73918737 61.1368461 ]\n",
      " [39.13768424 64.16393075]\n",
      " [39.85988921 66.14439202]\n",
      " [49.77537076 72.82617383]\n",
      " [55.16943754 74.42748365]\n",
      " [57.86950854 71.10862011]\n",
      " [59.42085964 68.61020529]\n",
      " [63.34189604 57.42703584]]\n",
      "region_measure:  331.83187555408074\n",
      "subregion_measure:  71.30458738022182\n",
      "points on boundary:  9\n",
      "points on boundary relative to all points:  0.3\n"
     ]
    }
   ],
   "source": [
    "H = ConvexHull(locdata.coordinates, method='shapely')\n",
    "\n",
    "print('dimension: ', H.dimension)\n",
    "print('hull: ', H.hull)\n",
    "print('vertices: ', H.vertices)\n",
    "print('region_measure: ', H.region_measure)\n",
    "print('subregion_measure: ', H.subregion_measure)\n",
    "print('points on boundary: ', H.points_on_boundary)\n",
    "print('points on boundary relative to all points: ', H.points_on_boundary_rel)"
   ]
  },
  {
   "cell_type": "code",
   "execution_count": 12,
   "metadata": {
    "execution": {
     "iopub.execute_input": "2021-03-04T12:47:17.053322Z",
     "iopub.status.busy": "2021-03-04T12:47:17.052280Z",
     "iopub.status.idle": "2021-03-04T12:47:17.249627Z",
     "shell.execute_reply": "2021-03-04T12:47:17.249627Z"
    }
   },
   "outputs": [
    {
     "data": {
      "image/png": "[encoded data removed]",
      "text/plain": [
       "<Figure size 432x288 with 1 Axes>"
      ]
     },
     "metadata": {
      "needs_background": "light"
     },
     "output_type": "display_data"
    }
   ],
   "source": [
    "fig, ax = plt.subplots(nrows=1, ncols=1)\n",
    "ax.add_patch(H.region.as_artist(alpha=0.2))\n",
    "locdata.data.plot.scatter(x='position_x', y='position_y', ax=ax, color='Blue', label='locdata')\n",
    "plt.show()"
   ]
  },
  {
   "cell_type": "markdown",
   "metadata": {},
   "source": [
    "### Alpha shape for spatial coordinates"
   ]
  },
  {
   "cell_type": "markdown",
   "metadata": {},
   "source": [
    "The alpha shape depends on a single parameter `alpha` (not to confuse with the alpha to specify opacity in figures). The alpha complex is an alpha-independent representation of all alpha shapes."
   ]
  },
  {
   "cell_type": "markdown",
   "metadata": {},
   "source": [
    "You can get all apha values for which the corresponding alpha shape changes."
   ]
  },
  {
   "cell_type": "code",
   "execution_count": 13,
   "metadata": {
    "execution": {
     "iopub.execute_input": "2021-03-04T12:47:17.256626Z",
     "iopub.status.busy": "2021-03-04T12:47:17.255626Z",
     "iopub.status.idle": "2021-03-04T12:47:17.275625Z",
     "shell.execute_reply": "2021-03-04T12:47:17.274627Z"
    }
   },
   "outputs": [
    {
     "data": {
      "text/plain": [
       "array([ 0.03827137,  0.15750784,  0.18274958,  0.3320945 ,  0.38150146,\n",
       "        0.40345639,  0.44812417,  0.46034217,  0.52248578,  0.52937959,\n",
       "        0.54664466,  0.54960805,  0.5524637 ,  0.55514724,  0.56261506,\n",
       "        0.575794  ,  0.58336837,  0.59698423,  0.60944816,  0.61603479,\n",
       "        0.62381451,  0.63598401,  0.71293257,  0.7790557 ,  0.79382747,\n",
       "        0.80260178,  0.81268647,  0.82716513,  0.82754239,  0.82822763,\n",
       "        0.8368412 ,  0.85211656,  0.86073662,  0.86827329,  0.93579644,\n",
       "        0.94849187,  0.95281604,  0.96627334,  0.98660863,  0.99659525,\n",
       "        1.00331746,  1.00727154,  1.0199998 ,  1.03709795,  1.03919126,\n",
       "        1.03936113,  1.05318913,  1.05401694,  1.05495968,  1.06021923,\n",
       "        1.07256525,  1.0736879 ,  1.10251149,  1.11505917,  1.12010149,\n",
       "        1.16001481,  1.16513931,  1.19494987,  1.21002595,  1.27341626,\n",
       "        1.33144509,  1.33233597,  1.35487908,  1.46752454,  1.46850282,\n",
       "        1.47043929,  1.56180562,  1.57548394,  1.58838808,  1.59344676,\n",
       "        1.65394631,  1.6549663 ,  1.71231231,  1.75240172,  1.82592544,\n",
       "        2.0220166 ,  2.04669189,  2.13923109,  2.22606469,  2.22693587,\n",
       "        2.25057832,  2.25580339,  2.4366457 ,  2.46179539,  2.50417565,\n",
       "        2.568972  ,  2.67179669,  2.75031835,  2.81336762,  2.83858939,\n",
       "        3.03042664,  3.10203436,  3.23843916,  3.25235719,  3.27463021,\n",
       "        3.2985938 ,  3.37472486,  3.43436161,  3.54176041,  3.96254332,\n",
       "        4.17409503,  4.21458253,  5.2490672 ,  5.26768071,  5.27250642,\n",
       "        5.32047437,  5.75056499,  5.75847583,  5.92532289,  5.9536754 ,\n",
       "        5.97835643,  6.86341389,  6.90189095,  7.06772002,  7.17602416,\n",
       "        7.19011831,  7.56892011,  7.65603385,  7.97928998,  8.17846143,\n",
       "        8.50425497,  9.92708399, 10.34466458, 10.61279918, 14.51493217,\n",
       "       15.75622346, 16.92715488,         inf])"
      ]
     },
     "execution_count": 1,
     "metadata": {},
     "output_type": "execute_result"
    }
   ],
   "source": [
    "sp.AlphaComplex(locdata.coordinates).alphas()"
   ]
  },
  {
   "cell_type": "markdown",
   "metadata": {},
   "source": [
    "You can determine an optimal `alpha`, i.e. the smallest `alpha` for which all points are still part of the alpha shape."
   ]
  },
  {
   "cell_type": "code",
   "execution_count": 14,
   "metadata": {
    "execution": {
     "iopub.execute_input": "2021-03-04T12:47:17.281628Z",
     "iopub.status.busy": "2021-03-04T12:47:17.280629Z",
     "iopub.status.idle": "2021-03-04T12:47:17.298625Z",
     "shell.execute_reply": "2021-03-04T12:47:17.297624Z"
    }
   },
   "outputs": [
    {
     "data": {
      "text/plain": [
       "10.344664584980329"
      ]
     },
     "execution_count": 1,
     "metadata": {},
     "output_type": "execute_result"
    }
   ],
   "source": [
    "opt_alpha = sp.AlphaComplex(locdata.coordinates).optimal_alpha()\n",
    "opt_alpha"
   ]
  },
  {
   "cell_type": "code",
   "execution_count": 15,
   "metadata": {
    "execution": {
     "iopub.execute_input": "2021-03-04T12:47:17.304626Z",
     "iopub.status.busy": "2021-03-04T12:47:17.303626Z",
     "iopub.status.idle": "2021-03-04T12:47:17.475627Z",
     "shell.execute_reply": "2021-03-04T12:47:17.475627Z"
    }
   },
   "outputs": [
    {
     "name": "stdout",
     "output_type": "stream",
     "text": [
      "dimension:  2\n",
      "hull:  POLYGON ((63.3418960358813 57.42703583949026, 58.50076611190416 50.52672536324184, 40.73918736980156 61.13684610200226, 39.13768423877457 64.16393074623767, 39.85988921379062 66.14439201832943, 49.77537076106432 72.82617382812268, 55.16943753505423 74.4274836511679, 57.86950853904769 71.10862010971034, 59.42085964070769 68.61020528804443, 63.3418960358813 57.42703583949026))\n",
      "vertex_indices:  [0, 5, 6, 10, 13, 17, 18, 20, 21, 24, 26, 27, 28]\n",
      "vertices:  [[49.77537076 72.82617383]\n",
      " [57.86950854 71.10862011]\n",
      " [58.50076611 50.52672536]\n",
      " [39.13768424 64.16393075]\n",
      " [62.73691897 56.893078  ]\n",
      " [55.16943754 74.42748365]\n",
      " [40.73918737 61.1368461 ]\n",
      " [63.34189604 57.42703584]\n",
      " [60.36785464 54.1139506 ]\n",
      " [59.42085964 68.61020529]\n",
      " [56.86379723 58.38986909]\n",
      " [58.17923168 51.64828243]\n",
      " [39.85988921 66.14439202]]\n",
      "region_measure:  331.83187555408074\n",
      "subregion_measure:  71.30458738022183\n",
      "points in alpha shape:  30\n",
      "points in alpha shape relative to all points:  1.0\n",
      "points on boundary:  13\n",
      "points on boundary relative to all points:  0.43333333333333335\n"
     ]
    }
   ],
   "source": [
    "# H = sp.AlphaShape(opt_alpha, locdata.coordinates)\n",
    "\n",
    "locdata.update_alpha_shape(alpha=opt_alpha)\n",
    "H = locdata.alpha_shape\n",
    "\n",
    "print('dimension: ', H.dimension)\n",
    "print('hull: ', H.hull)\n",
    "print('vertex_indices: ', H.vertex_indices)\n",
    "print('vertices: ', H.vertices)\n",
    "print('region_measure: ', H.region_measure)\n",
    "print('subregion_measure: ', H.subregion_measure)\n",
    "print('points in alpha shape: ', H.n_points_alpha_shape)\n",
    "print('points in alpha shape relative to all points: ', H.n_points_alpha_shape_rel)\n",
    "print('points on boundary: ', H.n_points_on_boundary)\n",
    "print('points on boundary relative to all points: ', H.n_points_on_boundary_rel)"
   ]
  },
  {
   "cell_type": "markdown",
   "metadata": {},
   "source": [
    "The alpha shape is made of different vertex types that can be differentiated as *exterior*, *interior*, *regular* or *singular*."
   ]
  },
  {
   "cell_type": "code",
   "execution_count": 16,
   "metadata": {
    "execution": {
     "iopub.execute_input": "2021-03-04T12:47:17.481626Z",
     "iopub.status.busy": "2021-03-04T12:47:17.481626Z",
     "iopub.status.idle": "2021-03-04T12:47:17.484631Z",
     "shell.execute_reply": "2021-03-04T12:47:17.484631Z"
    }
   },
   "outputs": [],
   "source": [
    "ac_simplices_all = H.alpha_complex.get_alpha_complex_lines(H.alpha, type='all')\n",
    "ac_simplices_exterior = H.alpha_complex.get_alpha_complex_lines(H.alpha, type='exterior')\n",
    "ac_simplices_interior = H.alpha_complex.get_alpha_complex_lines(H.alpha, type='interior')\n",
    "ac_simplices_regular = H.alpha_complex.get_alpha_complex_lines(H.alpha, type='regular')\n",
    "ac_simplices_singular = H.alpha_complex.get_alpha_complex_lines(H.alpha, type='singular')"
   ]
  },
  {
   "cell_type": "code",
   "execution_count": 17,
   "metadata": {
    "execution": {
     "iopub.execute_input": "2021-03-04T12:47:17.537626Z",
     "iopub.status.busy": "2021-03-04T12:47:17.507626Z",
     "iopub.status.idle": "2021-03-04T12:47:18.119667Z",
     "shell.execute_reply": "2021-03-04T12:47:18.119667Z"
    }
   },
   "outputs": [
    {
     "data": {
      "image/png": "[encoded data removed]",
      "text/plain": [
       "<Figure size 432x288 with 1 Axes>"
      ]
     },
     "metadata": {
      "needs_background": "light"
     },
     "output_type": "display_data"
    }
   ],
   "source": [
    "fig, ax = plt.subplots(nrows=1, ncols=1)\n",
    "\n",
    "for simp in ac_simplices_all:\n",
    "    ax.plot(locdata.coordinates[simp, 0], locdata.coordinates[simp, 1], '-b')\n",
    "for simp in ac_simplices_interior:\n",
    "    ax.plot(locdata.coordinates[simp, 0], locdata.coordinates[simp, 1], '--g')\n",
    "for simp in ac_simplices_regular:\n",
    "    ax.plot(locdata.coordinates[simp, 0], locdata.coordinates[simp, 1], '--r')\n",
    "for simp in ac_simplices_singular:\n",
    "    ax.plot(locdata.coordinates[simp, 0], locdata.coordinates[simp, 1], '--y')\n",
    "\n",
    "locdata.data.plot.scatter(x='position_x', y='position_y', ax=ax, color='Blue', label='locdata')\n",
    "plt.show()"
   ]
  },
  {
   "cell_type": "markdown",
   "metadata": {},
   "source": [
    "Often the *regular* representation is good enough."
   ]
  },
  {
   "cell_type": "code",
   "execution_count": 18,
   "metadata": {
    "execution": {
     "iopub.execute_input": "2021-03-04T12:47:18.147665Z",
     "iopub.status.busy": "2021-03-04T12:47:18.146666Z",
     "iopub.status.idle": "2021-03-04T12:47:18.373668Z",
     "shell.execute_reply": "2021-03-04T12:47:18.374667Z"
    }
   },
   "outputs": [
    {
     "data": {
      "image/png": "[encoded data removed]",
      "text/plain": [
       "<Figure size 432x288 with 1 Axes>"
      ]
     },
     "metadata": {
      "needs_background": "light"
     },
     "output_type": "display_data"
    }
   ],
   "source": [
    "fig, ax = plt.subplots(nrows=1, ncols=1)\n",
    "for simp in ac_simplices_regular:\n",
    "    ax.plot(locdata.coordinates[simp, 0], locdata.coordinates[simp, 1], '-r')\n",
    "locdata.data.plot.scatter(x='position_x', y='position_y', ax=ax, color='Blue', label='locdata')\n",
    "plt.show()"
   ]
  },
  {
   "cell_type": "markdown",
   "metadata": {},
   "source": [
    "You can get the connected components as `RoiRegion`."
   ]
  },
  {
   "cell_type": "code",
   "execution_count": 19,
   "metadata": {
    "execution": {
     "iopub.execute_input": "2021-03-04T12:47:18.382664Z",
     "iopub.status.busy": "2021-03-04T12:47:18.379664Z",
     "iopub.status.idle": "2021-03-04T12:47:18.392706Z",
     "shell.execute_reply": "2021-03-04T12:47:18.391666Z"
    }
   },
   "outputs": [
    {
     "data": {
      "text/plain": [
       "[{'region_type': 'shapelyPolygon', 'region_specs': [[[63.3418960358813, 57.42703583949026], [58.50076611190416, 50.52672536324184], [40.73918736980156, 61.13684610200226], [39.13768423877457, 64.16393074623767], [39.859889213790616, 66.14439201832943], [49.775370761064316, 72.82617382812268], [55.16943753505423, 74.4274836511679], [57.869508539047686, 71.10862010971034], [59.42085964070769, 68.61020528804443], [63.3418960358813, 57.42703583949026]], []]}]"
      ]
     },
     "execution_count": 1,
     "metadata": {},
     "output_type": "execute_result"
    }
   ],
   "source": [
    "H.connected_components"
   ]
  },
  {
   "cell_type": "code",
   "execution_count": 20,
   "metadata": {
    "execution": {
     "iopub.execute_input": "2021-03-04T12:47:18.397665Z",
     "iopub.status.busy": "2021-03-04T12:47:18.396665Z",
     "iopub.status.idle": "2021-03-04T12:47:18.407670Z",
     "shell.execute_reply": "2021-03-04T12:47:18.407670Z"
    }
   },
   "outputs": [
    {
     "name": "stdout",
     "output_type": "stream",
     "text": [
      "dimension:  2\n",
      "region_measure:  331.83187555408074\n",
      "subregion_measure:  71.30458738022183\n"
     ]
    }
   ],
   "source": [
    "connected_component_0 = H.connected_components[0]\n",
    "\n",
    "print('dimension: ', connected_component_0.dimension)\n",
    "print('region_measure: ', connected_component_0.region_measure)\n",
    "print('subregion_measure: ', connected_component_0.subregion_measure)"
   ]
  },
  {
   "cell_type": "markdown",
   "metadata": {},
   "source": [
    "The alpha shape for a smaller alpha has multiple connected components."
   ]
  },
  {
   "cell_type": "code",
   "execution_count": 21,
   "metadata": {
    "execution": {
     "iopub.execute_input": "2021-03-04T12:47:18.414670Z",
     "iopub.status.busy": "2021-03-04T12:47:18.413670Z",
     "iopub.status.idle": "2021-03-04T12:47:18.462695Z",
     "shell.execute_reply": "2021-03-04T12:47:18.463696Z"
    }
   },
   "outputs": [
    {
     "name": "stdout",
     "output_type": "stream",
     "text": [
      "dimension:  2\n",
      "hull:  MULTIPOLYGON (((56.86379722591436 58.38986909015327, 63.3418960358813 57.42703583949026, 58.50076611190416 50.52672536324184, 58.1792316770302 51.64828242533174, 56.86379722591436 58.38986909015327)), ((57.86950853904769 71.10862010971034, 59.42085964070769 68.61020528804443, 55.50748579603427 69.8107451586385, 49.77537076106432 72.82617382812268, 55.16943753505423 74.4274836511679, 57.86950853904769 71.10862010971034)), ((40.73918736980156 61.13684610200226, 39.13768423877457 64.16393074623767, 39.85988921379062 66.14439201832943, 42.30911547721316 65.44607504772645, 42.49851437865681 65.19435510214517, 42.72033221839798 63.78584943424909, 40.73918736980156 61.13684610200226)))\n",
      "vertex_indices:  [0, 1, 3, 5, 6, 10, 11, 12, 13, 14, 17, 18, 20, 21, 24, 26, 27, 28]\n",
      "vertices:  [[49.77537076 72.82617383]\n",
      " [42.30911548 65.44607505]\n",
      " [41.34386966 62.22814694]\n",
      " [57.86950854 71.10862011]\n",
      " [58.50076611 50.52672536]\n",
      " [39.13768424 64.16393075]\n",
      " [42.72033222 63.78584943]\n",
      " [42.49851438 65.1943551 ]\n",
      " [62.73691897 56.893078  ]\n",
      " [55.5074858  69.81074516]\n",
      " [55.16943754 74.42748365]\n",
      " [40.73918737 61.1368461 ]\n",
      " [63.34189604 57.42703584]\n",
      " [60.36785464 54.1139506 ]\n",
      " [59.42085964 68.61020529]\n",
      " [56.86379723 58.38986909]\n",
      " [58.17923168 51.64828243]\n",
      " [39.85988921 66.14439202]]\n",
      "region_measure:  58.17747761270081\n",
      "subregion_measure:  59.55848800308342\n",
      "points in alpha shape:  30\n",
      "points in alpha shape relative to all points:  1.0\n",
      "points on boundary:  18\n",
      "points on boundary relative to all points:  0.6\n"
     ]
    }
   ],
   "source": [
    "H = sp.AlphaShape(5, locdata.coordinates)\n",
    "\n",
    "print('dimension: ', H.dimension)\n",
    "print('hull: ', H.hull)\n",
    "print('vertex_indices: ', H.vertex_indices)\n",
    "print('vertices: ', H.vertices)\n",
    "print('region_measure: ', H.region_measure)\n",
    "print('subregion_measure: ', H.subregion_measure)\n",
    "print('points in alpha shape: ', H.n_points_alpha_shape)\n",
    "print('points in alpha shape relative to all points: ', H.n_points_alpha_shape_rel)\n",
    "print('points on boundary: ', H.n_points_on_boundary)\n",
    "print('points on boundary relative to all points: ', H.n_points_on_boundary_rel)"
   ]
  },
  {
   "cell_type": "code",
   "execution_count": 22,
   "metadata": {
    "execution": {
     "iopub.execute_input": "2021-03-04T12:47:18.467666Z",
     "iopub.status.busy": "2021-03-04T12:47:18.467666Z",
     "iopub.status.idle": "2021-03-04T12:47:18.474669Z",
     "shell.execute_reply": "2021-03-04T12:47:18.473668Z"
    }
   },
   "outputs": [
    {
     "data": {
      "image/svg+xml": [
       "<svg xmlns=\"http://www.w3.org/2000/svg\" xmlns:xlink=\"http://www.w3.org/1999/xlink\" width=\"100.0\" height=\"100.0\" viewBox=\"38.1695157668903 49.55855689135757 26.140548740875275 25.837095231694605\" preserveAspectRatio=\"xMinYMin meet\"><g transform=\"matrix(1,0,0,-1,0,124.95420901440974)\"><g><path fill-rule=\"evenodd\" fill=\"#66cc99\" stroke=\"#555555\" stroke-width=\"0.5228109748175055\" opacity=\"0.6\" d=\"M 56.86379722591436,58.38986909015327 L 63.3418960358813,57.42703583949026 L 58.50076611190416,50.52672536324184 L 58.1792316770302,51.648282425331736 L 56.86379722591436,58.38986909015327 z\" /><path fill-rule=\"evenodd\" fill=\"#66cc99\" stroke=\"#555555\" stroke-width=\"0.5228109748175055\" opacity=\"0.6\" d=\"M 57.869508539047686,71.10862010971034 L 59.42085964070769,68.61020528804443 L 55.507485796034274,69.8107451586385 L 49.775370761064316,72.82617382812268 L 55.16943753505423,74.4274836511679 L 57.869508539047686,71.10862010971034 z\" /><path fill-rule=\"evenodd\" fill=\"#66cc99\" stroke=\"#555555\" stroke-width=\"0.5228109748175055\" opacity=\"0.6\" d=\"M 40.73918736980156,61.13684610200226 L 39.13768423877457,64.16393074623767 L 39.859889213790616,66.14439201832943 L 42.30911547721316,65.44607504772645 L 42.49851437865681,65.19435510214517 L 42.72033221839798,63.78584943424909 L 40.73918736980156,61.13684610200226 z\" /></g></g></svg>"
      ],
      "text/plain": [
       "<shapely.geometry.multipolygon.MultiPolygon at 0x2cac3e43af0>"
      ]
     },
     "execution_count": 1,
     "metadata": {},
     "output_type": "execute_result"
    }
   ],
   "source": [
    "H.hull"
   ]
  },
  {
   "cell_type": "code",
   "execution_count": 23,
   "metadata": {
    "execution": {
     "iopub.execute_input": "2021-03-04T12:47:18.479664Z",
     "iopub.status.busy": "2021-03-04T12:47:18.479664Z",
     "iopub.status.idle": "2021-03-04T12:47:18.482688Z",
     "shell.execute_reply": "2021-03-04T12:47:18.482688Z"
    }
   },
   "outputs": [],
   "source": [
    "ac_simplices_all = H.alpha_complex.get_alpha_complex_lines(H.alpha, type='all')\n",
    "ac_simplices_exterior = H.alpha_complex.get_alpha_complex_lines(H.alpha, type='exterior')\n",
    "ac_simplices_interior = H.alpha_complex.get_alpha_complex_lines(H.alpha, type='interior')\n",
    "ac_simplices_regular = H.alpha_complex.get_alpha_complex_lines(H.alpha, type='regular')\n",
    "ac_simplices_singular = H.alpha_complex.get_alpha_complex_lines(H.alpha, type='singular')"
   ]
  },
  {
   "cell_type": "code",
   "execution_count": 24,
   "metadata": {
    "execution": {
     "iopub.execute_input": "2021-03-04T12:47:18.505666Z",
     "iopub.status.busy": "2021-03-04T12:47:18.502668Z",
     "iopub.status.idle": "2021-03-04T12:47:19.509674Z",
     "shell.execute_reply": "2021-03-04T12:47:19.510665Z"
    }
   },
   "outputs": [
    {
     "data": {
      "image/png": "[encoded data removed]",
      "text/plain": [
       "<Figure size 432x288 with 1 Axes>"
      ]
     },
     "metadata": {
      "needs_background": "light"
     },
     "output_type": "display_data"
    }
   ],
   "source": [
    "fig, ax = plt.subplots(nrows=1, ncols=1)\n",
    "\n",
    "for simp in ac_simplices_all:\n",
    "    ax.plot(locdata.coordinates[simp, 0], locdata.coordinates[simp, 1], '-b')\n",
    "for simp in ac_simplices_interior:\n",
    "    ax.plot(locdata.coordinates[simp, 0], locdata.coordinates[simp, 1], '--g')\n",
    "for simp in ac_simplices_regular:\n",
    "    ax.plot(locdata.coordinates[simp, 0], locdata.coordinates[simp, 1], '--r')\n",
    "for simp in ac_simplices_singular:\n",
    "    ax.plot(locdata.coordinates[simp, 0], locdata.coordinates[simp, 1], '--y')\n",
    "\n",
    "locdata.data.plot.scatter(x='position_x', y='position_y', ax=ax, color='Blue', label='locdata')\n",
    "plt.show()"
   ]
  },
  {
   "cell_type": "markdown",
   "metadata": {},
   "source": [
    "Often the *regular* representation is good enough."
   ]
  },
  {
   "cell_type": "code",
   "execution_count": 25,
   "metadata": {
    "execution": {
     "iopub.execute_input": "2021-03-04T12:47:19.541666Z",
     "iopub.status.busy": "2021-03-04T12:47:19.537676Z",
     "iopub.status.idle": "2021-03-04T12:47:19.884696Z",
     "shell.execute_reply": "2021-03-04T12:47:19.883666Z"
    }
   },
   "outputs": [
    {
     "data": {
      "image/png": "[encoded data removed]",
      "text/plain": [
       "<Figure size 432x288 with 1 Axes>"
      ]
     },
     "metadata": {
      "needs_background": "light"
     },
     "output_type": "display_data"
    }
   ],
   "source": [
    "fig, ax = plt.subplots(nrows=1, ncols=1)\n",
    "for simp in ac_simplices_regular:\n",
    "    ax.plot(locdata.coordinates[simp, 0], locdata.coordinates[simp, 1], '-r')\n",
    "locdata.data.plot.scatter(x='position_x', y='position_y', ax=ax, color='Blue', label='locdata')\n",
    "plt.show()"
   ]
  },
  {
   "cell_type": "markdown",
   "metadata": {},
   "source": [
    "You can get the connected components as `RoiRegion`."
   ]
  },
  {
   "cell_type": "code",
   "execution_count": 26,
   "metadata": {
    "execution": {
     "iopub.execute_input": "2021-03-04T12:47:19.892712Z",
     "iopub.status.busy": "2021-03-04T12:47:19.888670Z",
     "iopub.status.idle": "2021-03-04T12:47:19.904666Z",
     "shell.execute_reply": "2021-03-04T12:47:19.906678Z"
    }
   },
   "outputs": [
    {
     "data": {
      "text/plain": [
       "[{'region_type': 'shapelyPolygon', 'region_specs': [[[58.50076611190416, 50.52672536324184], [58.1792316770302, 51.648282425331736], [56.86379722591436, 58.38986909015327], [63.3418960358813, 57.42703583949026], [58.50076611190416, 50.52672536324184]], []]},\n",
       " {'region_type': 'shapelyPolygon', 'region_specs': [[[42.72033221839798, 63.78584943424909], [40.73918736980156, 61.13684610200226], [39.13768423877457, 64.16393074623767], [39.859889213790616, 66.14439201832943], [42.30911547721316, 65.44607504772645], [42.49851437865681, 65.19435510214517], [42.72033221839798, 63.78584943424909]], []]},\n",
       " {'region_type': 'shapelyPolygon', 'region_specs': [[[59.42085964070769, 68.61020528804443], [55.507485796034274, 69.8107451586385], [49.775370761064316, 72.82617382812268], [55.16943753505423, 74.4274836511679], [57.869508539047686, 71.10862010971034], [59.42085964070769, 68.61020528804443]], []]}]"
      ]
     },
     "execution_count": 1,
     "metadata": {},
     "output_type": "execute_result"
    }
   ],
   "source": [
    "H.connected_components"
   ]
  },
  {
   "cell_type": "code",
   "execution_count": 27,
   "metadata": {
    "execution": {
     "iopub.execute_input": "2021-03-04T12:47:19.912666Z",
     "iopub.status.busy": "2021-03-04T12:47:19.912666Z",
     "iopub.status.idle": "2021-03-04T12:47:19.928668Z",
     "shell.execute_reply": "2021-03-04T12:47:19.930666Z"
    }
   },
   "outputs": [
    {
     "name": "stdout",
     "output_type": "stream",
     "text": [
      "dimension:  2\n",
      "region_measure:  25.02720570311703\n",
      "subregion_measure:  23.013885439080667\n"
     ]
    }
   ],
   "source": [
    "connected_component_0 = H.connected_components[0]\n",
    "\n",
    "print('dimension: ', connected_component_0.dimension)\n",
    "print('region_measure: ', connected_component_0.region_measure)\n",
    "print('subregion_measure: ', connected_component_0.subregion_measure)"
   ]
  }
 ],
 "metadata": {
  "kernelspec": {
   "display_name": "Python 3",
   "language": "python",
   "name": "python3"
  },
  "language_info": {
   "codemirror_mode": {
    "name": "ipython",
    "version": 3
   },
   "file_extension": ".py",
   "mimetype": "text/x-python",
   "name": "python",
   "nbconvert_exporter": "python",
   "pygments_lexer": "ipython3",
   "version": "3.8.8"
  },
  "widgets": {
   "application/vnd.jupyter.widget-state+json": {
    "state": {},
    "version_major": 2,
    "version_minor": 0
   }
  }
 },
 "nbformat": 4,
 "nbformat_minor": 4
}
