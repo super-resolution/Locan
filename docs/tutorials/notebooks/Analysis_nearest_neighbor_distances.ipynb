{
 "cells": [
  {
   "cell_type": "markdown",
   "metadata": {},
   "source": [
    "# Tutorial about analysis routines"
   ]
  },
  {
   "cell_type": "markdown",
   "metadata": {},
   "source": [
    "# Nearest neighbor distances"
   ]
  },
  {
   "cell_type": "code",
   "execution_count": 1,
   "metadata": {
    "execution": {
     "iopub.execute_input": "2021-03-04T12:45:42.998334Z",
     "iopub.status.busy": "2021-03-04T12:45:42.997334Z",
     "iopub.status.idle": "2021-03-04T12:45:48.176466Z",
     "shell.execute_reply": "2021-03-04T12:45:48.176466Z"
    }
   },
   "outputs": [],
   "source": [
    "from pathlib import Path\n",
    "\n",
    "%matplotlib inline\n",
    "\n",
    "import matplotlib.pyplot as plt\n",
    "\n",
    "import locan as sp"
   ]
  },
  {
   "cell_type": "code",
   "execution_count": 2,
   "metadata": {
    "execution": {
     "iopub.execute_input": "2021-03-04T12:45:48.180485Z",
     "iopub.status.busy": "2021-03-04T12:45:48.180485Z",
     "iopub.status.idle": "2021-03-04T12:45:48.202793Z",
     "shell.execute_reply": "2021-03-04T12:45:48.202793Z"
    }
   },
   "outputs": [
    {
     "name": "stdout",
     "output_type": "stream",
     "text": [
      "\n",
      "Locan:\n",
      "   version: 0.7.dev3+gb9aca40\n",
      "\n",
      "Python:\n",
      "   version: 3.8.8\n"
     ]
    }
   ],
   "source": [
    "sp.show_versions(system=False, dependencies=False, verbose=False)"
   ]
  },
  {
   "cell_type": "markdown",
   "metadata": {},
   "source": [
    "## Load rapidSTORM data file"
   ]
  },
  {
   "cell_type": "markdown",
   "metadata": {},
   "source": [
    "Identify some data in the test_data directory and provide a path using pathlib.Path"
   ]
  },
  {
   "cell_type": "code",
   "execution_count": 3,
   "metadata": {
    "execution": {
     "iopub.execute_input": "2021-03-04T12:45:48.208793Z",
     "iopub.status.busy": "2021-03-04T12:45:48.205793Z",
     "iopub.status.idle": "2021-03-04T12:45:48.219058Z",
     "shell.execute_reply": "2021-03-04T12:45:48.218012Z"
    }
   },
   "outputs": [
    {
     "name": "stdout",
     "output_type": "stream",
     "text": [
      "c:\\users\\soeren\\mydata\\programming\\python\\projects\\locan\\locan\\tests\\Test_data\\rapidSTORM_dstorm_data.txt \n",
      "\n"
     ]
    }
   ],
   "source": [
    "path = sp.ROOT_DIR / 'tests/Test_data/rapidSTORM_dstorm_data.txt'\n",
    "print(path, '\\n')\n",
    "\n",
    "dat = sp.load_rapidSTORM_file(path=path, nrows=1000)"
   ]
  },
  {
   "cell_type": "markdown",
   "metadata": {},
   "source": [
    "Print information about the data: "
   ]
  },
  {
   "cell_type": "code",
   "execution_count": 4,
   "metadata": {
    "execution": {
     "iopub.execute_input": "2021-03-04T12:45:48.223020Z",
     "iopub.status.busy": "2021-03-04T12:45:48.222020Z",
     "iopub.status.idle": "2021-03-04T12:45:48.237509Z",
     "shell.execute_reply": "2021-03-04T12:45:48.237509Z"
    }
   },
   "outputs": [
    {
     "name": "stdout",
     "output_type": "stream",
     "text": [
      "   position_x  position_y  frame  intensity  chi_square  local_background\n",
      "0     9657.40     24533.5      0   33290.10   1192250.0           767.733\n",
      "1    16754.90     18770.0      0   21275.40   2106810.0           875.461\n",
      "2    14457.60     18582.6      0   20748.70    526031.0           703.370\n",
      "3     6820.58     16662.8      0    8531.77   3179190.0           852.789\n",
      "4    19183.20     22907.2      0   14139.60    448631.0           662.770 \n",
      "\n",
      "Summary:\n",
      "identifier: \"1\"\n",
      "comment: \"\"\n",
      "creation_date: \"2021-03-04 13:45:48 +0100\"\n",
      "modification_date: \"\"\n",
      "source: EXPERIMENT\n",
      "state: RAW\n",
      "element_count: 999\n",
      "frame_count: 48\n",
      "file_type: RAPIDSTORM\n",
      "file_path: \"c:\\\\users\\\\soeren\\\\mydata\\\\programming\\\\python\\\\projects\\\\locan\\\\locan\\\\tests\\\\Test_data\\\\rapidSTORM_dstorm_data.txt\"\n",
      "\n",
      "Properties:\n",
      "{'localization_count': 999, 'position_x': 16066.234912912912, 'position_y': 17550.369092792796, 'region_measure_bb': 1064111469.8204715, 'localization_density_bb': 9.388114199807877e-07, 'subregion_measure_bb': 130483.2086}\n"
     ]
    }
   ],
   "source": [
    "print(dat.data.head(), '\\n')\n",
    "print('Summary:')\n",
    "dat.print_summary()\n",
    "print('Properties:')\n",
    "print(dat.properties)"
   ]
  },
  {
   "cell_type": "markdown",
   "metadata": {},
   "source": [
    "## Visualization"
   ]
  },
  {
   "cell_type": "code",
   "execution_count": 5,
   "metadata": {
    "execution": {
     "iopub.execute_input": "2021-03-04T12:45:48.258512Z",
     "iopub.status.busy": "2021-03-04T12:45:48.257510Z",
     "iopub.status.idle": "2021-03-04T12:45:48.477691Z",
     "shell.execute_reply": "2021-03-04T12:45:48.477691Z"
    }
   },
   "outputs": [
    {
     "data": {
      "text/plain": [
       "<AxesSubplot:title={'center':'counts'}, xlabel='position_x', ylabel='position_y'>"
      ]
     },
     "execution_count": 1,
     "metadata": {},
     "output_type": "execute_result"
    },
    {
     "data": {
      "image/png": "[encoded data removed]",
      "text/plain": [
       "<Figure size 432x288 with 2 Axes>"
      ]
     },
     "metadata": {
      "needs_background": "light"
     },
     "output_type": "display_data"
    }
   ],
   "source": [
    "sp.render_2d(dat, bin_size=1000, rescale=(0,100));"
   ]
  },
  {
   "cell_type": "markdown",
   "metadata": {},
   "source": [
    "## Analyze nearest neighbor distances"
   ]
  },
  {
   "cell_type": "markdown",
   "metadata": {},
   "source": [
    "The k-nearest neighbor distances can be analyzed for all localizations or a random subset."
   ]
  },
  {
   "cell_type": "code",
   "execution_count": 6,
   "metadata": {
    "execution": {
     "iopub.execute_input": "2021-03-04T12:45:48.481693Z",
     "iopub.status.busy": "2021-03-04T12:45:48.481693Z",
     "iopub.status.idle": "2021-03-04T12:45:48.484691Z",
     "shell.execute_reply": "2021-03-04T12:45:48.484691Z"
    }
   },
   "outputs": [],
   "source": [
    "nn = sp.NearestNeighborDistances()"
   ]
  },
  {
   "cell_type": "code",
   "execution_count": 7,
   "metadata": {
    "execution": {
     "iopub.execute_input": "2021-03-04T12:45:48.489690Z",
     "iopub.status.busy": "2021-03-04T12:45:48.489690Z",
     "iopub.status.idle": "2021-03-04T12:45:48.499720Z",
     "shell.execute_reply": "2021-03-04T12:45:48.498692Z"
    }
   },
   "outputs": [
    {
     "data": {
      "text/html": [
       "<div>\n",
       "<style scoped>\n",
       "    .dataframe tbody tr th:only-of-type {\n",
       "        vertical-align: middle;\n",
       "    }\n",
       "\n",
       "    .dataframe tbody tr th {\n",
       "        vertical-align: top;\n",
       "    }\n",
       "\n",
       "    .dataframe thead th {\n",
       "        text-align: right;\n",
       "    }\n",
       "</style>\n",
       "<table border=\"1\" class=\"dataframe\">\n",
       "  <thead>\n",
       "    <tr style=\"text-align: right;\">\n",
       "      <th></th>\n",
       "      <th>nn_distance</th>\n",
       "      <th>nn_index</th>\n",
       "    </tr>\n",
       "  </thead>\n",
       "  <tbody>\n",
       "    <tr>\n",
       "      <th>0</th>\n",
       "      <td>909.435242</td>\n",
       "      <td>276</td>\n",
       "    </tr>\n",
       "    <tr>\n",
       "      <th>1</th>\n",
       "      <td>54.429771</td>\n",
       "      <td>38</td>\n",
       "    </tr>\n",
       "    <tr>\n",
       "      <th>2</th>\n",
       "      <td>5.385165</td>\n",
       "      <td>30</td>\n",
       "    </tr>\n",
       "    <tr>\n",
       "      <th>3</th>\n",
       "      <td>5.047187</td>\n",
       "      <td>706</td>\n",
       "    </tr>\n",
       "    <tr>\n",
       "      <th>4</th>\n",
       "      <td>3.544009</td>\n",
       "      <td>27</td>\n",
       "    </tr>\n",
       "  </tbody>\n",
       "</table>\n",
       "</div>"
      ],
      "text/plain": [
       "   nn_distance  nn_index\n",
       "0   909.435242       276\n",
       "1    54.429771        38\n",
       "2     5.385165        30\n",
       "3     5.047187       706\n",
       "4     3.544009        27"
      ]
     },
     "execution_count": 1,
     "metadata": {},
     "output_type": "execute_result"
    }
   ],
   "source": [
    "nn.compute(dat)\n",
    "nn.results.head()"
   ]
  },
  {
   "cell_type": "markdown",
   "metadata": {},
   "source": [
    "The histogram shows the experimental distribution and for comparision the expectation for a spatial distribution of complete spatial randomness given the experimental localization density (per default relative to the minimum bounding box region)."
   ]
  },
  {
   "cell_type": "code",
   "execution_count": 8,
   "metadata": {
    "execution": {
     "iopub.execute_input": "2021-03-04T12:45:48.513694Z",
     "iopub.status.busy": "2021-03-04T12:45:48.512693Z",
     "iopub.status.idle": "2021-03-04T12:45:49.079306Z",
     "shell.execute_reply": "2021-03-04T12:45:49.079306Z"
    }
   },
   "outputs": [
    {
     "data": {
      "text/plain": [
       "<AxesSubplot:title={'center':'k-Nearest Neigbor Distances\\n (k = 1)'}, xlabel='distance (nm)', ylabel='pdf'>"
      ]
     },
     "execution_count": 1,
     "metadata": {},
     "output_type": "execute_result"
    },
    {
     "data": {
      "image/png": "[encoded data removed]",
      "text/plain": [
       "<Figure size 432x288 with 1 Axes>"
      ]
     },
     "metadata": {
      "needs_background": "light"
     },
     "output_type": "display_data"
    }
   ],
   "source": [
    "nn.hist();"
   ]
  },
  {
   "cell_type": "markdown",
   "metadata": {},
   "source": [
    "The localization_density relative to the minimum bounding box region is retweated by the localization_density attribute."
   ]
  },
  {
   "cell_type": "code",
   "execution_count": 9,
   "metadata": {
    "execution": {
     "iopub.execute_input": "2021-03-04T12:45:49.083303Z",
     "iopub.status.busy": "2021-03-04T12:45:49.083303Z",
     "iopub.status.idle": "2021-03-04T12:45:49.088307Z",
     "shell.execute_reply": "2021-03-04T12:45:49.088307Z"
    }
   },
   "outputs": [
    {
     "data": {
      "text/plain": [
       "9.388114199807877e-07"
      ]
     },
     "execution_count": 1,
     "metadata": {},
     "output_type": "execute_result"
    }
   ],
   "source": [
    "nn.localization_density"
   ]
  },
  {
   "cell_type": "markdown",
   "metadata": {},
   "source": [
    "## Meta data for the analysis procedure"
   ]
  },
  {
   "cell_type": "code",
   "execution_count": 10,
   "metadata": {
    "execution": {
     "iopub.execute_input": "2021-03-04T12:45:49.092305Z",
     "iopub.status.busy": "2021-03-04T12:45:49.091303Z",
     "iopub.status.idle": "2021-03-04T12:45:49.096304Z",
     "shell.execute_reply": "2021-03-04T12:45:49.096304Z"
    }
   },
   "outputs": [
    {
     "data": {
      "text/plain": [
       "identifier: \"1\"\n",
       "creation_date: \"2021-03-04 13:45:48 +0100\"\n",
       "method {\n",
       "  name: \"NearestNeighborDistances\"\n",
       "  parameter: \"{\\'k\\': 1}\"\n",
       "}"
      ]
     },
     "execution_count": 1,
     "metadata": {},
     "output_type": "execute_result"
    }
   ],
   "source": [
    "nn.meta"
   ]
  }
 ],
 "metadata": {
  "kernelspec": {
   "display_name": "Python 3",
   "language": "python",
   "name": "python3"
  },
  "language_info": {
   "codemirror_mode": {
    "name": "ipython",
    "version": 3
   },
   "file_extension": ".py",
   "mimetype": "text/x-python",
   "name": "python",
   "nbconvert_exporter": "python",
   "pygments_lexer": "ipython3",
   "version": "3.8.8"
  }
 },
 "nbformat": 4,
 "nbformat_minor": 4
}
