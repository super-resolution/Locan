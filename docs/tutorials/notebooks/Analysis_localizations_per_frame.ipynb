{
 "cells": [
  {
   "cell_type": "markdown",
   "metadata": {},
   "source": [
    "# Tutorial about typical analysis routines"
   ]
  },
  {
   "cell_type": "markdown",
   "metadata": {},
   "source": [
    "# Localizations per frame"
   ]
  },
  {
   "cell_type": "code",
   "execution_count": 1,
   "metadata": {
    "execution": {
     "iopub.execute_input": "2021-03-04T12:45:05.746902Z",
     "iopub.status.busy": "2021-03-04T12:45:05.746902Z",
     "iopub.status.idle": "2021-03-04T12:45:10.889401Z",
     "shell.execute_reply": "2021-03-04T12:45:10.889401Z"
    }
   },
   "outputs": [],
   "source": [
    "from pathlib import Path\n",
    "\n",
    "%matplotlib inline\n",
    "\n",
    "import matplotlib.pyplot as plt\n",
    "\n",
    "import locan as lc"
   ]
  },
  {
   "cell_type": "code",
   "execution_count": 2,
   "metadata": {
    "execution": {
     "iopub.execute_input": "2021-03-04T12:45:10.893404Z",
     "iopub.status.busy": "2021-03-04T12:45:10.893404Z",
     "iopub.status.idle": "2021-03-04T12:45:10.916631Z",
     "shell.execute_reply": "2021-03-04T12:45:10.916631Z"
    }
   },
   "outputs": [
    {
     "name": "stdout",
     "output_type": "stream",
     "text": [
      "\n",
      "Locan:\n",
      "   version: 0.7.dev3+gb9aca40\n",
      "\n",
      "Python:\n",
      "   version: 3.8.8\n"
     ]
    }
   ],
   "source": [
    "lc.show_versions(system=False, dependencies=False, verbose=False)"
   ]
  },
  {
   "cell_type": "markdown",
   "metadata": {},
   "source": [
    "## Load rapidSTORM data file"
   ]
  },
  {
   "cell_type": "markdown",
   "metadata": {},
   "source": [
    "Identify some data in the test_data directory and provide a path using pathlib.Path"
   ]
  },
  {
   "cell_type": "code",
   "execution_count": 3,
   "metadata": {
    "execution": {
     "iopub.execute_input": "2021-03-04T12:45:10.920629Z",
     "iopub.status.busy": "2021-03-04T12:45:10.919658Z",
     "iopub.status.idle": "2021-03-04T12:45:10.932876Z",
     "shell.execute_reply": "2021-03-04T12:45:10.932876Z"
    }
   },
   "outputs": [
    {
     "name": "stdout",
     "output_type": "stream",
     "text": [
      "c:\\users\\soeren\\mydata\\programming\\python\\projects\\locan\\locan\\tests\\Test_data\\rapidSTORM_dstorm_data.txt \n",
      "\n"
     ]
    }
   ],
   "source": [
    "path = lc.ROOT_DIR / 'tests/Test_data/rapidSTORM_dstorm_data.txt'\n",
    "print(path, '\\n')\n",
    "\n",
    "dat = lc.load_rapidSTORM_file(path=path, nrows=1000)"
   ]
  },
  {
   "cell_type": "markdown",
   "metadata": {},
   "source": [
    "Print information about the data: "
   ]
  },
  {
   "cell_type": "code",
   "execution_count": 4,
   "metadata": {
    "execution": {
     "iopub.execute_input": "2021-03-04T12:45:10.937913Z",
     "iopub.status.busy": "2021-03-04T12:45:10.936877Z",
     "iopub.status.idle": "2021-03-04T12:45:10.953094Z",
     "shell.execute_reply": "2021-03-04T12:45:10.953094Z"
    }
   },
   "outputs": [
    {
     "name": "stdout",
     "output_type": "stream",
     "text": [
      "   position_x  position_y  frame  intensity  chi_square  local_background\n",
      "0     9657.40     24533.5      0   33290.10   1192250.0           767.733\n",
      "1    16754.90     18770.0      0   21275.40   2106810.0           875.461\n",
      "2    14457.60     18582.6      0   20748.70    526031.0           703.370\n",
      "3     6820.58     16662.8      0    8531.77   3179190.0           852.789\n",
      "4    19183.20     22907.2      0   14139.60    448631.0           662.770 \n",
      "\n",
      "Summary:\n",
      "identifier: \"1\"\n",
      "comment: \"\"\n",
      "creation_date: \"2021-03-04 13:45:10 +0100\"\n",
      "modification_date: \"\"\n",
      "source: EXPERIMENT\n",
      "state: RAW\n",
      "element_count: 999\n",
      "frame_count: 48\n",
      "file_type: RAPIDSTORM\n",
      "file_path: \"c:\\\\users\\\\soeren\\\\mydata\\\\programming\\\\python\\\\projects\\\\locan\\\\locan\\\\tests\\\\Test_data\\\\rapidSTORM_dstorm_data.txt\"\n",
      "\n",
      "Properties:\n",
      "{'localization_count': 999, 'position_x': 16066.234912912912, 'position_y': 17550.369092792796, 'region_measure_bb': 1064111469.8204715, 'localization_density_bb': 9.388114199807877e-07, 'subregion_measure_bb': 130483.2086}\n"
     ]
    }
   ],
   "source": [
    "print(dat.data.head(), '\\n')\n",
    "print('Summary:')\n",
    "dat.print_summary()\n",
    "print('Properties:')\n",
    "print(dat.properties)"
   ]
  },
  {
   "cell_type": "markdown",
   "metadata": {},
   "source": [
    "## Visualization"
   ]
  },
  {
   "cell_type": "code",
   "execution_count": 5,
   "metadata": {
    "execution": {
     "iopub.execute_input": "2021-03-04T12:45:10.977065Z",
     "iopub.status.busy": "2021-03-04T12:45:10.957026Z",
     "iopub.status.idle": "2021-03-04T12:45:11.215096Z",
     "shell.execute_reply": "2021-03-04T12:45:11.215096Z"
    }
   },
   "outputs": [
    {
     "data": {
      "text/plain": [
       "<AxesSubplot:title={'center':'counts'}, xlabel='position_x', ylabel='position_y'>"
      ]
     },
     "execution_count": 1,
     "metadata": {},
     "output_type": "execute_result"
    },
    {
     "data": {
      "image/png": "[encoded data removed]",
      "text/plain": [
       "<Figure size 432x288 with 2 Axes>"
      ]
     },
     "metadata": {
      "needs_background": "light"
     },
     "output_type": "display_data"
    }
   ],
   "source": [
    "lc.render_2d(dat, bin_size=1000, rescale=(0,100));"
   ]
  },
  {
   "cell_type": "markdown",
   "metadata": {},
   "source": [
    "### Analyze localizations per frame"
   ]
  },
  {
   "cell_type": "markdown",
   "metadata": {},
   "source": [
    "We have a look at the number of localizations that were detected in each frame. \n",
    "\n",
    "The analysis class Localizations_per_frame provides numerical results, a plot of results versus frame, and a density graph (histogram)."
   ]
  },
  {
   "cell_type": "code",
   "execution_count": 6,
   "metadata": {
    "execution": {
     "iopub.execute_input": "2021-03-04T12:45:11.220097Z",
     "iopub.status.busy": "2021-03-04T12:45:11.219095Z",
     "iopub.status.idle": "2021-03-04T12:45:11.226122Z",
     "shell.execute_reply": "2021-03-04T12:45:11.226122Z"
    }
   },
   "outputs": [
    {
     "data": {
      "text/plain": [
       "LocalizationsPerFrame(norm=None)"
      ]
     },
     "execution_count": 1,
     "metadata": {},
     "output_type": "execute_result"
    }
   ],
   "source": [
    "lpf = lc.LocalizationsPerFrame()\n",
    "lpf.compute(dat)"
   ]
  },
  {
   "cell_type": "code",
   "execution_count": 7,
   "metadata": {
    "execution": {
     "iopub.execute_input": "2021-03-04T12:45:11.231097Z",
     "iopub.status.busy": "2021-03-04T12:45:11.230094Z",
     "iopub.status.idle": "2021-03-04T12:45:11.235097Z",
     "shell.execute_reply": "2021-03-04T12:45:11.235097Z"
    }
   },
   "outputs": [
    {
     "name": "stdout",
     "output_type": "stream",
     "text": [
      "frame\n",
      "0    22.0\n",
      "1    25.0\n",
      "2    21.0\n",
      "3    24.0\n",
      "4    21.0\n",
      "Name: n_localizations, dtype: float64\n"
     ]
    }
   ],
   "source": [
    "print(lpf.results.head())"
   ]
  },
  {
   "cell_type": "markdown",
   "metadata": {},
   "source": [
    "The plot shows results smoothed by a running average according to the specified window."
   ]
  },
  {
   "cell_type": "code",
   "execution_count": 8,
   "metadata": {
    "execution": {
     "iopub.execute_input": "2021-03-04T12:45:11.253561Z",
     "iopub.status.busy": "2021-03-04T12:45:11.252558Z",
     "iopub.status.idle": "2021-03-04T12:45:11.391598Z",
     "shell.execute_reply": "2021-03-04T12:45:11.390560Z"
    }
   },
   "outputs": [
    {
     "data": {
      "text/plain": [
       "<AxesSubplot:title={'center':'Localizations per Frame\\n (window=10)'}, xlabel='frame', ylabel='n_localizations'>"
      ]
     },
     "execution_count": 1,
     "metadata": {},
     "output_type": "execute_result"
    },
    {
     "data": {
      "image/png": "[encoded data removed]",
      "text/plain": [
       "<Figure size 432x288 with 1 Axes>"
      ]
     },
     "metadata": {
      "needs_background": "light"
     },
     "output_type": "display_data"
    }
   ],
   "source": [
    "lpf.plot(window=10);"
   ]
  },
  {
   "cell_type": "markdown",
   "metadata": {},
   "source": [
    "The histogram per default provides automatic bins, is normalized to show a probability density function and estimates a normal distribution."
   ]
  },
  {
   "cell_type": "code",
   "execution_count": 9,
   "metadata": {
    "execution": {
     "iopub.execute_input": "2021-03-04T12:45:11.411558Z",
     "iopub.status.busy": "2021-03-04T12:45:11.410560Z",
     "iopub.status.idle": "2021-03-04T12:45:11.550595Z",
     "shell.execute_reply": "2021-03-04T12:45:11.549557Z"
    }
   },
   "outputs": [
    {
     "data": {
      "text/plain": [
       "<AxesSubplot:title={'center':'Localizations per Frame'}, xlabel='n_localizations', ylabel='PDF'>"
      ]
     },
     "execution_count": 1,
     "metadata": {},
     "output_type": "execute_result"
    },
    {
     "data": {
      "image/png": "[encoded data removed]",
      "text/plain": [
       "<Figure size 432x288 with 1 Axes>"
      ]
     },
     "metadata": {
      "needs_background": "light"
     },
     "output_type": "display_data"
    }
   ],
   "source": [
    "lpf.hist();"
   ]
  },
  {
   "cell_type": "markdown",
   "metadata": {},
   "source": [
    "## Plot normalized values"
   ]
  },
  {
   "cell_type": "markdown",
   "metadata": {},
   "source": [
    "We can normalize the number of localizations to any other LocData property."
   ]
  },
  {
   "cell_type": "code",
   "execution_count": 10,
   "metadata": {
    "execution": {
     "iopub.execute_input": "2021-03-04T12:45:11.554557Z",
     "iopub.status.busy": "2021-03-04T12:45:11.554557Z",
     "iopub.status.idle": "2021-03-04T12:45:11.558559Z",
     "shell.execute_reply": "2021-03-04T12:45:11.558559Z"
    }
   },
   "outputs": [
    {
     "data": {
      "text/plain": [
       "{'localization_count': 999,\n",
       " 'position_x': 16066.234912912912,\n",
       " 'position_y': 17550.369092792796,\n",
       " 'region_measure_bb': 1064111469.8204715,\n",
       " 'localization_density_bb': 9.388114199807877e-07,\n",
       " 'subregion_measure_bb': 130483.2086}"
      ]
     },
     "execution_count": 1,
     "metadata": {},
     "output_type": "execute_result"
    }
   ],
   "source": [
    "dat.properties"
   ]
  },
  {
   "cell_type": "code",
   "execution_count": 11,
   "metadata": {
    "execution": {
     "iopub.execute_input": "2021-03-04T12:45:11.563557Z",
     "iopub.status.busy": "2021-03-04T12:45:11.563557Z",
     "iopub.status.idle": "2021-03-04T12:45:11.566558Z",
     "shell.execute_reply": "2021-03-04T12:45:11.566558Z"
    }
   },
   "outputs": [],
   "source": [
    "lpf = lc.LocalizationsPerFrame(norm='region_measure_bb').compute(dat)"
   ]
  },
  {
   "cell_type": "code",
   "execution_count": 12,
   "metadata": {
    "execution": {
     "iopub.execute_input": "2021-03-04T12:45:11.582558Z",
     "iopub.status.busy": "2021-03-04T12:45:11.581556Z",
     "iopub.status.idle": "2021-03-04T12:45:11.730560Z",
     "shell.execute_reply": "2021-03-04T12:45:11.730560Z"
    }
   },
   "outputs": [
    {
     "data": {
      "text/plain": [
       "<AxesSubplot:title={'center':'Localizations per Frame'}, xlabel='n_localizations / region_measure_bb', ylabel='PDF'>"
      ]
     },
     "execution_count": 1,
     "metadata": {},
     "output_type": "execute_result"
    },
    {
     "data": {
      "image/png": "[encoded data removed]",
      "text/plain": [
       "<Figure size 432x288 with 1 Axes>"
      ]
     },
     "metadata": {
      "needs_background": "light"
     },
     "output_type": "display_data"
    }
   ],
   "source": [
    "lpf.hist();"
   ]
  }
 ],
 "metadata": {
  "kernelspec": {
   "display_name": "Python 3",
   "language": "python",
   "name": "python3"
  },
  "language_info": {
   "codemirror_mode": {
    "name": "ipython",
    "version": 3
   },
   "file_extension": ".py",
   "mimetype": "text/x-python",
   "name": "python",
   "nbconvert_exporter": "python",
   "pygments_lexer": "ipython3",
   "version": "3.8.8"
  }
 },
 "nbformat": 4,
 "nbformat_minor": 4
}
