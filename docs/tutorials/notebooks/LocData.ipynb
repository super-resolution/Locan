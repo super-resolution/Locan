{
 "cells": [
  {
   "cell_type": "markdown",
   "metadata": {},
   "source": [
    "# Tutorial about the LocData class"
   ]
  },
  {
   "cell_type": "code",
   "execution_count": 1,
   "metadata": {
    "execution": {
     "iopub.execute_input": "2021-03-04T12:47:01.857234Z",
     "iopub.status.busy": "2021-03-04T12:47:01.857234Z",
     "iopub.status.idle": "2021-03-04T12:47:06.990964Z",
     "shell.execute_reply": "2021-03-04T12:47:06.989936Z"
    }
   },
   "outputs": [],
   "source": [
    "import numpy as np\n",
    "import pandas as pd\n",
    "\n",
    "import locan as sp"
   ]
  },
  {
   "cell_type": "code",
   "execution_count": 2,
   "metadata": {
    "execution": {
     "iopub.execute_input": "2021-03-04T12:47:06.993940Z",
     "iopub.status.busy": "2021-03-04T12:47:06.993940Z",
     "iopub.status.idle": "2021-03-04T12:47:07.016937Z",
     "shell.execute_reply": "2021-03-04T12:47:07.016937Z"
    }
   },
   "outputs": [
    {
     "name": "stdout",
     "output_type": "stream",
     "text": [
      "\n",
      "Locan:\n",
      "   version: 0.7.dev3+gb9aca40\n",
      "\n",
      "Python:\n",
      "   version: 3.8.8\n"
     ]
    }
   ],
   "source": [
    "sp.show_versions(system=False, dependencies=False, verbose=False)"
   ]
  },
  {
   "cell_type": "markdown",
   "metadata": {},
   "source": [
    "## Sample data"
   ]
  },
  {
   "cell_type": "markdown",
   "metadata": {},
   "source": [
    "A localization has certain properties such as 'Position_x'. A list of localizations can be assembled into a dataframe:"
   ]
  },
  {
   "cell_type": "code",
   "execution_count": 3,
   "metadata": {
    "execution": {
     "iopub.execute_input": "2021-03-04T12:47:07.020941Z",
     "iopub.status.busy": "2021-03-04T12:47:07.020941Z",
     "iopub.status.idle": "2021-03-04T12:47:07.023965Z",
     "shell.execute_reply": "2021-03-04T12:47:07.022973Z"
    }
   },
   "outputs": [],
   "source": [
    "df = pd.DataFrame(\n",
    "    {\n",
    "        'position_x': np.arange(0,10),\n",
    "        'position_y': np.random.random(10),\n",
    "        'frame': np.arange(0,10),\n",
    "    })"
   ]
  },
  {
   "cell_type": "markdown",
   "metadata": {},
   "source": [
    "## Instantiate LocData from a dataframe"
   ]
  },
  {
   "cell_type": "markdown",
   "metadata": {},
   "source": [
    "A LocData object carries localization data together with metadata and aggregated properties for the whole set of localizations.\n",
    "\n",
    "We first instantiate a LocData object from the dataframe:"
   ]
  },
  {
   "cell_type": "code",
   "execution_count": 4,
   "metadata": {
    "execution": {
     "iopub.execute_input": "2021-03-04T12:47:07.029936Z",
     "iopub.status.busy": "2021-03-04T12:47:07.029936Z",
     "iopub.status.idle": "2021-03-04T12:47:07.032941Z",
     "shell.execute_reply": "2021-03-04T12:47:07.031980Z"
    }
   },
   "outputs": [],
   "source": [
    "dat = sp.LocData.from_dataframe(dataframe=df)"
   ]
  },
  {
   "cell_type": "code",
   "execution_count": 5,
   "metadata": {
    "execution": {
     "iopub.execute_input": "2021-03-04T12:47:07.037937Z",
     "iopub.status.busy": "2021-03-04T12:47:07.037937Z",
     "iopub.status.idle": "2021-03-04T12:47:07.041937Z",
     "shell.execute_reply": "2021-03-04T12:47:07.041937Z"
    }
   },
   "outputs": [
    {
     "data": {
      "text/plain": [
       "['alpha_shape',\n",
       " 'bounding_box',\n",
       " 'centroid',\n",
       " 'concat',\n",
       " 'convex_hull',\n",
       " 'coordinate_labels',\n",
       " 'coordinates',\n",
       " 'count',\n",
       " 'data',\n",
       " 'dataframe',\n",
       " 'dimension',\n",
       " 'from_chunks',\n",
       " 'from_collection',\n",
       " 'from_coordinates',\n",
       " 'from_dataframe',\n",
       " 'from_selection',\n",
       " 'indices',\n",
       " 'inertia_moments',\n",
       " 'meta',\n",
       " 'oriented_bounding_box',\n",
       " 'print_meta',\n",
       " 'print_summary',\n",
       " 'properties',\n",
       " 'reduce',\n",
       " 'references',\n",
       " 'region',\n",
       " 'reset',\n",
       " 'update',\n",
       " 'update_alpha_shape',\n",
       " 'update_alpha_shape_in_references',\n",
       " 'update_convex_hulls_in_references',\n",
       " 'update_inertia_moments_in_references',\n",
       " 'update_oriented_bounding_box_in_references']"
      ]
     },
     "execution_count": 1,
     "metadata": {},
     "output_type": "execute_result"
    }
   ],
   "source": [
    "attributes = [x for x in dir(dat) if not x.startswith('_')]\n",
    "attributes"
   ]
  },
  {
   "cell_type": "markdown",
   "metadata": {},
   "source": [
    "## LocData attributes"
   ]
  },
  {
   "cell_type": "markdown",
   "metadata": {},
   "source": [
    "The class variable Locdata.count represents the number of all current LocData instantiations."
   ]
  },
  {
   "cell_type": "code",
   "execution_count": 6,
   "metadata": {
    "execution": {
     "iopub.execute_input": "2021-03-04T12:47:07.044937Z",
     "iopub.status.busy": "2021-03-04T12:47:07.044937Z",
     "iopub.status.idle": "2021-03-04T12:47:07.050937Z",
     "shell.execute_reply": "2021-03-04T12:47:07.050937Z"
    }
   },
   "outputs": [
    {
     "name": "stdout",
     "output_type": "stream",
     "text": [
      "LocData count:  1\n"
     ]
    }
   ],
   "source": [
    "print('LocData count: ', sp.LocData.count)"
   ]
  },
  {
   "cell_type": "markdown",
   "metadata": {},
   "source": [
    "The localization dataset is provided by the data attribute:"
   ]
  },
  {
   "cell_type": "code",
   "execution_count": 7,
   "metadata": {
    "execution": {
     "iopub.execute_input": "2021-03-04T12:47:07.053936Z",
     "iopub.status.busy": "2021-03-04T12:47:07.053936Z",
     "iopub.status.idle": "2021-03-04T12:47:07.060965Z",
     "shell.execute_reply": "2021-03-04T12:47:07.059974Z"
    }
   },
   "outputs": [
    {
     "name": "stdout",
     "output_type": "stream",
     "text": [
      "   position_x  position_y  frame\n",
      "0           0    0.769188      0\n",
      "1           1    0.418971      1\n",
      "2           2    0.227971      2\n",
      "3           3    0.133487      3\n",
      "4           4    0.432302      4\n"
     ]
    }
   ],
   "source": [
    "print(dat.data.head())"
   ]
  },
  {
   "cell_type": "markdown",
   "metadata": {},
   "source": [
    "Aggregated properties are provided by the attribute properties:"
   ]
  },
  {
   "cell_type": "code",
   "execution_count": 8,
   "metadata": {
    "execution": {
     "iopub.execute_input": "2021-03-04T12:47:07.064937Z",
     "iopub.status.busy": "2021-03-04T12:47:07.063964Z",
     "iopub.status.idle": "2021-03-04T12:47:07.067965Z",
     "shell.execute_reply": "2021-03-04T12:47:07.067965Z"
    }
   },
   "outputs": [
    {
     "data": {
      "text/plain": [
       "{'localization_count': 10,\n",
       " 'position_x': 4.5,\n",
       " 'position_y': 0.5108396139999967,\n",
       " 'region_measure_bb': 6.650181060524167,\n",
       " 'localization_density_bb': 1.5037184565335429,\n",
       " 'subregion_measure_bb': 19.477818013449816}"
      ]
     },
     "execution_count": 1,
     "metadata": {},
     "output_type": "execute_result"
    }
   ],
   "source": [
    "dat.properties"
   ]
  },
  {
   "cell_type": "markdown",
   "metadata": {},
   "source": [
    "Since spatial coordinates are quite important one can check on *coordinate_labels* and dimension:"
   ]
  },
  {
   "cell_type": "code",
   "execution_count": 9,
   "metadata": {
    "execution": {
     "iopub.execute_input": "2021-03-04T12:47:07.070937Z",
     "iopub.status.busy": "2021-03-04T12:47:07.070937Z",
     "iopub.status.idle": "2021-03-04T12:47:07.074936Z",
     "shell.execute_reply": "2021-03-04T12:47:07.074936Z"
    }
   },
   "outputs": [
    {
     "data": {
      "text/plain": [
       "['position_x', 'position_y']"
      ]
     },
     "execution_count": 1,
     "metadata": {},
     "output_type": "execute_result"
    }
   ],
   "source": [
    "dat.coordinate_labels"
   ]
  },
  {
   "cell_type": "code",
   "execution_count": 10,
   "metadata": {
    "execution": {
     "iopub.execute_input": "2021-03-04T12:47:07.077970Z",
     "iopub.status.busy": "2021-03-04T12:47:07.076972Z",
     "iopub.status.idle": "2021-03-04T12:47:07.082937Z",
     "shell.execute_reply": "2021-03-04T12:47:07.082937Z"
    }
   },
   "outputs": [
    {
     "data": {
      "text/plain": [
       "2"
      ]
     },
     "execution_count": 1,
     "metadata": {},
     "output_type": "execute_result"
    }
   ],
   "source": [
    "dat.dimension"
   ]
  },
  {
   "cell_type": "markdown",
   "metadata": {},
   "source": [
    "A numpy array of spatial coordinates is returned by:"
   ]
  },
  {
   "cell_type": "code",
   "execution_count": 11,
   "metadata": {
    "execution": {
     "iopub.execute_input": "2021-03-04T12:47:07.087937Z",
     "iopub.status.busy": "2021-03-04T12:47:07.087937Z",
     "iopub.status.idle": "2021-03-04T12:47:07.092136Z",
     "shell.execute_reply": "2021-03-04T12:47:07.092136Z"
    }
   },
   "outputs": [
    {
     "data": {
      "text/plain": [
       "array([[0.        , 0.76918841],\n",
       "       [1.        , 0.41897125],\n",
       "       [2.        , 0.22797103],\n",
       "       [3.        , 0.13348687],\n",
       "       [4.        , 0.43230177],\n",
       "       [5.        , 0.84072741],\n",
       "       [6.        , 0.17349019],\n",
       "       [7.        , 0.74926937],\n",
       "       [8.        , 0.87239587],\n",
       "       [9.        , 0.49059396]])"
      ]
     },
     "execution_count": 1,
     "metadata": {},
     "output_type": "execute_result"
    }
   ],
   "source": [
    "dat.coordinates"
   ]
  },
  {
   "cell_type": "markdown",
   "metadata": {},
   "source": [
    "## Metadata "
   ]
  },
  {
   "cell_type": "markdown",
   "metadata": {},
   "source": [
    "Metadata is provided by the attribute meta and can be printed as"
   ]
  },
  {
   "cell_type": "code",
   "execution_count": 12,
   "metadata": {
    "execution": {
     "iopub.execute_input": "2021-03-04T12:47:07.096136Z",
     "iopub.status.busy": "2021-03-04T12:47:07.095136Z",
     "iopub.status.idle": "2021-03-04T12:47:07.100136Z",
     "shell.execute_reply": "2021-03-04T12:47:07.099137Z"
    },
    "scrolled": true
   },
   "outputs": [
    {
     "name": "stdout",
     "output_type": "stream",
     "text": [
      "identifier: \"1\"\n",
      "creation_date: \"2021-03-04 13:47:07 +0100\"\n",
      "source: DESIGN\n",
      "state: RAW\n",
      "history {\n",
      "  name: \"LocData.from_dataframe\"\n",
      "}\n",
      "element_count: 10\n",
      "frame_count: 10\n",
      "\n"
     ]
    }
   ],
   "source": [
    "dat.print_meta()"
   ]
  },
  {
   "cell_type": "markdown",
   "metadata": {},
   "source": [
    "A summary of the most important metadata is printed as:"
   ]
  },
  {
   "cell_type": "code",
   "execution_count": 13,
   "metadata": {
    "execution": {
     "iopub.execute_input": "2021-03-04T12:47:07.103137Z",
     "iopub.status.busy": "2021-03-04T12:47:07.103137Z",
     "iopub.status.idle": "2021-03-04T12:47:07.107136Z",
     "shell.execute_reply": "2021-03-04T12:47:07.107136Z"
    },
    "scrolled": true
   },
   "outputs": [
    {
     "name": "stdout",
     "output_type": "stream",
     "text": [
      "identifier: \"1\"\n",
      "comment: \"\"\n",
      "creation_date: \"2021-03-04 13:47:07 +0100\"\n",
      "modification_date: \"\"\n",
      "source: DESIGN\n",
      "state: RAW\n",
      "element_count: 10\n",
      "frame_count: 10\n",
      "file_type: UNKNOWN_FILE_TYPE\n",
      "file_path: \"\"\n",
      "\n"
     ]
    }
   ],
   "source": [
    "dat.print_summary()"
   ]
  },
  {
   "cell_type": "markdown",
   "metadata": {},
   "source": [
    "Metadata fields can be printed and changed individually:"
   ]
  },
  {
   "cell_type": "code",
   "execution_count": 14,
   "metadata": {
    "execution": {
     "iopub.execute_input": "2021-03-04T12:47:07.111136Z",
     "iopub.status.busy": "2021-03-04T12:47:07.110135Z",
     "iopub.status.idle": "2021-03-04T12:47:07.116256Z",
     "shell.execute_reply": "2021-03-04T12:47:07.116256Z"
    }
   },
   "outputs": [
    {
     "name": "stdout",
     "output_type": "stream",
     "text": [
      "\n",
      "user comment\n"
     ]
    }
   ],
   "source": [
    "print(dat.meta.comment)\n",
    "dat.meta.comment = 'user comment'\n",
    "print(dat.meta.comment)"
   ]
  },
  {
   "cell_type": "markdown",
   "metadata": {},
   "source": [
    "LocData.meta.map represents a dictionary structure that can be filled by the user. Both key and value have to be strings, if not a TypeError is thrown."
   ]
  },
  {
   "cell_type": "code",
   "execution_count": 15,
   "metadata": {
    "execution": {
     "iopub.execute_input": "2021-03-04T12:47:07.120236Z",
     "iopub.status.busy": "2021-03-04T12:47:07.119236Z",
     "iopub.status.idle": "2021-03-04T12:47:07.125269Z",
     "shell.execute_reply": "2021-03-04T12:47:07.124236Z"
    }
   },
   "outputs": [
    {
     "name": "stdout",
     "output_type": "stream",
     "text": [
      "{}\n",
      "{'user field': 'more information'}\n"
     ]
    }
   ],
   "source": [
    "print(dat.meta.map)\n",
    "dat.meta.map['user field'] = 'more information'\n",
    "print(dat.meta.map)"
   ]
  },
  {
   "cell_type": "markdown",
   "metadata": {},
   "source": [
    "Metadata can also be added at Instantiation:"
   ]
  },
  {
   "cell_type": "code",
   "execution_count": 16,
   "metadata": {
    "execution": {
     "iopub.execute_input": "2021-03-04T12:47:07.131235Z",
     "iopub.status.busy": "2021-03-04T12:47:07.130236Z",
     "iopub.status.idle": "2021-03-04T12:47:07.134223Z",
     "shell.execute_reply": "2021-03-04T12:47:07.134223Z"
    }
   },
   "outputs": [
    {
     "name": "stdout",
     "output_type": "stream",
     "text": [
      "identifier: \"myID_1\"\n",
      "comment: \"my own user comment\"\n",
      "creation_date: \"2021-03-04 13:47:07 +0100\"\n",
      "modification_date: \"\"\n",
      "source: DESIGN\n",
      "state: RAW\n",
      "element_count: 10\n",
      "frame_count: 10\n",
      "file_type: UNKNOWN_FILE_TYPE\n",
      "file_path: \"\"\n",
      "\n"
     ]
    }
   ],
   "source": [
    "dat_2 = sp.LocData.from_dataframe(dataframe=df, meta={'identifier': 'myID_1', \n",
    "                                                   'comment': 'my own user comment'})\n",
    "dat_2.print_summary()"
   ]
  },
  {
   "cell_type": "markdown",
   "metadata": {},
   "source": [
    "## Instantiate locdata from selection"
   ]
  },
  {
   "cell_type": "markdown",
   "metadata": {},
   "source": [
    "A LocData object can also be instantiated from a selection of localizations. In this case the LocData object keeps a reference to the original locdata together with a list of indices (or a slice object)). The new dataset is assembled on request of the data attribute."
   ]
  },
  {
   "cell_type": "markdown",
   "metadata": {},
   "source": [
    "*Typically a selection is derived using a selection method such that using LocData.from_selection() is not often necessary.*"
   ]
  },
  {
   "cell_type": "code",
   "execution_count": 17,
   "metadata": {
    "execution": {
     "iopub.execute_input": "2021-03-04T12:47:07.160222Z",
     "iopub.status.busy": "2021-03-04T12:47:07.159224Z",
     "iopub.status.idle": "2021-03-04T12:47:07.170223Z",
     "shell.execute_reply": "2021-03-04T12:47:07.170223Z"
    }
   },
   "outputs": [
    {
     "name": "stdout",
     "output_type": "stream",
     "text": [
      "count:  3\n",
      "\n",
      "   position_x  position_y  frame\n",
      "1           1    0.418971      1\n",
      "2           2    0.227971      2\n",
      "3           3    0.133487      3\n",
      "4           4    0.432302      4\n"
     ]
    }
   ],
   "source": [
    "dat_2 = sp.LocData.from_selection(dat, indices=[1,2,3,4])\n",
    "dat_3 = sp.LocData.from_selection(dat, indices=[5,6,7,8])\n",
    "\n",
    "print('count: ', sp.LocData.count)\n",
    "print('')\n",
    "print(dat_2.data)"
   ]
  },
  {
   "cell_type": "code",
   "execution_count": 18,
   "metadata": {
    "execution": {
     "iopub.execute_input": "2021-03-04T12:47:07.174232Z",
     "iopub.status.busy": "2021-03-04T12:47:07.173221Z",
     "iopub.status.idle": "2021-03-04T12:47:07.178225Z",
     "shell.execute_reply": "2021-03-04T12:47:07.178225Z"
    }
   },
   "outputs": [
    {
     "name": "stdout",
     "output_type": "stream",
     "text": [
      "identifier: \"3\"\n",
      "comment: \"user comment\"\n",
      "creation_date: \"2021-03-04 13:47:07 +0100\"\n",
      "modification_date: \"2021-03-04 13:47:07 +0100\"\n",
      "source: DESIGN\n",
      "state: MODIFIED\n",
      "element_count: 4\n",
      "frame_count: 4\n",
      "file_type: UNKNOWN_FILE_TYPE\n",
      "file_path: \"\"\n",
      "\n"
     ]
    }
   ],
   "source": [
    "dat_2.print_summary()"
   ]
  },
  {
   "cell_type": "markdown",
   "metadata": {},
   "source": [
    "The reference is kept in a private attribute as are the indices."
   ]
  },
  {
   "cell_type": "code",
   "execution_count": 19,
   "metadata": {
    "execution": {
     "iopub.execute_input": "2021-03-04T12:47:07.181222Z",
     "iopub.status.busy": "2021-03-04T12:47:07.181222Z",
     "iopub.status.idle": "2021-03-04T12:47:07.187251Z",
     "shell.execute_reply": "2021-03-04T12:47:07.186224Z"
    }
   },
   "outputs": [
    {
     "name": "stdout",
     "output_type": "stream",
     "text": [
      "<locan.data.locdata.LocData object at 0x000002404856D340>\n",
      "[1, 2, 3, 4]\n"
     ]
    }
   ],
   "source": [
    "print(dat_2.references)\n",
    "print(dat_2.indices)"
   ]
  },
  {
   "cell_type": "markdown",
   "metadata": {},
   "source": [
    "The reference is the same for both selections."
   ]
  },
  {
   "cell_type": "code",
   "execution_count": 20,
   "metadata": {
    "execution": {
     "iopub.execute_input": "2021-03-04T12:47:07.190224Z",
     "iopub.status.busy": "2021-03-04T12:47:07.190224Z",
     "iopub.status.idle": "2021-03-04T12:47:07.194254Z",
     "shell.execute_reply": "2021-03-04T12:47:07.193223Z"
    }
   },
   "outputs": [
    {
     "name": "stdout",
     "output_type": "stream",
     "text": [
      "True\n"
     ]
    }
   ],
   "source": [
    "print(dat_2.references is dat_3.references)"
   ]
  },
  {
   "cell_type": "markdown",
   "metadata": {},
   "source": [
    "## Instantiate locdata from collection"
   ]
  },
  {
   "cell_type": "markdown",
   "metadata": {},
   "source": [
    "A LocDat object can further be instantiated from a collection of other LocData objects."
   ]
  },
  {
   "cell_type": "code",
   "execution_count": 21,
   "metadata": {
    "execution": {
     "iopub.execute_input": "2021-03-04T12:47:07.235222Z",
     "iopub.status.busy": "2021-03-04T12:47:07.235222Z",
     "iopub.status.idle": "2021-03-04T12:47:07.252223Z",
     "shell.execute_reply": "2021-03-04T12:47:07.251223Z"
    }
   },
   "outputs": [
    {
     "name": "stdout",
     "output_type": "stream",
     "text": [
      "count:  5 \n",
      "\n",
      "   localization_count  position_x  position_y  region_measure_bb  \\\n",
      "0                   3         1.0    0.472044           1.082435   \n",
      "1                   3         4.0    0.468839           1.414481   \n",
      "2                   3         7.0    0.598385           1.397811   \n",
      "\n",
      "   localization_density_bb  subregion_measure_bb  \n",
      "0                 2.771530              5.082435  \n",
      "1                 2.120919              5.414481  \n",
      "2                 2.146212              5.397811   \n",
      "\n",
      "{'localization_count': 3, 'position_x': 4.0, 'position_y': 0.5130891310274004, 'region_measure_bb': 0.7772787650400116, 'localization_density_bb': 3.8596191417188277, 'subregion_measure_bb': 12.259092921680004} \n",
      "\n",
      "identifier: \"my_collection\"\n",
      "comment: \"\"\n",
      "creation_date: \"2021-03-04 13:47:07 +0100\"\n",
      "modification_date: \"\"\n",
      "source: DESIGN\n",
      "state: RAW\n",
      "element_count: 3\n",
      "frame_count: 0\n",
      "file_type: UNKNOWN_FILE_TYPE\n",
      "file_path: \"\"\n",
      "\n"
     ]
    }
   ],
   "source": [
    "del(dat_2, dat_3)\n",
    "\n",
    "dat_1 = sp.LocData.from_selection(dat, indices=[0,1,2])\n",
    "dat_2 = sp.LocData.from_selection(dat, indices=[3,4,5])\n",
    "dat_3 = sp.LocData.from_selection(dat, indices=[6,7,8])\n",
    "dat_c = sp.LocData.from_collection(locdatas=[dat_1, dat_2, dat_3], meta={'identifier': 'my_collection'})\n",
    "\n",
    "print('count: ', sp.LocData.count, '\\n')\n",
    "print(dat_c.data, '\\n')\n",
    "print(dat_c.properties, '\\n')\n",
    "dat_c.print_summary()"
   ]
  },
  {
   "cell_type": "markdown",
   "metadata": {},
   "source": [
    "In this case the reference are also kept in case the original localizations from the collected LocData object are requested."
   ]
  },
  {
   "cell_type": "code",
   "execution_count": 22,
   "metadata": {
    "execution": {
     "iopub.execute_input": "2021-03-04T12:47:07.255222Z",
     "iopub.status.busy": "2021-03-04T12:47:07.254223Z",
     "iopub.status.idle": "2021-03-04T12:47:07.259223Z",
     "shell.execute_reply": "2021-03-04T12:47:07.258222Z"
    }
   },
   "outputs": [
    {
     "name": "stdout",
     "output_type": "stream",
     "text": [
      "[<locan.data.locdata.LocData object at 0x0000024048449F10>, <locan.data.locdata.LocData object at 0x0000024048449FD0>, <locan.data.locdata.LocData object at 0x000002404856D550>]\n"
     ]
    }
   ],
   "source": [
    "print(dat_c.references)"
   ]
  },
  {
   "cell_type": "markdown",
   "metadata": {},
   "source": [
    "In case the collected LocData objects are not needed anymore and should be free for garbage collection the references can be deleted by a dedicated Locdata method"
   ]
  },
  {
   "cell_type": "code",
   "execution_count": 23,
   "metadata": {
    "execution": {
     "iopub.execute_input": "2021-03-04T12:47:07.262243Z",
     "iopub.status.busy": "2021-03-04T12:47:07.262243Z",
     "iopub.status.idle": "2021-03-04T12:47:07.267223Z",
     "shell.execute_reply": "2021-03-04T12:47:07.267223Z"
    }
   },
   "outputs": [
    {
     "name": "stdout",
     "output_type": "stream",
     "text": [
      "None\n"
     ]
    }
   ],
   "source": [
    "dat_c.reduce()\n",
    "print(dat_c.references)"
   ]
  },
  {
   "cell_type": "markdown",
   "metadata": {},
   "source": [
    "## Concatenating LocData objects "
   ]
  },
  {
   "cell_type": "markdown",
   "metadata": {},
   "source": [
    "Lets have a second dataset with localization data:"
   ]
  },
  {
   "cell_type": "code",
   "execution_count": 24,
   "metadata": {
    "execution": {
     "iopub.execute_input": "2021-03-04T12:47:07.275261Z",
     "iopub.status.busy": "2021-03-04T12:47:07.274222Z",
     "iopub.status.idle": "2021-03-04T12:47:07.285223Z",
     "shell.execute_reply": "2021-03-04T12:47:07.285223Z"
    }
   },
   "outputs": [
    {
     "name": "stdout",
     "output_type": "stream",
     "text": [
      "First locdata:\n",
      "   position_x  position_y  frame\n",
      "0           0    0.769188      0\n",
      "1           1    0.418971      1\n",
      "2           2    0.227971      2\n",
      "3           3    0.133487      3\n",
      "4           4    0.432302      4\n",
      "\n",
      "Second locdata:\n",
      "   position_x  position_y  frame\n",
      "0           0    0.740224      0\n",
      "1           1    0.400304      1\n",
      "2           2    0.719866      2\n",
      "3           3    0.774066      3\n",
      "4           4    0.030463      4\n"
     ]
    }
   ],
   "source": [
    "del(dat_2)\n",
    "\n",
    "df_2 = pd.DataFrame(\n",
    "    {\n",
    "        'position_x': np.arange(0,10),\n",
    "        'position_y': np.random.random(10),\n",
    "        'frame': np.arange(0,10),\n",
    "    })\n",
    "\n",
    "dat_2 = sp.LocData.from_dataframe(dataframe=df_2)\n",
    "\n",
    "print('First locdata:')\n",
    "print(dat.data.head())\n",
    "print('')\n",
    "print('Second locdata:')\n",
    "print(dat_2.data.head())"
   ]
  },
  {
   "cell_type": "markdown",
   "metadata": {},
   "source": [
    "In order to combine two sets of localization data into a single LocData object use the class method *LocData.concat*:"
   ]
  },
  {
   "cell_type": "code",
   "execution_count": 25,
   "metadata": {
    "execution": {
     "iopub.execute_input": "2021-03-04T12:47:07.292222Z",
     "iopub.status.busy": "2021-03-04T12:47:07.292222Z",
     "iopub.status.idle": "2021-03-04T12:47:07.302222Z",
     "shell.execute_reply": "2021-03-04T12:47:07.303252Z"
    }
   },
   "outputs": [
    {
     "name": "stdout",
     "output_type": "stream",
     "text": [
      "NUmber of localizations in dat_new:  20\n"
     ]
    },
    {
     "data": {
      "text/html": [
       "<div>\n",
       "<style scoped>\n",
       "    .dataframe tbody tr th:only-of-type {\n",
       "        vertical-align: middle;\n",
       "    }\n",
       "\n",
       "    .dataframe tbody tr th {\n",
       "        vertical-align: top;\n",
       "    }\n",
       "\n",
       "    .dataframe thead th {\n",
       "        text-align: right;\n",
       "    }\n",
       "</style>\n",
       "<table border=\"1\" class=\"dataframe\">\n",
       "  <thead>\n",
       "    <tr style=\"text-align: right;\">\n",
       "      <th></th>\n",
       "      <th>position_x</th>\n",
       "      <th>position_y</th>\n",
       "      <th>frame</th>\n",
       "    </tr>\n",
       "  </thead>\n",
       "  <tbody>\n",
       "    <tr>\n",
       "      <th>0</th>\n",
       "      <td>0</td>\n",
       "      <td>0.769188</td>\n",
       "      <td>0</td>\n",
       "    </tr>\n",
       "    <tr>\n",
       "      <th>1</th>\n",
       "      <td>1</td>\n",
       "      <td>0.418971</td>\n",
       "      <td>1</td>\n",
       "    </tr>\n",
       "    <tr>\n",
       "      <th>2</th>\n",
       "      <td>2</td>\n",
       "      <td>0.227971</td>\n",
       "      <td>2</td>\n",
       "    </tr>\n",
       "    <tr>\n",
       "      <th>3</th>\n",
       "      <td>3</td>\n",
       "      <td>0.133487</td>\n",
       "      <td>3</td>\n",
       "    </tr>\n",
       "    <tr>\n",
       "      <th>4</th>\n",
       "      <td>4</td>\n",
       "      <td>0.432302</td>\n",
       "      <td>4</td>\n",
       "    </tr>\n",
       "  </tbody>\n",
       "</table>\n",
       "</div>"
      ],
      "text/plain": [
       "   position_x  position_y  frame\n",
       "0           0    0.769188      0\n",
       "1           1    0.418971      1\n",
       "2           2    0.227971      2\n",
       "3           3    0.133487      3\n",
       "4           4    0.432302      4"
      ]
     },
     "execution_count": 1,
     "metadata": {},
     "output_type": "execute_result"
    }
   ],
   "source": [
    "dat_new = sp.LocData.concat([dat, dat_2])\n",
    "print(f'NUmber of localizations in dat_new: ', len(dat_new))\n",
    "dat_new.data.head()"
   ]
  },
  {
   "cell_type": "markdown",
   "metadata": {},
   "source": [
    "## Modifying data in place"
   ]
  },
  {
   "cell_type": "markdown",
   "metadata": {},
   "source": [
    "In case localization data has been modified in place, i.e. the dataset attribute is changed, all properties and hulls must be recomputed. This is best done by re-instantiating the LocData object using `LocData.from_dataframe()`; but it can also be done using the `LocData.reset()` function."
   ]
  },
  {
   "cell_type": "code",
   "execution_count": 26,
   "metadata": {
    "execution": {
     "iopub.execute_input": "2021-03-04T12:47:07.311224Z",
     "iopub.status.busy": "2021-03-04T12:47:07.311224Z",
     "iopub.status.idle": "2021-03-04T12:47:07.315223Z",
     "shell.execute_reply": "2021-03-04T12:47:07.314223Z"
    }
   },
   "outputs": [
    {
     "name": "stdout",
     "output_type": "stream",
     "text": [
      "   position_x  position_y  frame\n",
      "0           0    0.160544      0\n",
      "1           1    0.246683      1\n",
      "2           2    0.801481      2\n",
      "3           3    0.257928      3\n",
      "4           4    0.307097      4\n"
     ]
    }
   ],
   "source": [
    "del(df, dat)\n",
    "\n",
    "df = pd.DataFrame(\n",
    "    {\n",
    "        'position_x': np.arange(0,10),\n",
    "        'position_y': np.random.random(10),\n",
    "        'frame': np.arange(0,10),\n",
    "    })\n",
    "\n",
    "dat = sp.LocData.from_dataframe(dataframe=df)\n",
    "\n",
    "print(dat.data.head())"
   ]
  },
  {
   "cell_type": "code",
   "execution_count": 27,
   "metadata": {
    "execution": {
     "iopub.execute_input": "2021-03-04T12:47:07.318222Z",
     "iopub.status.busy": "2021-03-04T12:47:07.318222Z",
     "iopub.status.idle": "2021-03-04T12:47:07.322254Z",
     "shell.execute_reply": "2021-03-04T12:47:07.321222Z"
    }
   },
   "outputs": [
    {
     "data": {
      "text/plain": [
       "array([4.5       , 0.31648899])"
      ]
     },
     "execution_count": 1,
     "metadata": {},
     "output_type": "execute_result"
    }
   ],
   "source": [
    "dat.centroid"
   ]
  },
  {
   "cell_type": "markdown",
   "metadata": {},
   "source": [
    "Now if localization data is changed in place (which you should not do unless you have a good reason), properties and bounding box are not automatically adjusted."
   ]
  },
  {
   "cell_type": "code",
   "execution_count": 28,
   "metadata": {
    "execution": {
     "iopub.execute_input": "2021-03-04T12:47:07.327222Z",
     "iopub.status.busy": "2021-03-04T12:47:07.327222Z",
     "iopub.status.idle": "2021-03-04T12:47:07.331257Z",
     "shell.execute_reply": "2021-03-04T12:47:07.330223Z"
    }
   },
   "outputs": [
    {
     "name": "stdout",
     "output_type": "stream",
     "text": [
      "   position_x  position_y  frame\n",
      "0           0    0.448632      0\n",
      "1           1    0.496115      1\n",
      "2           2    0.180043      2\n",
      "3           3    0.382727      3\n",
      "4           4    0.214865      4\n"
     ]
    }
   ],
   "source": [
    "dat.dataframe = pd.DataFrame(\n",
    "    {\n",
    "        'position_x': np.arange(0,8),\n",
    "        'position_y': np.random.random(8),\n",
    "        'frame': np.arange(0,8),\n",
    "    })\n",
    "\n",
    "print(dat.data.head())"
   ]
  },
  {
   "cell_type": "code",
   "execution_count": 29,
   "metadata": {
    "execution": {
     "iopub.execute_input": "2021-03-04T12:47:07.334221Z",
     "iopub.status.busy": "2021-03-04T12:47:07.334221Z",
     "iopub.status.idle": "2021-03-04T12:47:07.338223Z",
     "shell.execute_reply": "2021-03-04T12:47:07.338223Z"
    }
   },
   "outputs": [
    {
     "data": {
      "text/plain": [
       "array([4.5       , 0.31648899])"
      ]
     },
     "execution_count": 1,
     "metadata": {},
     "output_type": "execute_result"
    }
   ],
   "source": [
    "dat.centroid  # so this returns incorrect values here"
   ]
  },
  {
   "cell_type": "markdown",
   "metadata": {},
   "source": [
    "Update them by re-instantiating a new LocData object:"
   ]
  },
  {
   "cell_type": "code",
   "execution_count": 30,
   "metadata": {
    "execution": {
     "iopub.execute_input": "2021-03-04T12:47:07.343225Z",
     "iopub.status.busy": "2021-03-04T12:47:07.343225Z",
     "iopub.status.idle": "2021-03-04T12:47:07.347223Z",
     "shell.execute_reply": "2021-03-04T12:47:07.346225Z"
    }
   },
   "outputs": [],
   "source": [
    "new_dat = sp.LocData.from_dataframe(dataframe=dat.data)"
   ]
  },
  {
   "cell_type": "code",
   "execution_count": 31,
   "metadata": {
    "execution": {
     "iopub.execute_input": "2021-03-04T12:47:07.350221Z",
     "iopub.status.busy": "2021-03-04T12:47:07.350221Z",
     "iopub.status.idle": "2021-03-04T12:47:07.354253Z",
     "shell.execute_reply": "2021-03-04T12:47:07.353225Z"
    }
   },
   "outputs": [
    {
     "data": {
      "text/plain": [
       "array([3.5       , 0.42199954])"
      ]
     },
     "execution_count": 1,
     "metadata": {},
     "output_type": "execute_result"
    }
   ],
   "source": [
    "new_dat.centroid"
   ]
  },
  {
   "cell_type": "code",
   "execution_count": 32,
   "metadata": {
    "execution": {
     "iopub.execute_input": "2021-03-04T12:47:07.357222Z",
     "iopub.status.busy": "2021-03-04T12:47:07.357222Z",
     "iopub.status.idle": "2021-03-04T12:47:07.361225Z",
     "shell.execute_reply": "2021-03-04T12:47:07.361225Z"
    }
   },
   "outputs": [
    {
     "data": {
      "text/plain": [
       "identifier: \"12\"\n",
       "creation_date: \"2021-03-04 13:47:07 +0100\"\n",
       "source: DESIGN\n",
       "state: RAW\n",
       "history {\n",
       "  name: \"LocData.from_dataframe\"\n",
       "}\n",
       "element_count: 8\n",
       "frame_count: 8"
      ]
     },
     "execution_count": 1,
     "metadata": {},
     "output_type": "execute_result"
    }
   ],
   "source": [
    "new_dat.meta"
   ]
  },
  {
   "cell_type": "markdown",
   "metadata": {},
   "source": [
    "Alternatively you can use `reset()`. In this case, however, metadata is not updated and will provide wrong information.  "
   ]
  },
  {
   "cell_type": "code",
   "execution_count": 33,
   "metadata": {
    "execution": {
     "iopub.execute_input": "2021-03-04T12:47:07.366222Z",
     "iopub.status.busy": "2021-03-04T12:47:07.366222Z",
     "iopub.status.idle": "2021-03-04T12:47:07.369222Z",
     "shell.execute_reply": "2021-03-04T12:47:07.370254Z"
    }
   },
   "outputs": [
    {
     "data": {
      "text/plain": [
       "<locan.data.locdata.LocData at 0x240485f2ee0>"
      ]
     },
     "execution_count": 1,
     "metadata": {},
     "output_type": "execute_result"
    }
   ],
   "source": [
    "dat.reset()"
   ]
  },
  {
   "cell_type": "code",
   "execution_count": 34,
   "metadata": {
    "execution": {
     "iopub.execute_input": "2021-03-04T12:47:07.373223Z",
     "iopub.status.busy": "2021-03-04T12:47:07.373223Z",
     "iopub.status.idle": "2021-03-04T12:47:07.377225Z",
     "shell.execute_reply": "2021-03-04T12:47:07.377225Z"
    }
   },
   "outputs": [
    {
     "data": {
      "text/plain": [
       "array([3.5       , 0.42199954])"
      ]
     },
     "execution_count": 1,
     "metadata": {},
     "output_type": "execute_result"
    }
   ],
   "source": [
    "dat.centroid"
   ]
  },
  {
   "cell_type": "code",
   "execution_count": 35,
   "metadata": {
    "execution": {
     "iopub.execute_input": "2021-03-04T12:47:07.381225Z",
     "iopub.status.busy": "2021-03-04T12:47:07.380225Z",
     "iopub.status.idle": "2021-03-04T12:47:07.383225Z",
     "shell.execute_reply": "2021-03-04T12:47:07.384253Z"
    }
   },
   "outputs": [
    {
     "data": {
      "text/plain": [
       "identifier: \"11\"\n",
       "creation_date: \"2021-03-04 13:47:07 +0100\"\n",
       "source: DESIGN\n",
       "state: RAW\n",
       "history {\n",
       "  name: \"LocData.from_dataframe\"\n",
       "}\n",
       "element_count: 10\n",
       "frame_count: 10"
      ]
     },
     "execution_count": 1,
     "metadata": {},
     "output_type": "execute_result"
    }
   ],
   "source": [
    "dat.meta"
   ]
  },
  {
   "cell_type": "markdown",
   "metadata": {},
   "source": [
    "## Copy LocData"
   ]
  },
  {
   "cell_type": "markdown",
   "metadata": {},
   "source": [
    "Shallow and deep copies can be made from LocData instances. In either case the class variable count and the metadata is not just copied but adjusted accordingly."
   ]
  },
  {
   "cell_type": "code",
   "execution_count": 36,
   "metadata": {
    "execution": {
     "iopub.execute_input": "2021-03-04T12:47:07.387222Z",
     "iopub.status.busy": "2021-03-04T12:47:07.387222Z",
     "iopub.status.idle": "2021-03-04T12:47:07.394227Z",
     "shell.execute_reply": "2021-03-04T12:47:07.394227Z"
    }
   },
   "outputs": [
    {
     "name": "stdout",
     "output_type": "stream",
     "text": [
      "count:  8\n",
      "\n",
      "identifier: \"9\"\n",
      "creation_date: \"2021-03-04 13:47:07 +0100\"\n",
      "source: DESIGN\n",
      "state: RAW\n",
      "history {\n",
      "  name: \"LocData.from_dataframe\"\n",
      "}\n",
      "element_count: 10\n",
      "frame_count: 10\n",
      "\n"
     ]
    }
   ],
   "source": [
    "print('count: ', sp.LocData.count)\n",
    "print('')\n",
    "print(dat_2.meta)"
   ]
  },
  {
   "cell_type": "code",
   "execution_count": 37,
   "metadata": {
    "execution": {
     "iopub.execute_input": "2021-03-04T12:47:07.398223Z",
     "iopub.status.busy": "2021-03-04T12:47:07.397223Z",
     "iopub.status.idle": "2021-03-04T12:47:07.409252Z",
     "shell.execute_reply": "2021-03-04T12:47:07.408223Z"
    }
   },
   "outputs": [
    {
     "name": "stdout",
     "output_type": "stream",
     "text": [
      "count before:  8\n",
      "count after:  10\n"
     ]
    }
   ],
   "source": [
    "from copy import copy, deepcopy\n",
    "\n",
    "print('count before: ', sp.LocData.count)\n",
    "dat_copy = copy(dat_2)\n",
    "dat_deepcopy = deepcopy(dat_2)\n",
    "print('count after: ', sp.LocData.count)"
   ]
  },
  {
   "cell_type": "code",
   "execution_count": 38,
   "metadata": {
    "execution": {
     "iopub.execute_input": "2021-03-04T12:47:07.412222Z",
     "iopub.status.busy": "2021-03-04T12:47:07.412222Z",
     "iopub.status.idle": "2021-03-04T12:47:07.416252Z",
     "shell.execute_reply": "2021-03-04T12:47:07.415225Z"
    }
   },
   "outputs": [
    {
     "name": "stdout",
     "output_type": "stream",
     "text": [
      "identifier: \"13\"\n",
      "creation_date: \"2021-03-04 13:47:07 +0100\"\n",
      "modification_date: \"2021-03-04 13:47:07 +0100\"\n",
      "source: DESIGN\n",
      "state: MODIFIED\n",
      "history {\n",
      "  name: \"LocData.from_dataframe\"\n",
      "}\n",
      "history {\n",
      "  name: \"LocData.copy\"\n",
      "  parameter: \"None\"\n",
      "}\n",
      "ancestor_identifiers: \"9\"\n",
      "element_count: 10\n",
      "frame_count: 10\n",
      "\n"
     ]
    }
   ],
   "source": [
    "print(dat_copy.meta)"
   ]
  },
  {
   "cell_type": "code",
   "execution_count": 39,
   "metadata": {
    "execution": {
     "iopub.execute_input": "2021-03-04T12:47:07.419252Z",
     "iopub.status.busy": "2021-03-04T12:47:07.418253Z",
     "iopub.status.idle": "2021-03-04T12:47:07.423223Z",
     "shell.execute_reply": "2021-03-04T12:47:07.423223Z"
    }
   },
   "outputs": [
    {
     "name": "stdout",
     "output_type": "stream",
     "text": [
      "identifier: \"14\"\n",
      "creation_date: \"2021-03-04 13:47:07 +0100\"\n",
      "modification_date: \"2021-03-04 13:47:07 +0100\"\n",
      "source: DESIGN\n",
      "state: MODIFIED\n",
      "history {\n",
      "  name: \"LocData.from_dataframe\"\n",
      "}\n",
      "history {\n",
      "  name: \"LocData.deepcopy\"\n",
      "  parameter: \"None\"\n",
      "}\n",
      "ancestor_identifiers: \"9\"\n",
      "element_count: 10\n",
      "frame_count: 10\n",
      "\n"
     ]
    }
   ],
   "source": [
    "print(dat_deepcopy.meta)"
   ]
  }
 ],
 "metadata": {
  "kernelspec": {
   "display_name": "Python 3",
   "language": "python",
   "name": "python3"
  },
  "language_info": {
   "codemirror_mode": {
    "name": "ipython",
    "version": 3
   },
   "file_extension": ".py",
   "mimetype": "text/x-python",
   "name": "python",
   "nbconvert_exporter": "python",
   "pygments_lexer": "ipython3",
   "version": "3.8.8"
  },
  "widgets": {
   "application/vnd.jupyter.widget-state+json": {
    "state": {},
    "version_major": 2,
    "version_minor": 0
   }
  }
 },
 "nbformat": 4,
 "nbformat_minor": 4
}
