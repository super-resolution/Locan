{
 "cells": [
  {
   "cell_type": "markdown",
   "metadata": {},
   "source": [
    "# Tutorial about setting up an analysis pipeline and perform batch processing"
   ]
  },
  {
   "cell_type": "markdown",
   "metadata": {},
   "source": [
    "Quite often you experiment with various analysis routines and appropriate parameters and come up with an analysis pipeline. A pipeline procedure then is a script defining analysis steps for a single locdata object (or a single group of corresponding locdatas as for instance used in 2-color measurements).\n",
    "\n",
    "The Pipeline class can be used to combine the pipeline code, metadata and analysis results in a single pickleable object.\n",
    "\n",
    "This pipeline might then be applied to a number of similar datasets. A batch process is such a procedure for running a pipeline over multiple locdata objects and collecting and combing results."
   ]
  },
  {
   "cell_type": "markdown",
   "metadata": {},
   "source": [
    "## Setting things up"
   ]
  },
  {
   "cell_type": "code",
   "execution_count": 1,
   "metadata": {
    "tags": []
   },
   "outputs": [],
   "source": [
    "from pathlib import Path\n",
    "\n",
    "%matplotlib inline\n",
    "\n",
    "import matplotlib.pyplot as plt\n",
    "\n",
    "import locan as sp"
   ]
  },
  {
   "cell_type": "code",
   "execution_count": 2,
   "metadata": {
    "tags": []
   },
   "outputs": [
    {
     "name": "stdout",
     "output_type": "stream",
     "text": [
      "\n",
      "Locan:\n",
      "   version: 0.7.dev7+gb690986\n",
      "\n",
      "Python:\n",
      "   version: 3.8.8\n"
     ]
    }
   ],
   "source": [
    "sp.show_versions(system=False, dependencies=False, verbose=False)"
   ]
  },
  {
   "cell_type": "markdown",
   "metadata": {},
   "source": [
    "## Apply a pipeline of different analysis routines"
   ]
  },
  {
   "cell_type": "markdown",
   "metadata": {},
   "source": [
    "### Load rapidSTORM data file"
   ]
  },
  {
   "cell_type": "code",
   "execution_count": 3,
   "metadata": {
    "tags": []
   },
   "outputs": [
    {
     "name": "stdout",
     "output_type": "stream",
     "text": [
      "c:\\users\\soeren\\mydata\\programming\\python\\projects\\locan\\locan\\tests\\Test_data\\rapidSTORM_dstorm_data.txt\n",
      "identifier: \"1\"\n",
      "comment: \"\"\n",
      "creation_date: \"2021-03-20 08:08:26 +0100\"\n",
      "modification_date: \"\"\n",
      "source: EXPERIMENT\n",
      "state: RAW\n",
      "element_count: 999\n",
      "frame_count: 48\n",
      "file_type: RAPIDSTORM\n",
      "file_path: \"c:\\\\users\\\\soeren\\\\mydata\\\\programming\\\\python\\\\projects\\\\locan\\\\locan\\\\tests\\\\Test_data\\\\rapidSTORM_dstorm_data.txt\"\n",
      "\n"
     ]
    }
   ],
   "source": [
    "path = sp.ROOT_DIR / 'tests/Test_data/rapidSTORM_dstorm_data.txt'\n",
    "print(path)\n",
    "dat = sp.load_rapidSTORM_file(path=path, nrows=1000)\n",
    "dat.print_summary()"
   ]
  },
  {
   "cell_type": "code",
   "execution_count": 4,
   "metadata": {
    "tags": []
   },
   "outputs": [
    {
     "data": {
      "text/plain": [
       "{'localization_count': 999,\n",
       " 'position_x': 16066.234,\n",
       " 'position_y': 17550.37,\n",
       " 'region_measure_bb': 1064111500.0,\n",
       " 'localization_density_bb': 9.388114039419148e-07,\n",
       " 'subregion_measure_bb': 130483.2109375}"
      ]
     },
     "execution_count": 4,
     "metadata": {},
     "output_type": "execute_result"
    }
   ],
   "source": [
    "dat.properties"
   ]
  },
  {
   "cell_type": "markdown",
   "metadata": {},
   "source": [
    "### Set up an analysis procedure"
   ]
  },
  {
   "cell_type": "markdown",
   "metadata": {},
   "source": [
    "First define the analysis procedure (pipeline) in form of a computation function. Make sure the first parameter is the `self` refering to the Pipeline object. Add arbitrary keyword arguments thereafter. When finishing with `return self` the compute method can easily be called with instantiation. "
   ]
  },
  {
   "cell_type": "code",
   "execution_count": 5,
   "metadata": {
    "tags": []
   },
   "outputs": [],
   "source": [
    "def computation(self, locdata, n_localizations_min=4):\n",
    "    \n",
    "    # import required modules\n",
    "    from locan.analysis import LocalizationPrecision\n",
    "    \n",
    "    # prologue\n",
    "    self.file_indicator = locdata.meta.file_path\n",
    "    self.locdata = locdata\n",
    "    \n",
    "    # check requirements\n",
    "    if len(locdata)<=n_localizations_min:\n",
    "        return None\n",
    "    \n",
    "    # compute localization precision\n",
    "    self.lp = LocalizationPrecision().compute(self.locdata)\n",
    "    \n",
    "    return self"
   ]
  },
  {
   "cell_type": "markdown",
   "metadata": {},
   "source": [
    "### Run the analysis procedure"
   ]
  },
  {
   "cell_type": "markdown",
   "metadata": {},
   "source": [
    "Instantiate a Pipeline object and run compute():"
   ]
  },
  {
   "cell_type": "code",
   "execution_count": 6,
   "metadata": {
    "tags": []
   },
   "outputs": [
    {
     "name": "stderr",
     "output_type": "stream",
     "text": [
      "Processed frames:: 100%|███████████████████████████████████████████████████████████████████████████████████████████████████████████████████████████████████████| 46/46 [00:01<00:00, 38.22it/s]\n"
     ]
    },
    {
     "data": {
      "text/plain": [
       "identifier: \"1\"\n",
       "creation_date: \"2021-03-20 08:08:31 +0100\"\n",
       "method {\n",
       "  name: \"Pipeline\"\n",
       "  parameter: \"{\\'computation\\': <function computation at 0x000001E02C569A60>, \\'locdata\\': <locan.data.locdata.LocData object at 0x000001E02C4516D0>, \\'n_localizations_min\\': 4}\"\n",
       "}"
      ]
     },
     "execution_count": 6,
     "metadata": {},
     "output_type": "execute_result"
    }
   ],
   "source": [
    "pipe = sp.Pipeline(computation=computation, locdata=dat, n_localizations_min=4).compute()\n",
    "pipe.meta"
   ]
  },
  {
   "cell_type": "markdown",
   "metadata": {},
   "source": [
    "Results are available from Pipeline object in form of attributes defined in the compute function:"
   ]
  },
  {
   "cell_type": "code",
   "execution_count": 7,
   "metadata": {
    "tags": []
   },
   "outputs": [
    {
     "data": {
      "text/plain": [
       "['computation',\n",
       " 'computation_as_string',\n",
       " 'compute',\n",
       " 'count',\n",
       " 'file_indicator',\n",
       " 'kwargs',\n",
       " 'locdata',\n",
       " 'lp',\n",
       " 'meta',\n",
       " 'parameter',\n",
       " 'report',\n",
       " 'results',\n",
       " 'save_computation']"
      ]
     },
     "execution_count": 7,
     "metadata": {},
     "output_type": "execute_result"
    }
   ],
   "source": [
    "[attr for attr in dir(pipe) if not attr.startswith('__') and not attr.endswith('__')]"
   ]
  },
  {
   "cell_type": "code",
   "execution_count": 8,
   "metadata": {
    "tags": []
   },
   "outputs": [
    {
     "data": {
      "text/html": [
       "<div>\n",
       "<style scoped>\n",
       "    .dataframe tbody tr th:only-of-type {\n",
       "        vertical-align: middle;\n",
       "    }\n",
       "\n",
       "    .dataframe tbody tr th {\n",
       "        vertical-align: top;\n",
       "    }\n",
       "\n",
       "    .dataframe thead th {\n",
       "        text-align: right;\n",
       "    }\n",
       "</style>\n",
       "<table border=\"1\" class=\"dataframe\">\n",
       "  <thead>\n",
       "    <tr style=\"text-align: right;\">\n",
       "      <th></th>\n",
       "      <th>position_delta_x</th>\n",
       "      <th>position_delta_y</th>\n",
       "      <th>position_distance</th>\n",
       "      <th>frame</th>\n",
       "    </tr>\n",
       "  </thead>\n",
       "  <tbody>\n",
       "    <tr>\n",
       "      <th>0</th>\n",
       "      <td>4.599609</td>\n",
       "      <td>-2.800781</td>\n",
       "      <td>5.385237</td>\n",
       "      <td>0</td>\n",
       "    </tr>\n",
       "    <tr>\n",
       "      <th>1</th>\n",
       "      <td>-1.000000</td>\n",
       "      <td>-3.400391</td>\n",
       "      <td>3.544384</td>\n",
       "      <td>0</td>\n",
       "    </tr>\n",
       "    <tr>\n",
       "      <th>2</th>\n",
       "      <td>17.000000</td>\n",
       "      <td>-17.500000</td>\n",
       "      <td>24.397746</td>\n",
       "      <td>0</td>\n",
       "    </tr>\n",
       "    <tr>\n",
       "      <th>3</th>\n",
       "      <td>5.101562</td>\n",
       "      <td>-8.100586</td>\n",
       "      <td>9.573162</td>\n",
       "      <td>0</td>\n",
       "    </tr>\n",
       "    <tr>\n",
       "      <th>4</th>\n",
       "      <td>-14.099609</td>\n",
       "      <td>22.599609</td>\n",
       "      <td>26.637217</td>\n",
       "      <td>0</td>\n",
       "    </tr>\n",
       "  </tbody>\n",
       "</table>\n",
       "</div>"
      ],
      "text/plain": [
       "   position_delta_x  position_delta_y  position_distance  frame\n",
       "0          4.599609         -2.800781           5.385237      0\n",
       "1         -1.000000         -3.400391           3.544384      0\n",
       "2         17.000000        -17.500000          24.397746      0\n",
       "3          5.101562         -8.100586           9.573162      0\n",
       "4        -14.099609         22.599609          26.637217      0"
      ]
     },
     "execution_count": 8,
     "metadata": {},
     "output_type": "execute_result"
    }
   ],
   "source": [
    "pipe.lp.results.head()"
   ]
  },
  {
   "cell_type": "code",
   "execution_count": 9,
   "metadata": {
    "tags": []
   },
   "outputs": [
    {
     "name": "stderr",
     "output_type": "stream",
     "text": [
      "C:\\Miniconda3\\envs\\smlm_analysis\\lib\\site-packages\\scipy\\stats\\_distn_infrastructure.py:1797: RuntimeWarning: divide by zero encountered in log\n",
      "  return log(self._pdf(x, *args))\n"
     ]
    },
    {
     "name": "stdout",
     "output_type": "stream",
     "text": [
      "{'position_delta_x_loc': 0.5793574, 'position_delta_x_scale': 15.016627, 'position_delta_y_loc': -0.028082674, 'position_delta_y_scale': 15.310259, 'position_distance_sigma': 15.169726562500031, 'position_distance_loc': 0, 'position_distance_scale': 1}\n",
      "{'position_delta_x_loc': 0.5793574, 'position_delta_x_scale': 15.016627, 'position_delta_y_loc': -0.028082674, 'position_delta_y_scale': 15.310259, 'position_distance_sigma': 15.169726562500031, 'position_distance_loc': 0, 'position_distance_scale': 1}\n"
     ]
    },
    {
     "data": {
      "image/png": "[encoded data removed]",
      "text/plain": [
       "<Figure size 432x288 with 1 Axes>"
      ]
     },
     "metadata": {
      "needs_background": "light"
     },
     "output_type": "display_data"
    }
   ],
   "source": [
    "pipe.lp.hist();\n",
    "print(pipe.lp.distribution_statistics.parameter_dict())\n",
    "pipe.lp.hist(loc_property='position_delta_x');\n",
    "print(pipe.lp.distribution_statistics.parameter_dict())"
   ]
  },
  {
   "cell_type": "markdown",
   "metadata": {},
   "source": [
    "You can recover the computation procedure:"
   ]
  },
  {
   "cell_type": "code",
   "execution_count": 10,
   "metadata": {
    "tags": []
   },
   "outputs": [
    {
     "data": {
      "text/plain": [
       "'def computation(self, locdata, n_localizations_min=4):\\n    \\n    # import required modules\\n    from locan.analysis import LocalizationPrecision\\n    \\n    # prologue\\n    self.file_indicator = locdata.meta.file_path\\n    self.locdata = locdata\\n    \\n    # check requirements\\n    if len(locdata)<=n_localizations_min:\\n        return None\\n    \\n    # compute localization precision\\n    self.lp = LocalizationPrecision().compute(self.locdata)\\n    \\n    return self\\n'"
      ]
     },
     "execution_count": 10,
     "metadata": {},
     "output_type": "execute_result"
    }
   ],
   "source": [
    "pipe.computation_as_string()"
   ]
  },
  {
   "cell_type": "markdown",
   "metadata": {},
   "source": [
    "or save it as text protocol:"
   ]
  },
  {
   "cell_type": "raw",
   "metadata": {},
   "source": [
    "pipe.save_computation(path)"
   ]
  },
  {
   "cell_type": "markdown",
   "metadata": {},
   "source": [
    "The Pipeline object is pickleable and can thus be saved for revisits."
   ]
  },
  {
   "cell_type": "markdown",
   "metadata": {},
   "source": [
    "## Apply the pipeline on multiple datasets - a batch process"
   ]
  },
  {
   "cell_type": "markdown",
   "metadata": {},
   "source": [
    "Let's create multiple datasets:"
   ]
  },
  {
   "cell_type": "code",
   "execution_count": 11,
   "metadata": {
    "tags": []
   },
   "outputs": [
    {
     "name": "stdout",
     "output_type": "stream",
     "text": [
      "c:\\users\\soeren\\mydata\\programming\\python\\projects\\locan\\locan\\tests\\Test_data\\rapidSTORM_dstorm_data.txt\n"
     ]
    },
    {
     "data": {
      "text/plain": [
       "[<locan.data.locdata.LocData at 0x1e01d82af10>,\n",
       " <locan.data.locdata.LocData at 0x1e02c7a72b0>,\n",
       " <locan.data.locdata.LocData at 0x1e02c83ce80>]"
      ]
     },
     "execution_count": 11,
     "metadata": {},
     "output_type": "execute_result"
    }
   ],
   "source": [
    "path = sp.ROOT_DIR / 'tests/Test_data/rapidSTORM_dstorm_data.txt'\n",
    "print(path)\n",
    "dat = sp.load_rapidSTORM_file(path=path)\n",
    "\n",
    "locdatas = [sp.select_by_condition(dat, f'{min}<index<{max}') for min, max in ((0,300), (301,600), (601,900))]\n",
    "locdatas"
   ]
  },
  {
   "cell_type": "markdown",
   "metadata": {},
   "source": [
    "Run the analysis pipeline as batch process"
   ]
  },
  {
   "cell_type": "code",
   "execution_count": 12,
   "metadata": {
    "tags": []
   },
   "outputs": [
    {
     "name": "stderr",
     "output_type": "stream",
     "text": [
      "Processed frames:: 100%|███████████████████████████████████████████████████████████████████████████████████████████████████████████████████████████████████████| 12/12 [00:00<00:00, 34.01it/s]\n",
      "Processed frames:: 100%|███████████████████████████████████████████████████████████████████████████████████████████████████████████████████████████████████████| 13/13 [00:00<00:00, 39.20it/s]\n",
      "Processed frames:: 100%|███████████████████████████████████████████████████████████████████████████████████████████████████████████████████████████████████████| 14/14 [00:00<00:00, 40.40it/s]\n"
     ]
    }
   ],
   "source": [
    "pipes = [sp.Pipeline(computation=computation, locdata=dat).compute() for dat in locdatas]"
   ]
  },
  {
   "cell_type": "markdown",
   "metadata": {},
   "source": [
    "As long as the batch procedure runs in a single computer process, the identifier increases with every instantiation."
   ]
  },
  {
   "cell_type": "code",
   "execution_count": 13,
   "metadata": {
    "tags": []
   },
   "outputs": [
    {
     "data": {
      "text/plain": [
       "['2', '3', '4']"
      ]
     },
     "execution_count": 13,
     "metadata": {},
     "output_type": "execute_result"
    }
   ],
   "source": [
    "[pipe.meta.identifier for pipe in pipes]"
   ]
  },
  {
   "cell_type": "markdown",
   "metadata": {},
   "source": [
    "### Visualize the combined results"
   ]
  },
  {
   "cell_type": "code",
   "execution_count": 14,
   "metadata": {
    "tags": []
   },
   "outputs": [
    {
     "data": {
      "image/png": "[encoded data removed]",
      "text/plain": [
       "<Figure size 432x288 with 1 Axes>"
      ]
     },
     "metadata": {
      "needs_background": "light"
     },
     "output_type": "display_data"
    }
   ],
   "source": [
    "fig, ax = plt.subplots(nrows=1, ncols=1)\n",
    "for pipe in pipes:\n",
    "    pipe.lp.plot(ax=ax, window=10)\n",
    "plt.show()"
   ]
  }
 ],
 "metadata": {
  "kernelspec": {
   "display_name": "Python 3",
   "language": "python",
   "name": "python3"
  },
  "language_info": {
   "codemirror_mode": {
    "name": "ipython",
    "version": 3
   },
   "file_extension": ".py",
   "mimetype": "text/x-python",
   "name": "python",
   "nbconvert_exporter": "python",
   "pygments_lexer": "ipython3",
   "version": "3.8.8"
  },
  "widgets": {
   "application/vnd.jupyter.widget-state+json": {
    "state": {},
    "version_major": 2,
    "version_minor": 0
   }
  }
 },
 "nbformat": 4,
 "nbformat_minor": 4
}
