{
 "cells": [
  {
   "cell_type": "markdown",
   "metadata": {},
   "source": [
    "# Tutorial about Ripley's k function"
   ]
  },
  {
   "cell_type": "code",
   "execution_count": null,
   "metadata": {},
   "outputs": [],
   "source": [
    "from pathlib import Path\n",
    "\n",
    "%matplotlib inline\n",
    "\n",
    "import numpy as np\n",
    "import matplotlib.pyplot as plt\n",
    "\n",
    "import locan as lc"
   ]
  },
  {
   "cell_type": "code",
   "execution_count": null,
   "metadata": {},
   "outputs": [],
   "source": [
    "lc.show_versions(system=False, dependencies=False, verbose=False)"
   ]
  },
  {
   "cell_type": "markdown",
   "metadata": {},
   "source": [
    "## Simulate data"
   ]
  },
  {
   "cell_type": "markdown",
   "metadata": {},
   "source": [
    "We simulate localization data that is homogeneously Poisson distributed."
   ]
  },
  {
   "cell_type": "code",
   "execution_count": null,
   "metadata": {},
   "outputs": [],
   "source": [
    "dat_random = lc.simulate_csr(n_samples=1000, feature_range=(0,1000), seed=1)\n",
    "\n",
    "print('Data head:')\n",
    "print(dat_random.data.head(), '\\n')\n",
    "print('Summary:')\n",
    "dat_random.print_summary()\n",
    "print('Properties:')\n",
    "print(dat_random.properties)"
   ]
  },
  {
   "cell_type": "markdown",
   "metadata": {},
   "source": [
    "We also simulate data that follows a Neyman-Scott distribution (blobs): "
   ]
  },
  {
   "cell_type": "code",
   "execution_count": null,
   "metadata": {},
   "outputs": [],
   "source": [
    "dat_blob = lc.simulate_Thomas(n_samples=1000, n_features=2, centers=10, feature_range=(0, 1000), cluster_std=10, seed=1)\n",
    "\n",
    "print('Data head:')\n",
    "print(dat_blob.data.head(), '\\n')\n",
    "print('Summary:')\n",
    "dat_blob.print_summary()\n",
    "print('Properties:')\n",
    "print(dat_blob.properties)"
   ]
  },
  {
   "cell_type": "markdown",
   "metadata": {},
   "source": [
    "### Scatter plot"
   ]
  },
  {
   "cell_type": "code",
   "execution_count": null,
   "metadata": {},
   "outputs": [],
   "source": [
    "fig, ax = plt.subplots(nrows=1, ncols=2)\n",
    "dat_random.data.plot.scatter(x='position_x', y='position_y', ax=ax[0], color='Blue', label='locdata')\n",
    "dat_blob.data.plot.scatter(x='position_x', y='position_y', ax=ax[1], color='Blue', label='locdata')\n",
    "plt.tight_layout()\n",
    "plt.show()"
   ]
  },
  {
   "cell_type": "markdown",
   "metadata": {},
   "source": [
    "## Analyze Ripley's h function"
   ]
  },
  {
   "cell_type": "markdown",
   "metadata": {},
   "source": [
    "We have a look at the Ripley's h function from all localizations in locdata. \n",
    "\n",
    "The analysis class Ripley_h_function provides numerical results, and a plot of results versus radii."
   ]
  },
  {
   "cell_type": "code",
   "execution_count": null,
   "metadata": {},
   "outputs": [],
   "source": [
    "rhf_random = lc.RipleysHFunction(radii=np.linspace(0, 200, 100))\n",
    "rhf_random.compute(dat_random)\n",
    "rhf_random.results.head()"
   ]
  },
  {
   "cell_type": "code",
   "execution_count": null,
   "metadata": {},
   "outputs": [],
   "source": [
    "rhf_blob = lc.RipleysHFunction(radii=np.linspace(0, 200, 100))\n",
    "rhf_blob.compute(dat_blob)\n",
    "rhf_blob.results.head()"
   ]
  },
  {
   "cell_type": "markdown",
   "metadata": {},
   "source": [
    "The plot reflects the amount of clustering. For homogeneous distributed data it decreases towards negative values since edge effects are not taken into account."
   ]
  },
  {
   "cell_type": "code",
   "execution_count": null,
   "metadata": {},
   "outputs": [],
   "source": [
    "rhf_random.plot()\n",
    "rhf_blob.plot();"
   ]
  },
  {
   "cell_type": "markdown",
   "metadata": {},
   "source": [
    "## Estimate Ripley's h function"
   ]
  },
  {
   "cell_type": "markdown",
   "metadata": {},
   "source": [
    "We can speed up the computation of an estimated Ripley's k function by providing a subset of the original localizations as test points."
   ]
  },
  {
   "cell_type": "markdown",
   "metadata": {},
   "source": [
    "We first take a random subset of the original localizations as test data. Here we provide 10 shuffeled data sets.  "
   ]
  },
  {
   "cell_type": "code",
   "execution_count": null,
   "metadata": {},
   "outputs": [],
   "source": [
    "from locan.data.filter import random_subset\n",
    "subsets = [lc.random_subset(dat_blob, n_points=5) for i in range(10)]"
   ]
  },
  {
   "cell_type": "markdown",
   "metadata": {},
   "source": [
    "We then compute the estimated Ripley's h function'"
   ]
  },
  {
   "cell_type": "code",
   "execution_count": null,
   "metadata": {},
   "outputs": [],
   "source": [
    "rhf_estimate = lc.RipleysHFunction(radii=np.linspace(0, 200, 100)).compute(dat_blob, other_locdata=subsets[0])"
   ]
  },
  {
   "cell_type": "code",
   "execution_count": null,
   "metadata": {},
   "outputs": [],
   "source": [
    "rhf_estimate.plot();"
   ]
  },
  {
   "cell_type": "markdown",
   "metadata": {},
   "source": [
    "We can do the same for all subsets"
   ]
  },
  {
   "cell_type": "code",
   "execution_count": null,
   "metadata": {},
   "outputs": [],
   "source": [
    "rhf_estimates = [lc.RipleysHFunction(radii=np.linspace(0, 200, 100)).compute(dat_blob, other_locdata=subset) for subset in subsets]"
   ]
  },
  {
   "cell_type": "code",
   "execution_count": null,
   "metadata": {},
   "outputs": [],
   "source": [
    "fig, ax = plt.subplots(nrows=1, ncols=1)\n",
    "for estimate in rhf_estimates:\n",
    "    estimate.plot(ax=ax)\n",
    "plt.show()"
   ]
  },
  {
   "cell_type": "markdown",
   "metadata": {},
   "source": [
    "## Compute Ripley's k, l and h function"
   ]
  },
  {
   "cell_type": "markdown",
   "metadata": {},
   "source": [
    "We can compute Ripley's k, l and h function"
   ]
  },
  {
   "cell_type": "code",
   "execution_count": null,
   "metadata": {},
   "outputs": [],
   "source": [
    "rkf_random = lc.RipleysKFunction(radii=np.linspace(0, 200, 100)).compute(dat_random)\n",
    "rlf_random = lc.RipleysLFunction(radii=np.linspace(0, 200, 100)).compute(dat_random)\n",
    "rhf_random = lc.RipleysHFunction(radii=np.linspace(0, 200, 100)).compute(dat_random)"
   ]
  },
  {
   "cell_type": "code",
   "execution_count": null,
   "metadata": {},
   "outputs": [],
   "source": [
    "rkf_random.plot()\n",
    "rlf_random.plot()\n",
    "rhf_random.plot();"
   ]
  },
  {
   "cell_type": "markdown",
   "metadata": {},
   "source": [
    "## Estimate Ripley's h function for 3D data"
   ]
  },
  {
   "cell_type": "code",
   "execution_count": null,
   "metadata": {},
   "outputs": [],
   "source": [
    "dat_blob_3D = lc.simulate_Thomas(n_samples=10_000, n_features=3, centers=200, feature_range=(0, 10_000), cluster_std=50, seed=1)"
   ]
  },
  {
   "cell_type": "code",
   "execution_count": null,
   "metadata": {},
   "outputs": [],
   "source": [
    "sub = lc.random_subset(dat_blob_3D, n_points=1000)"
   ]
  },
  {
   "cell_type": "code",
   "execution_count": null,
   "metadata": {},
   "outputs": [],
   "source": [
    "rhf_3D = lc.RipleysHFunction(radii=np.linspace(0, 1000, 100)).compute(dat_blob_3D, other_locdata=sub)"
   ]
  },
  {
   "cell_type": "code",
   "execution_count": null,
   "metadata": {},
   "outputs": [],
   "source": [
    "rhf_3D.plot();"
   ]
  },
  {
   "cell_type": "markdown",
   "metadata": {},
   "source": [
    "## Find the maximum of Ripley's h function"
   ]
  },
  {
   "cell_type": "code",
   "execution_count": null,
   "metadata": {},
   "outputs": [],
   "source": [
    "rhf_blob = lc.RipleysHFunction(radii=np.linspace(0, 200, 100)).compute(dat_blob)"
   ]
  },
  {
   "cell_type": "code",
   "execution_count": null,
   "metadata": {},
   "outputs": [],
   "source": [
    "rhf_blob.plot();"
   ]
  },
  {
   "cell_type": "code",
   "execution_count": null,
   "metadata": {},
   "outputs": [],
   "source": [
    "rhf_blob.Ripley_h_maximum"
   ]
  }
 ],
 "metadata": {
  "kernelspec": {
   "display_name": "Python 3",
   "language": "python",
   "name": "python3"
  },
  "language_info": {
   "codemirror_mode": {
    "name": "ipython",
    "version": 3
   },
   "file_extension": ".py",
   "mimetype": "text/x-python",
   "name": "python",
   "nbconvert_exporter": "python",
   "pygments_lexer": "ipython3",
   "version": "3.8.8"
  },
  "widgets": {
   "application/vnd.jupyter.widget-state+json": {
    "state": {},
    "version_major": 2,
    "version_minor": 0
   }
  }
 },
 "nbformat": 4,
 "nbformat_minor": 4
}
