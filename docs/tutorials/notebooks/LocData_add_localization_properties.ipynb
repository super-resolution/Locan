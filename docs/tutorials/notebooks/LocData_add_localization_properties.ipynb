{
 "cells": [
  {
   "cell_type": "markdown",
   "metadata": {},
   "source": [
    "# Tutorial about adding properties for each localization in LocData"
   ]
  },
  {
   "cell_type": "code",
   "execution_count": 1,
   "metadata": {
    "execution": {
     "iopub.execute_input": "2021-03-04T12:47:24.542171Z",
     "iopub.status.busy": "2021-03-04T12:47:24.541170Z",
     "iopub.status.idle": "2021-03-04T12:47:30.416950Z",
     "shell.execute_reply": "2021-03-04T12:47:30.416950Z"
    }
   },
   "outputs": [],
   "source": [
    "import numpy as np\n",
    "import pandas as pd\n",
    "\n",
    "import locan as sp"
   ]
  },
  {
   "cell_type": "code",
   "execution_count": 2,
   "metadata": {
    "execution": {
     "iopub.execute_input": "2021-03-04T12:47:30.420915Z",
     "iopub.status.busy": "2021-03-04T12:47:30.420915Z",
     "iopub.status.idle": "2021-03-04T12:47:30.448915Z",
     "shell.execute_reply": "2021-03-04T12:47:30.449926Z"
    }
   },
   "outputs": [
    {
     "name": "stdout",
     "output_type": "stream",
     "text": [
      "\n",
      "Locan:\n",
      "   version: 0.7.dev3+gb9aca40\n",
      "\n",
      "Python:\n",
      "   version: 3.8.8\n"
     ]
    }
   ],
   "source": [
    "sp.show_versions(system=False, dependencies=False, verbose=False)"
   ]
  },
  {
   "cell_type": "markdown",
   "metadata": {},
   "source": [
    "## Some localization data"
   ]
  },
  {
   "cell_type": "code",
   "execution_count": 3,
   "metadata": {
    "execution": {
     "iopub.execute_input": "2021-03-04T12:47:30.453916Z",
     "iopub.status.busy": "2021-03-04T12:47:30.453916Z",
     "iopub.status.idle": "2021-03-04T12:47:30.466918Z",
     "shell.execute_reply": "2021-03-04T12:47:30.466918Z"
    }
   },
   "outputs": [
    {
     "name": "stdout",
     "output_type": "stream",
     "text": [
      "identifier: \"1\"\n",
      "comment: \"\"\n",
      "creation_date: \"2021-03-04 13:47:30 +0100\"\n",
      "modification_date: \"\"\n",
      "source: EXPERIMENT\n",
      "state: RAW\n",
      "element_count: 999\n",
      "frame_count: 48\n",
      "file_type: RAPIDSTORM\n",
      "file_path: \"c:\\\\users\\\\soeren\\\\mydata\\\\programming\\\\python\\\\projects\\\\locan\\\\locan\\\\tests\\\\Test_data\\\\rapidSTORM_dstorm_data.txt\"\n",
      "\n"
     ]
    }
   ],
   "source": [
    "path = sp.ROOT_DIR / 'tests/Test_data/rapidSTORM_dstorm_data.txt'\n",
    "dat = sp.load_rapidSTORM_file(path=path)\n",
    "dat.print_summary()"
   ]
  },
  {
   "cell_type": "code",
   "execution_count": 4,
   "metadata": {
    "execution": {
     "iopub.execute_input": "2021-03-04T12:47:30.470916Z",
     "iopub.status.busy": "2021-03-04T12:47:30.469915Z",
     "iopub.status.idle": "2021-03-04T12:47:30.473946Z",
     "shell.execute_reply": "2021-03-04T12:47:30.472916Z"
    }
   },
   "outputs": [
    {
     "name": "stdout",
     "output_type": "stream",
     "text": [
      "{'localization_count': 999, 'position_x': 16066.234912912912, 'position_y': 17550.369092792796, 'region_measure_bb': 1064111469.8204715, 'localization_density_bb': 9.388114199807877e-07, 'subregion_measure_bb': 130483.2086}\n"
     ]
    }
   ],
   "source": [
    "print(dat.properties)"
   ]
  },
  {
   "cell_type": "markdown",
   "metadata": {},
   "source": [
    "## Adding a property to each localization in LocData.data"
   ]
  },
  {
   "cell_type": "markdown",
   "metadata": {},
   "source": [
    "In case you have processed your data and come up with a new property for each localization in the LocData object, this property can be added to data. In this example we compute the nearest neighbor distance for each localization and add *nn_distance* as new property."
   ]
  },
  {
   "cell_type": "markdown",
   "metadata": {},
   "source": [
    "### Nearest-neighbor distance for each localization"
   ]
  },
  {
   "cell_type": "code",
   "execution_count": 5,
   "metadata": {
    "execution": {
     "iopub.execute_input": "2021-03-04T12:47:30.478917Z",
     "iopub.status.busy": "2021-03-04T12:47:30.478917Z",
     "iopub.status.idle": "2021-03-04T12:47:30.495952Z",
     "shell.execute_reply": "2021-03-04T12:47:30.494919Z"
    }
   },
   "outputs": [
    {
     "data": {
      "text/html": [
       "<div>\n",
       "<style scoped>\n",
       "    .dataframe tbody tr th:only-of-type {\n",
       "        vertical-align: middle;\n",
       "    }\n",
       "\n",
       "    .dataframe tbody tr th {\n",
       "        vertical-align: top;\n",
       "    }\n",
       "\n",
       "    .dataframe thead th {\n",
       "        text-align: right;\n",
       "    }\n",
       "</style>\n",
       "<table border=\"1\" class=\"dataframe\">\n",
       "  <thead>\n",
       "    <tr style=\"text-align: right;\">\n",
       "      <th></th>\n",
       "      <th>nn_distance</th>\n",
       "      <th>nn_index</th>\n",
       "    </tr>\n",
       "  </thead>\n",
       "  <tbody>\n",
       "    <tr>\n",
       "      <th>0</th>\n",
       "      <td>909.435242</td>\n",
       "      <td>276</td>\n",
       "    </tr>\n",
       "    <tr>\n",
       "      <th>1</th>\n",
       "      <td>54.429771</td>\n",
       "      <td>38</td>\n",
       "    </tr>\n",
       "    <tr>\n",
       "      <th>2</th>\n",
       "      <td>5.385165</td>\n",
       "      <td>30</td>\n",
       "    </tr>\n",
       "    <tr>\n",
       "      <th>3</th>\n",
       "      <td>5.047187</td>\n",
       "      <td>706</td>\n",
       "    </tr>\n",
       "    <tr>\n",
       "      <th>4</th>\n",
       "      <td>3.544009</td>\n",
       "      <td>27</td>\n",
       "    </tr>\n",
       "    <tr>\n",
       "      <th>...</th>\n",
       "      <td>...</td>\n",
       "      <td>...</td>\n",
       "    </tr>\n",
       "    <tr>\n",
       "      <th>994</th>\n",
       "      <td>5.935697</td>\n",
       "      <td>858</td>\n",
       "    </tr>\n",
       "    <tr>\n",
       "      <th>995</th>\n",
       "      <td>1077.190438</td>\n",
       "      <td>781</td>\n",
       "    </tr>\n",
       "    <tr>\n",
       "      <th>996</th>\n",
       "      <td>566.894355</td>\n",
       "      <td>626</td>\n",
       "    </tr>\n",
       "    <tr>\n",
       "      <th>997</th>\n",
       "      <td>115.443579</td>\n",
       "      <td>690</td>\n",
       "    </tr>\n",
       "    <tr>\n",
       "      <th>998</th>\n",
       "      <td>4.707441</td>\n",
       "      <td>980</td>\n",
       "    </tr>\n",
       "  </tbody>\n",
       "</table>\n",
       "<p>999 rows × 2 columns</p>\n",
       "</div>"
      ],
      "text/plain": [
       "     nn_distance  nn_index\n",
       "0     909.435242       276\n",
       "1      54.429771        38\n",
       "2       5.385165        30\n",
       "3       5.047187       706\n",
       "4       3.544009        27\n",
       "..           ...       ...\n",
       "994     5.935697       858\n",
       "995  1077.190438       781\n",
       "996   566.894355       626\n",
       "997   115.443579       690\n",
       "998     4.707441       980\n",
       "\n",
       "[999 rows x 2 columns]"
      ]
     },
     "execution_count": 1,
     "metadata": {},
     "output_type": "execute_result"
    }
   ],
   "source": [
    "nn = sp.NearestNeighborDistances().compute(dat)\n",
    "nn.results"
   ]
  },
  {
   "cell_type": "code",
   "execution_count": 6,
   "metadata": {
    "execution": {
     "iopub.execute_input": "2021-03-04T12:47:30.500917Z",
     "iopub.status.busy": "2021-03-04T12:47:30.500917Z",
     "iopub.status.idle": "2021-03-04T12:47:30.503918Z",
     "shell.execute_reply": "2021-03-04T12:47:30.504915Z"
    }
   },
   "outputs": [
    {
     "data": {
      "text/plain": [
       "0       909.435242\n",
       "1        54.429771\n",
       "2         5.385165\n",
       "3         5.047187\n",
       "4         3.544009\n",
       "          ...     \n",
       "994       5.935697\n",
       "995    1077.190438\n",
       "996     566.894355\n",
       "997     115.443579\n",
       "998       4.707441\n",
       "Name: nn_distance, Length: 999, dtype: float64"
      ]
     },
     "execution_count": 1,
     "metadata": {},
     "output_type": "execute_result"
    }
   ],
   "source": [
    "nn.results['nn_distance']"
   ]
  },
  {
   "cell_type": "markdown",
   "metadata": {},
   "source": [
    "### Adding nn_distance as new property to each localization in LocData object"
   ]
  },
  {
   "cell_type": "code",
   "execution_count": 7,
   "metadata": {
    "execution": {
     "iopub.execute_input": "2021-03-04T12:47:30.516915Z",
     "iopub.status.busy": "2021-03-04T12:47:30.516915Z",
     "iopub.status.idle": "2021-03-04T12:47:30.520917Z",
     "shell.execute_reply": "2021-03-04T12:47:30.520917Z"
    }
   },
   "outputs": [
    {
     "data": {
      "text/html": [
       "<div>\n",
       "<style scoped>\n",
       "    .dataframe tbody tr th:only-of-type {\n",
       "        vertical-align: middle;\n",
       "    }\n",
       "\n",
       "    .dataframe tbody tr th {\n",
       "        vertical-align: top;\n",
       "    }\n",
       "\n",
       "    .dataframe thead th {\n",
       "        text-align: right;\n",
       "    }\n",
       "</style>\n",
       "<table border=\"1\" class=\"dataframe\">\n",
       "  <thead>\n",
       "    <tr style=\"text-align: right;\">\n",
       "      <th></th>\n",
       "      <th>position_x</th>\n",
       "      <th>position_y</th>\n",
       "      <th>frame</th>\n",
       "      <th>intensity</th>\n",
       "      <th>chi_square</th>\n",
       "      <th>local_background</th>\n",
       "      <th>nn_distance</th>\n",
       "    </tr>\n",
       "  </thead>\n",
       "  <tbody>\n",
       "    <tr>\n",
       "      <th>0</th>\n",
       "      <td>9657.40</td>\n",
       "      <td>24533.5</td>\n",
       "      <td>0</td>\n",
       "      <td>33290.10</td>\n",
       "      <td>1192250.0</td>\n",
       "      <td>767.733</td>\n",
       "      <td>909.435242</td>\n",
       "    </tr>\n",
       "    <tr>\n",
       "      <th>1</th>\n",
       "      <td>16754.90</td>\n",
       "      <td>18770.0</td>\n",
       "      <td>0</td>\n",
       "      <td>21275.40</td>\n",
       "      <td>2106810.0</td>\n",
       "      <td>875.461</td>\n",
       "      <td>54.429771</td>\n",
       "    </tr>\n",
       "    <tr>\n",
       "      <th>2</th>\n",
       "      <td>14457.60</td>\n",
       "      <td>18582.6</td>\n",
       "      <td>0</td>\n",
       "      <td>20748.70</td>\n",
       "      <td>526031.0</td>\n",
       "      <td>703.370</td>\n",
       "      <td>5.385165</td>\n",
       "    </tr>\n",
       "    <tr>\n",
       "      <th>3</th>\n",
       "      <td>6820.58</td>\n",
       "      <td>16662.8</td>\n",
       "      <td>0</td>\n",
       "      <td>8531.77</td>\n",
       "      <td>3179190.0</td>\n",
       "      <td>852.789</td>\n",
       "      <td>5.047187</td>\n",
       "    </tr>\n",
       "    <tr>\n",
       "      <th>4</th>\n",
       "      <td>19183.20</td>\n",
       "      <td>22907.2</td>\n",
       "      <td>0</td>\n",
       "      <td>14139.60</td>\n",
       "      <td>448631.0</td>\n",
       "      <td>662.770</td>\n",
       "      <td>3.544009</td>\n",
       "    </tr>\n",
       "  </tbody>\n",
       "</table>\n",
       "</div>"
      ],
      "text/plain": [
       "   position_x  position_y  frame  intensity  chi_square  local_background  \\\n",
       "0     9657.40     24533.5      0   33290.10   1192250.0           767.733   \n",
       "1    16754.90     18770.0      0   21275.40   2106810.0           875.461   \n",
       "2    14457.60     18582.6      0   20748.70    526031.0           703.370   \n",
       "3     6820.58     16662.8      0    8531.77   3179190.0           852.789   \n",
       "4    19183.20     22907.2      0   14139.60    448631.0           662.770   \n",
       "\n",
       "   nn_distance  \n",
       "0   909.435242  \n",
       "1    54.429771  \n",
       "2     5.385165  \n",
       "3     5.047187  \n",
       "4     3.544009  "
      ]
     },
     "execution_count": 1,
     "metadata": {},
     "output_type": "execute_result"
    }
   ],
   "source": [
    "dat.dataframe = dat.dataframe.assign(nn_distance= nn.results['nn_distance'])\n",
    "dat.data.head()"
   ]
  },
  {
   "cell_type": "markdown",
   "metadata": {},
   "source": [
    "### Adding nn_distance as new property to each localization in LocData object with dataset=None"
   ]
  },
  {
   "cell_type": "markdown",
   "metadata": {},
   "source": [
    "In case the LocData object was created with LocData.from_selection() the LocData.dataset attribute is None and LocData.data is generated from the referenced locdata and the index list. \n",
    "\n",
    "In this case LocData.dataset can still be filled with additional data that is merged upon returning LocData.data."
   ]
  },
  {
   "cell_type": "code",
   "execution_count": 8,
   "metadata": {
    "execution": {
     "iopub.execute_input": "2021-03-04T12:47:30.531918Z",
     "iopub.status.busy": "2021-03-04T12:47:30.531918Z",
     "iopub.status.idle": "2021-03-04T12:47:30.555917Z",
     "shell.execute_reply": "2021-03-04T12:47:30.554919Z"
    }
   },
   "outputs": [
    {
     "data": {
      "text/html": [
       "<div>\n",
       "<style scoped>\n",
       "    .dataframe tbody tr th:only-of-type {\n",
       "        vertical-align: middle;\n",
       "    }\n",
       "\n",
       "    .dataframe tbody tr th {\n",
       "        vertical-align: top;\n",
       "    }\n",
       "\n",
       "    .dataframe thead th {\n",
       "        text-align: right;\n",
       "    }\n",
       "</style>\n",
       "<table border=\"1\" class=\"dataframe\">\n",
       "  <thead>\n",
       "    <tr style=\"text-align: right;\">\n",
       "      <th></th>\n",
       "      <th>position_x</th>\n",
       "      <th>position_y</th>\n",
       "      <th>frame</th>\n",
       "      <th>intensity</th>\n",
       "      <th>chi_square</th>\n",
       "      <th>local_background</th>\n",
       "      <th>nn_distance</th>\n",
       "    </tr>\n",
       "  </thead>\n",
       "  <tbody>\n",
       "    <tr>\n",
       "      <th>1</th>\n",
       "      <td>16754.90</td>\n",
       "      <td>18770.0</td>\n",
       "      <td>0</td>\n",
       "      <td>21275.40</td>\n",
       "      <td>2106810.0</td>\n",
       "      <td>875.461</td>\n",
       "      <td>54.429771</td>\n",
       "    </tr>\n",
       "    <tr>\n",
       "      <th>3</th>\n",
       "      <td>6820.58</td>\n",
       "      <td>16662.8</td>\n",
       "      <td>0</td>\n",
       "      <td>8531.77</td>\n",
       "      <td>3179190.0</td>\n",
       "      <td>852.789</td>\n",
       "      <td>5.047187</td>\n",
       "    </tr>\n",
       "    <tr>\n",
       "      <th>4</th>\n",
       "      <td>19183.20</td>\n",
       "      <td>22907.2</td>\n",
       "      <td>0</td>\n",
       "      <td>14139.60</td>\n",
       "      <td>448631.0</td>\n",
       "      <td>662.770</td>\n",
       "      <td>3.544009</td>\n",
       "    </tr>\n",
       "    <tr>\n",
       "      <th>5</th>\n",
       "      <td>31972.60</td>\n",
       "      <td>18136.8</td>\n",
       "      <td>0</td>\n",
       "      <td>10936.80</td>\n",
       "      <td>327028.0</td>\n",
       "      <td>659.928</td>\n",
       "      <td>5.703508</td>\n",
       "    </tr>\n",
       "  </tbody>\n",
       "</table>\n",
       "</div>"
      ],
      "text/plain": [
       "   position_x  position_y  frame  intensity  chi_square  local_background  \\\n",
       "1    16754.90     18770.0      0   21275.40   2106810.0           875.461   \n",
       "3     6820.58     16662.8      0    8531.77   3179190.0           852.789   \n",
       "4    19183.20     22907.2      0   14139.60    448631.0           662.770   \n",
       "5    31972.60     18136.8      0   10936.80    327028.0           659.928   \n",
       "\n",
       "   nn_distance  \n",
       "1    54.429771  \n",
       "3     5.047187  \n",
       "4     3.544009  \n",
       "5     5.703508  "
      ]
     },
     "execution_count": 1,
     "metadata": {},
     "output_type": "execute_result"
    }
   ],
   "source": [
    "dat_selection = sp.LocData.from_selection(dat, indices=[1, 3, 4, 5])\n",
    "dat_selection.data"
   ]
  },
  {
   "cell_type": "code",
   "execution_count": 9,
   "metadata": {
    "execution": {
     "iopub.execute_input": "2021-03-04T12:47:30.561952Z",
     "iopub.status.busy": "2021-03-04T12:47:30.560917Z",
     "iopub.status.idle": "2021-03-04T12:47:30.566916Z",
     "shell.execute_reply": "2021-03-04T12:47:30.566916Z"
    }
   },
   "outputs": [
    {
     "data": {
      "text/html": [
       "<div>\n",
       "<style scoped>\n",
       "    .dataframe tbody tr th:only-of-type {\n",
       "        vertical-align: middle;\n",
       "    }\n",
       "\n",
       "    .dataframe tbody tr th {\n",
       "        vertical-align: top;\n",
       "    }\n",
       "\n",
       "    .dataframe thead th {\n",
       "        text-align: right;\n",
       "    }\n",
       "</style>\n",
       "<table border=\"1\" class=\"dataframe\">\n",
       "  <thead>\n",
       "    <tr style=\"text-align: right;\">\n",
       "      <th></th>\n",
       "    </tr>\n",
       "  </thead>\n",
       "  <tbody>\n",
       "  </tbody>\n",
       "</table>\n",
       "</div>"
      ],
      "text/plain": [
       "Empty DataFrame\n",
       "Columns: []\n",
       "Index: []"
      ]
     },
     "execution_count": 1,
     "metadata": {},
     "output_type": "execute_result"
    }
   ],
   "source": [
    "dat_selection.dataframe"
   ]
  },
  {
   "cell_type": "code",
   "execution_count": 10,
   "metadata": {
    "execution": {
     "iopub.execute_input": "2021-03-04T12:47:30.579915Z",
     "iopub.status.busy": "2021-03-04T12:47:30.578917Z",
     "iopub.status.idle": "2021-03-04T12:47:30.582915Z",
     "shell.execute_reply": "2021-03-04T12:47:30.582915Z"
    }
   },
   "outputs": [
    {
     "data": {
      "text/html": [
       "<div>\n",
       "<style scoped>\n",
       "    .dataframe tbody tr th:only-of-type {\n",
       "        vertical-align: middle;\n",
       "    }\n",
       "\n",
       "    .dataframe tbody tr th {\n",
       "        vertical-align: top;\n",
       "    }\n",
       "\n",
       "    .dataframe thead th {\n",
       "        text-align: right;\n",
       "    }\n",
       "</style>\n",
       "<table border=\"1\" class=\"dataframe\">\n",
       "  <thead>\n",
       "    <tr style=\"text-align: right;\">\n",
       "      <th></th>\n",
       "      <th>nn_distance</th>\n",
       "      <th>nn_index</th>\n",
       "    </tr>\n",
       "  </thead>\n",
       "  <tbody>\n",
       "    <tr>\n",
       "      <th>0</th>\n",
       "      <td>4797.193422</td>\n",
       "      <td>2</td>\n",
       "    </tr>\n",
       "    <tr>\n",
       "      <th>1</th>\n",
       "      <td>10155.343702</td>\n",
       "      <td>0</td>\n",
       "    </tr>\n",
       "    <tr>\n",
       "      <th>2</th>\n",
       "      <td>4797.193422</td>\n",
       "      <td>0</td>\n",
       "    </tr>\n",
       "    <tr>\n",
       "      <th>3</th>\n",
       "      <td>13650.108737</td>\n",
       "      <td>2</td>\n",
       "    </tr>\n",
       "  </tbody>\n",
       "</table>\n",
       "</div>"
      ],
      "text/plain": [
       "    nn_distance  nn_index\n",
       "0   4797.193422         2\n",
       "1  10155.343702         0\n",
       "2   4797.193422         0\n",
       "3  13650.108737         2"
      ]
     },
     "execution_count": 1,
     "metadata": {},
     "output_type": "execute_result"
    }
   ],
   "source": [
    "nn_selection = sp.NearestNeighborDistances().compute(dat_selection)\n",
    "nn_selection.results"
   ]
  },
  {
   "cell_type": "markdown",
   "metadata": {},
   "source": [
    "Just make sure the indices in nn.results match those in dat_selection.data:"
   ]
  },
  {
   "cell_type": "code",
   "execution_count": 11,
   "metadata": {
    "execution": {
     "iopub.execute_input": "2021-03-04T12:47:30.588915Z",
     "iopub.status.busy": "2021-03-04T12:47:30.587919Z",
     "iopub.status.idle": "2021-03-04T12:47:30.592916Z",
     "shell.execute_reply": "2021-03-04T12:47:30.591914Z"
    }
   },
   "outputs": [
    {
     "data": {
      "text/plain": [
       "Int64Index([1, 3, 4, 5], dtype='int64')"
      ]
     },
     "execution_count": 1,
     "metadata": {},
     "output_type": "execute_result"
    }
   ],
   "source": [
    "dat_selection.data.index"
   ]
  },
  {
   "cell_type": "code",
   "execution_count": 12,
   "metadata": {
    "execution": {
     "iopub.execute_input": "2021-03-04T12:47:30.600915Z",
     "iopub.status.busy": "2021-03-04T12:47:30.600915Z",
     "iopub.status.idle": "2021-03-04T12:47:30.609922Z",
     "shell.execute_reply": "2021-03-04T12:47:30.610921Z"
    }
   },
   "outputs": [
    {
     "data": {
      "text/html": [
       "<div>\n",
       "<style scoped>\n",
       "    .dataframe tbody tr th:only-of-type {\n",
       "        vertical-align: middle;\n",
       "    }\n",
       "\n",
       "    .dataframe tbody tr th {\n",
       "        vertical-align: top;\n",
       "    }\n",
       "\n",
       "    .dataframe thead th {\n",
       "        text-align: right;\n",
       "    }\n",
       "</style>\n",
       "<table border=\"1\" class=\"dataframe\">\n",
       "  <thead>\n",
       "    <tr style=\"text-align: right;\">\n",
       "      <th></th>\n",
       "      <th>nn_distance</th>\n",
       "      <th>nn_index</th>\n",
       "    </tr>\n",
       "  </thead>\n",
       "  <tbody>\n",
       "    <tr>\n",
       "      <th>1</th>\n",
       "      <td>4797.193422</td>\n",
       "      <td>2</td>\n",
       "    </tr>\n",
       "    <tr>\n",
       "      <th>3</th>\n",
       "      <td>10155.343702</td>\n",
       "      <td>0</td>\n",
       "    </tr>\n",
       "    <tr>\n",
       "      <th>4</th>\n",
       "      <td>4797.193422</td>\n",
       "      <td>0</td>\n",
       "    </tr>\n",
       "    <tr>\n",
       "      <th>5</th>\n",
       "      <td>13650.108737</td>\n",
       "      <td>2</td>\n",
       "    </tr>\n",
       "  </tbody>\n",
       "</table>\n",
       "</div>"
      ],
      "text/plain": [
       "    nn_distance  nn_index\n",
       "1   4797.193422         2\n",
       "3  10155.343702         0\n",
       "4   4797.193422         0\n",
       "5  13650.108737         2"
      ]
     },
     "execution_count": 1,
     "metadata": {},
     "output_type": "execute_result"
    }
   ],
   "source": [
    "nn_selection.results.index = dat_selection.data.index\n",
    "nn_selection.results"
   ]
  },
  {
   "cell_type": "markdown",
   "metadata": {},
   "source": [
    "Then assign the corresponding result to dataframe:"
   ]
  },
  {
   "cell_type": "code",
   "execution_count": 13,
   "metadata": {
    "execution": {
     "iopub.execute_input": "2021-03-04T12:47:30.620918Z",
     "iopub.status.busy": "2021-03-04T12:47:30.614921Z",
     "iopub.status.idle": "2021-03-04T12:47:30.627915Z",
     "shell.execute_reply": "2021-03-04T12:47:30.626915Z"
    }
   },
   "outputs": [
    {
     "data": {
      "text/html": [
       "<div>\n",
       "<style scoped>\n",
       "    .dataframe tbody tr th:only-of-type {\n",
       "        vertical-align: middle;\n",
       "    }\n",
       "\n",
       "    .dataframe tbody tr th {\n",
       "        vertical-align: top;\n",
       "    }\n",
       "\n",
       "    .dataframe thead th {\n",
       "        text-align: right;\n",
       "    }\n",
       "</style>\n",
       "<table border=\"1\" class=\"dataframe\">\n",
       "  <thead>\n",
       "    <tr style=\"text-align: right;\">\n",
       "      <th></th>\n",
       "      <th>nn_distance</th>\n",
       "    </tr>\n",
       "  </thead>\n",
       "  <tbody>\n",
       "    <tr>\n",
       "      <th>1</th>\n",
       "      <td>4797.193422</td>\n",
       "    </tr>\n",
       "    <tr>\n",
       "      <th>3</th>\n",
       "      <td>10155.343702</td>\n",
       "    </tr>\n",
       "    <tr>\n",
       "      <th>4</th>\n",
       "      <td>4797.193422</td>\n",
       "    </tr>\n",
       "    <tr>\n",
       "      <th>5</th>\n",
       "      <td>13650.108737</td>\n",
       "    </tr>\n",
       "  </tbody>\n",
       "</table>\n",
       "</div>"
      ],
      "text/plain": [
       "    nn_distance\n",
       "1   4797.193422\n",
       "3  10155.343702\n",
       "4   4797.193422\n",
       "5  13650.108737"
      ]
     },
     "execution_count": 1,
     "metadata": {},
     "output_type": "execute_result"
    }
   ],
   "source": [
    "dat_selection.dataframe = dat_selection.dataframe.assign(nn_distance= nn_selection.results['nn_distance'])\n",
    "dat_selection.dataframe"
   ]
  },
  {
   "cell_type": "markdown",
   "metadata": {},
   "source": [
    "Calling `data` will return the complete dataset."
   ]
  },
  {
   "cell_type": "code",
   "execution_count": 14,
   "metadata": {
    "execution": {
     "iopub.execute_input": "2021-03-04T12:47:30.639916Z",
     "iopub.status.busy": "2021-03-04T12:47:30.639916Z",
     "iopub.status.idle": "2021-03-04T12:47:30.645914Z",
     "shell.execute_reply": "2021-03-04T12:47:30.644915Z"
    }
   },
   "outputs": [
    {
     "data": {
      "text/html": [
       "<div>\n",
       "<style scoped>\n",
       "    .dataframe tbody tr th:only-of-type {\n",
       "        vertical-align: middle;\n",
       "    }\n",
       "\n",
       "    .dataframe tbody tr th {\n",
       "        vertical-align: top;\n",
       "    }\n",
       "\n",
       "    .dataframe thead th {\n",
       "        text-align: right;\n",
       "    }\n",
       "</style>\n",
       "<table border=\"1\" class=\"dataframe\">\n",
       "  <thead>\n",
       "    <tr style=\"text-align: right;\">\n",
       "      <th></th>\n",
       "      <th>position_x</th>\n",
       "      <th>position_y</th>\n",
       "      <th>frame</th>\n",
       "      <th>intensity</th>\n",
       "      <th>chi_square</th>\n",
       "      <th>local_background</th>\n",
       "      <th>nn_distance_x</th>\n",
       "      <th>nn_distance_y</th>\n",
       "    </tr>\n",
       "  </thead>\n",
       "  <tbody>\n",
       "    <tr>\n",
       "      <th>1</th>\n",
       "      <td>16754.90</td>\n",
       "      <td>18770.0</td>\n",
       "      <td>0</td>\n",
       "      <td>21275.40</td>\n",
       "      <td>2106810.0</td>\n",
       "      <td>875.461</td>\n",
       "      <td>54.429771</td>\n",
       "      <td>4797.193422</td>\n",
       "    </tr>\n",
       "    <tr>\n",
       "      <th>3</th>\n",
       "      <td>6820.58</td>\n",
       "      <td>16662.8</td>\n",
       "      <td>0</td>\n",
       "      <td>8531.77</td>\n",
       "      <td>3179190.0</td>\n",
       "      <td>852.789</td>\n",
       "      <td>5.047187</td>\n",
       "      <td>10155.343702</td>\n",
       "    </tr>\n",
       "    <tr>\n",
       "      <th>4</th>\n",
       "      <td>19183.20</td>\n",
       "      <td>22907.2</td>\n",
       "      <td>0</td>\n",
       "      <td>14139.60</td>\n",
       "      <td>448631.0</td>\n",
       "      <td>662.770</td>\n",
       "      <td>3.544009</td>\n",
       "      <td>4797.193422</td>\n",
       "    </tr>\n",
       "    <tr>\n",
       "      <th>5</th>\n",
       "      <td>31972.60</td>\n",
       "      <td>18136.8</td>\n",
       "      <td>0</td>\n",
       "      <td>10936.80</td>\n",
       "      <td>327028.0</td>\n",
       "      <td>659.928</td>\n",
       "      <td>5.703508</td>\n",
       "      <td>13650.108737</td>\n",
       "    </tr>\n",
       "  </tbody>\n",
       "</table>\n",
       "</div>"
      ],
      "text/plain": [
       "   position_x  position_y  frame  intensity  chi_square  local_background  \\\n",
       "1    16754.90     18770.0      0   21275.40   2106810.0           875.461   \n",
       "3     6820.58     16662.8      0    8531.77   3179190.0           852.789   \n",
       "4    19183.20     22907.2      0   14139.60    448631.0           662.770   \n",
       "5    31972.60     18136.8      0   10936.80    327028.0           659.928   \n",
       "\n",
       "   nn_distance_x  nn_distance_y  \n",
       "1      54.429771    4797.193422  \n",
       "3       5.047187   10155.343702  \n",
       "4       3.544009    4797.193422  \n",
       "5       5.703508   13650.108737  "
      ]
     },
     "execution_count": 1,
     "metadata": {},
     "output_type": "execute_result"
    }
   ],
   "source": [
    "dat_selection.data"
   ]
  }
 ],
 "metadata": {
  "kernelspec": {
   "display_name": "Python 3",
   "language": "python",
   "name": "python3"
  },
  "language_info": {
   "codemirror_mode": {
    "name": "ipython",
    "version": 3
   },
   "file_extension": ".py",
   "mimetype": "text/x-python",
   "name": "python",
   "nbconvert_exporter": "python",
   "pygments_lexer": "ipython3",
   "version": "3.8.8"
  },
  "widgets": {
   "application/vnd.jupyter.widget-state+json": {
    "state": {},
    "version_major": 2,
    "version_minor": 0
   }
  }
 },
 "nbformat": 4,
 "nbformat_minor": 4
}
