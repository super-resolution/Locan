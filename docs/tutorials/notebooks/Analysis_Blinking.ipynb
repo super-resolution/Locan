{
 "cells": [
  {
   "cell_type": "markdown",
   "metadata": {},
   "source": [
    "# Tutorial about analyzing blink statistics"
   ]
  },
  {
   "cell_type": "markdown",
   "metadata": {},
   "source": [
    "SMLM depends critically on the fluorescence intermittency or, in other words, the blinking of fluorescence dyes. To characterize blinking properties you can compute on- and off-periods from clustered localizations assuming that they originate from the same fluorophore."
   ]
  },
  {
   "cell_type": "code",
   "execution_count": 1,
   "metadata": {
    "execution": {
     "iopub.execute_input": "2021-03-04T12:43:15.722133Z",
     "iopub.status.busy": "2021-03-04T12:43:15.721121Z",
     "iopub.status.idle": "2021-03-04T12:43:20.660269Z",
     "shell.execute_reply": "2021-03-04T12:43:20.660269Z"
    }
   },
   "outputs": [],
   "source": [
    "from pathlib import Path\n",
    "\n",
    "%matplotlib inline\n",
    "\n",
    "import numpy as np\n",
    "import matplotlib.pyplot as plt\n",
    "import scipy.stats as stats\n",
    "\n",
    "import locan as lc"
   ]
  },
  {
   "cell_type": "code",
   "execution_count": 2,
   "metadata": {
    "execution": {
     "iopub.execute_input": "2021-03-04T12:43:20.664270Z",
     "iopub.status.busy": "2021-03-04T12:43:20.663268Z",
     "iopub.status.idle": "2021-03-04T12:43:20.686268Z",
     "shell.execute_reply": "2021-03-04T12:43:20.686268Z"
    }
   },
   "outputs": [
    {
     "name": "stdout",
     "output_type": "stream",
     "text": [
      "\n",
      "Locan:\n",
      "   version: 0.7.dev3+gb9aca40\n",
      "\n",
      "Python:\n",
      "   version: 3.8.8\n"
     ]
    }
   ],
   "source": [
    "lc.show_versions(system=False, dependencies=False, verbose=False)"
   ]
  },
  {
   "cell_type": "markdown",
   "metadata": {},
   "source": [
    "## Simulate data"
   ]
  },
  {
   "cell_type": "markdown",
   "metadata": {},
   "source": [
    "We use synthetic data that represents localizations from a single fluorophore beeing normal distributed in space and emitting at a constant intensity. We assume that the on- and off-times in units of frames are distributed like a geometric distribution with a mean `on_period` and a mean `off_period`."
   ]
  },
  {
   "cell_type": "code",
   "execution_count": 3,
   "metadata": {
    "execution": {
     "iopub.execute_input": "2021-03-04T12:43:20.690269Z",
     "iopub.status.busy": "2021-03-04T12:43:20.689267Z",
     "iopub.status.idle": "2021-03-04T12:43:20.694269Z",
     "shell.execute_reply": "2021-03-04T12:43:20.694269Z"
    }
   },
   "outputs": [],
   "source": [
    "n_samples = 10_000\n",
    "scale_on = 5\n",
    "scale_off = 20\n",
    "\n",
    "on_periods = stats.geom.rvs(p=1/scale_on, size=n_samples)\n",
    "off_periods = stats.geom.rvs(p=1/scale_off, size=n_samples)"
   ]
  },
  {
   "cell_type": "markdown",
   "metadata": {},
   "source": [
    "On- and off-times are converted in a series of frame numbers at which a localization was detected."
   ]
  },
  {
   "cell_type": "code",
   "execution_count": 4,
   "metadata": {
    "execution": {
     "iopub.execute_input": "2021-03-04T12:43:20.698268Z",
     "iopub.status.busy": "2021-03-04T12:43:20.698268Z",
     "iopub.status.idle": "2021-03-04T12:43:20.702268Z",
     "shell.execute_reply": "2021-03-04T12:43:20.702268Z"
    }
   },
   "outputs": [],
   "source": [
    "def periods_to_frames(on_periods, off_periods):\n",
    "    \"\"\"\n",
    "    Convert on- and off-periods into a series of increasing frame values.\n",
    "    \"\"\"\n",
    "    on_frames = np.arange(np.sum(on_periods))\n",
    "    cumsums = np.r_[0, np.cumsum(off_periods)[:-1]]\n",
    "    add_on = np.repeat(cumsums, on_periods)\n",
    "    frames = on_frames + add_on\n",
    "    return frames[:len(on_periods)]\n",
    "\n",
    "frames = periods_to_frames(on_periods, off_periods)"
   ]
  },
  {
   "cell_type": "code",
   "execution_count": 5,
   "metadata": {
    "execution": {
     "iopub.execute_input": "2021-03-04T12:43:20.706269Z",
     "iopub.status.busy": "2021-03-04T12:43:20.706269Z",
     "iopub.status.idle": "2021-03-04T12:43:20.730270Z",
     "shell.execute_reply": "2021-03-04T12:43:20.730270Z"
    }
   },
   "outputs": [
    {
     "name": "stdout",
     "output_type": "stream",
     "text": [
      "Data head:\n",
      "   position_x  position_y  cluster_label  intensity  frame\n",
      "0   27.458864   84.974272              0          1      0\n",
      "1   53.653473   60.827034              0          1      1\n",
      "2   41.452526   80.218665              0          1     26\n",
      "3   43.829492   73.114694              0          1     36\n",
      "4   24.691076   60.204659              0          1     37 \n",
      "\n",
      "Summary:\n",
      "identifier: \"2\"\n",
      "comment: \"\"\n",
      "creation_date: \"2021-03-04 13:43:20 +0100\"\n",
      "modification_date: \"\"\n",
      "source: DESIGN\n",
      "state: RAW\n",
      "element_count: 10000\n",
      "frame_count: 10000\n",
      "file_type: UNKNOWN_FILE_TYPE\n",
      "file_path: \"\"\n",
      "\n",
      "Properties:\n",
      "{'localization_count': 10000, 'position_x': 41.87507635415394, 'position_y': 72.04854958282247, 'region_measure_bb': 5851.401446158712, 'localization_density_bb': 1.7089922973178897, 'subregion_measure_bb': 306.0561945602488}\n"
     ]
    }
   ],
   "source": [
    "locdata = lc.simulate_Thomas(n_samples=n_samples, n_features=2, centers=1, feature_range=(0, 100), cluster_std=10, seed=1)\n",
    "locdata.dataframe['intensity'] = 1\n",
    "locdata.dataframe['frame'] = frames\n",
    "\n",
    "locdata = lc.LocData.from_dataframe(dataframe=locdata.data)\n",
    "\n",
    "print('Data head:')\n",
    "print(locdata.data.head(), '\\n')\n",
    "print('Summary:')\n",
    "locdata.print_summary()\n",
    "print('Properties:')\n",
    "print(locdata.properties)"
   ]
  },
  {
   "cell_type": "code",
   "execution_count": 6,
   "metadata": {
    "execution": {
     "iopub.execute_input": "2021-03-04T12:43:20.744303Z",
     "iopub.status.busy": "2021-03-04T12:43:20.743271Z",
     "iopub.status.idle": "2021-03-04T12:43:20.992275Z",
     "shell.execute_reply": "2021-03-04T12:43:20.994270Z"
    }
   },
   "outputs": [
    {
     "name": "stderr",
     "output_type": "stream",
     "text": [
      "C:\\Miniconda3\\envs\\smlm_analysis\\lib\\site-packages\\numpy\\core\\_asarray.py:102: VisibleDeprecationWarning: Creating an ndarray from ragged nested sequences (which is a list-or-tuple of lists-or-tuples-or ndarrays with different lengths or shapes) is deprecated. If you meant to do this, you must specify 'dtype=object' when creating the ndarray.\n",
      "  return array(a, dtype, copy=False, order=order)\n"
     ]
    },
    {
     "data": {
      "text/plain": [
       "<AxesSubplot:title={'center':'counts'}, xlabel='position_x', ylabel='position_y'>"
      ]
     },
     "execution_count": 1,
     "metadata": {},
     "output_type": "execute_result"
    },
    {
     "data": {
      "image/png": "[encoded data removed]",
      "text/plain": [
       "<Figure size 432x288 with 2 Axes>"
      ]
     },
     "metadata": {
      "needs_background": "light"
     },
     "output_type": "display_data"
    }
   ],
   "source": [
    "lc.render_2d(locdata, bin_size=5);"
   ]
  },
  {
   "cell_type": "markdown",
   "metadata": {},
   "source": [
    "## Blinking statistics"
   ]
  },
  {
   "cell_type": "markdown",
   "metadata": {},
   "source": [
    "To determine on- on off-times for teh observed blink events use the analysis class `BlinkStatistics`."
   ]
  },
  {
   "cell_type": "code",
   "execution_count": 7,
   "metadata": {
    "execution": {
     "iopub.execute_input": "2021-03-04T12:43:21.001271Z",
     "iopub.status.busy": "2021-03-04T12:43:21.000271Z",
     "iopub.status.idle": "2021-03-04T12:43:21.021269Z",
     "shell.execute_reply": "2021-03-04T12:43:21.021269Z"
    }
   },
   "outputs": [
    {
     "data": {
      "text/plain": [
       "BlinkStatistics(memory=0, remove_heading_off_periods=False)"
      ]
     },
     "execution_count": 1,
     "metadata": {},
     "output_type": "execute_result"
    }
   ],
   "source": [
    "bs = lc.BlinkStatistics(memory=0, remove_heading_off_periods=False).compute(locdata)\n",
    "bs"
   ]
  },
  {
   "cell_type": "code",
   "execution_count": 8,
   "metadata": {
    "execution": {
     "iopub.execute_input": "2021-03-04T12:43:21.025269Z",
     "iopub.status.busy": "2021-03-04T12:43:21.025269Z",
     "iopub.status.idle": "2021-03-04T12:43:21.029269Z",
     "shell.execute_reply": "2021-03-04T12:43:21.028270Z"
    }
   },
   "outputs": [
    {
     "data": {
      "text/plain": [
       "{'on_periods': array([2, 1, 4, ..., 2, 3, 7]),\n",
       " 'off_periods': array([24,  9, 23, ..., 31, 22,  1])}"
      ]
     },
     "execution_count": 1,
     "metadata": {},
     "output_type": "execute_result"
    }
   ],
   "source": [
    "bs.results"
   ]
  },
  {
   "cell_type": "markdown",
   "metadata": {},
   "source": [
    "When plotting the histogram an exponential distribution is fitted by default."
   ]
  },
  {
   "cell_type": "code",
   "execution_count": 9,
   "metadata": {
    "execution": {
     "iopub.execute_input": "2021-03-04T12:43:21.066269Z",
     "iopub.status.busy": "2021-03-04T12:43:21.046269Z",
     "iopub.status.idle": "2021-03-04T12:43:21.905269Z",
     "shell.execute_reply": "2021-03-04T12:43:21.905269Z"
    }
   },
   "outputs": [
    {
     "data": {
      "text/plain": [
       "<AxesSubplot:title={'center':'Distribution of on_periods'}, xlabel='on_periods (frames)', ylabel='PDF'>"
      ]
     },
     "execution_count": 1,
     "metadata": {},
     "output_type": "execute_result"
    },
    {
     "data": {
      "image/png": "[encoded data removed]",
      "text/plain": [
       "<Figure size 432x288 with 1 Axes>"
      ]
     },
     "metadata": {
      "needs_background": "light"
     },
     "output_type": "display_data"
    }
   ],
   "source": [
    "bs.hist(data_identifier='on_periods');"
   ]
  },
  {
   "cell_type": "code",
   "execution_count": 10,
   "metadata": {
    "execution": {
     "iopub.execute_input": "2021-03-04T12:43:21.922269Z",
     "iopub.status.busy": "2021-03-04T12:43:21.918268Z",
     "iopub.status.idle": "2021-03-04T12:43:22.391269Z",
     "shell.execute_reply": "2021-03-04T12:43:22.390268Z"
    }
   },
   "outputs": [
    {
     "data": {
      "text/plain": [
       "<AxesSubplot:title={'center':'Distribution of off_periods'}, xlabel='off_periods (frames)', ylabel='PDF'>"
      ]
     },
     "execution_count": 1,
     "metadata": {},
     "output_type": "execute_result"
    },
    {
     "data": {
      "image/png": "[encoded data removed]",
      "text/plain": [
       "<Figure size 432x288 with 1 Axes>"
      ]
     },
     "metadata": {
      "needs_background": "light"
     },
     "output_type": "display_data"
    }
   ],
   "source": [
    "bs.hist(data_identifier='off_periods');"
   ]
  },
  {
   "cell_type": "code",
   "execution_count": 11,
   "metadata": {
    "execution": {
     "iopub.execute_input": "2021-03-04T12:43:22.394269Z",
     "iopub.status.busy": "2021-03-04T12:43:22.394269Z",
     "iopub.status.idle": "2021-03-04T12:43:22.399269Z",
     "shell.execute_reply": "2021-03-04T12:43:22.399269Z"
    }
   },
   "outputs": [
    {
     "data": {
      "text/plain": [
       "{'on_periods': _DistributionFits(analysis_class=BlinkStatistics, distribution=expon_gen, data_identifier=on_periods),\n",
       " 'off_periods': _DistributionFits(analysis_class=BlinkStatistics, distribution=expon_gen, data_identifier=off_periods)}"
      ]
     },
     "execution_count": 1,
     "metadata": {},
     "output_type": "execute_result"
    }
   ],
   "source": [
    "bs.distribution_statistics"
   ]
  },
  {
   "cell_type": "code",
   "execution_count": 12,
   "metadata": {
    "execution": {
     "iopub.execute_input": "2021-03-04T12:43:22.402268Z",
     "iopub.status.busy": "2021-03-04T12:43:22.402268Z",
     "iopub.status.idle": "2021-03-04T12:43:22.406268Z",
     "shell.execute_reply": "2021-03-04T12:43:22.405280Z"
    }
   },
   "outputs": [
    {
     "data": {
      "text/plain": [
       "{'on_periods_loc': 1.0, 'on_periods_scale': 4.112474437627812}"
      ]
     },
     "execution_count": 1,
     "metadata": {},
     "output_type": "execute_result"
    }
   ],
   "source": [
    "bs.distribution_statistics['on_periods'].parameter_dict()"
   ]
  },
  {
   "cell_type": "code",
   "execution_count": 13,
   "metadata": {
    "execution": {
     "iopub.execute_input": "2021-03-04T12:43:22.409269Z",
     "iopub.status.busy": "2021-03-04T12:43:22.409269Z",
     "iopub.status.idle": "2021-03-04T12:43:22.414272Z",
     "shell.execute_reply": "2021-03-04T12:43:22.414272Z"
    }
   },
   "outputs": [
    {
     "data": {
      "text/plain": [
       "{'off_periods_loc': 1.0, 'off_periods_scale': 18.776470588235295}"
      ]
     },
     "execution_count": 1,
     "metadata": {},
     "output_type": "execute_result"
    }
   ],
   "source": [
    "bs.distribution_statistics['off_periods'].parameter_dict()"
   ]
  },
  {
   "cell_type": "markdown",
   "metadata": {},
   "source": [
    "Due to the default setting for the scaling parameter loc the mean on_period is `on_periods_scale + on_periods_loc` in agreement with our input value."
   ]
  },
  {
   "cell_type": "markdown",
   "metadata": {},
   "source": [
    "## Geometric distribution"
   ]
  },
  {
   "cell_type": "markdown",
   "metadata": {},
   "source": [
    "We can compare this with a geometric distribution that is estimated from the observed `mean=1/on_scale`."
   ]
  },
  {
   "cell_type": "code",
   "execution_count": 14,
   "metadata": {
    "execution": {
     "iopub.execute_input": "2021-03-04T12:43:22.418270Z",
     "iopub.status.busy": "2021-03-04T12:43:22.418270Z",
     "iopub.status.idle": "2021-03-04T12:43:22.422269Z",
     "shell.execute_reply": "2021-03-04T12:43:22.421270Z"
    }
   },
   "outputs": [
    {
     "data": {
      "text/plain": [
       "5.11"
      ]
     },
     "execution_count": 1,
     "metadata": {},
     "output_type": "execute_result"
    }
   ],
   "source": [
    "on_periods_mean = bs.results['on_periods'].mean()\n",
    "on_periods_mean.round(2)"
   ]
  },
  {
   "cell_type": "code",
   "execution_count": 15,
   "metadata": {
    "execution": {
     "iopub.execute_input": "2021-03-04T12:43:22.425268Z",
     "iopub.status.busy": "2021-03-04T12:43:22.425268Z",
     "iopub.status.idle": "2021-03-04T12:43:22.428270Z",
     "shell.execute_reply": "2021-03-04T12:43:22.429268Z"
    }
   },
   "outputs": [
    {
     "data": {
      "text/plain": [
       "19.78"
      ]
     },
     "execution_count": 1,
     "metadata": {},
     "output_type": "execute_result"
    }
   ],
   "source": [
    "off_periods_mean = bs.results['off_periods'].mean()\n",
    "off_periods_mean.round(2)"
   ]
  },
  {
   "cell_type": "code",
   "execution_count": 16,
   "metadata": {
    "execution": {
     "iopub.execute_input": "2021-03-04T12:43:22.447271Z",
     "iopub.status.busy": "2021-03-04T12:43:22.445268Z",
     "iopub.status.idle": "2021-03-04T12:43:22.954269Z",
     "shell.execute_reply": "2021-03-04T12:43:22.954269Z"
    }
   },
   "outputs": [
    {
     "data": {
      "image/png": "[encoded data removed]",
      "text/plain": [
       "<Figure size 432x288 with 1 Axes>"
      ]
     },
     "metadata": {
      "needs_background": "light"
     },
     "output_type": "display_data"
    }
   ],
   "source": [
    "# test result\n",
    "x = np.arange(stats.geom.ppf(0.01, 1/on_periods_mean), stats.geom.ppf(0.9999, 1/on_periods_mean))\n",
    "y = stats.geom.pmf(x, 1/on_periods_mean)\n",
    "fig, ax = plt.subplots()\n",
    "bs.hist(data_identifier='on_periods', fit=False, label='data')\n",
    "bs.distribution_statistics['on_periods'].plot(label='exponential')\n",
    "ax.plot(x, y, '-go', label='geometric')\n",
    "ax.set_yscale('log')\n",
    "ax.legend(loc='best')\n",
    "plt.show()"
   ]
  }
 ],
 "metadata": {
  "kernelspec": {
   "display_name": "Python 3",
   "language": "python",
   "name": "python3"
  },
  "language_info": {
   "codemirror_mode": {
    "name": "ipython",
    "version": 3
   },
   "file_extension": ".py",
   "mimetype": "text/x-python",
   "name": "python",
   "nbconvert_exporter": "python",
   "pygments_lexer": "ipython3",
   "version": "3.8.8"
  },
  "widgets": {
   "application/vnd.jupyter.widget-state+json": {
    "state": {},
    "version_major": 2,
    "version_minor": 0
   }
  }
 },
 "nbformat": 4,
 "nbformat_minor": 4
}
