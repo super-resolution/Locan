{
 "cells": [
  {
   "cell_type": "markdown",
   "metadata": {},
   "source": [
    "# Tutorial about tracking LocData objects"
   ]
  },
  {
   "cell_type": "markdown",
   "metadata": {},
   "source": [
    "Tracking refers to link localizations that are close in space over multiple frames and collect those localizations in individual tracks.\n",
    "We here make use of the trackpy package through wrapper functions to deal with LocData objects."
   ]
  },
  {
   "cell_type": "markdown",
   "metadata": {},
   "source": [
    "## Setting things up"
   ]
  },
  {
   "cell_type": "code",
   "execution_count": 1,
   "metadata": {
    "execution": {
     "iopub.execute_input": "2021-03-04T12:48:21.458475Z",
     "iopub.status.busy": "2021-03-04T12:48:21.457480Z",
     "iopub.status.idle": "2021-03-04T12:48:26.917730Z",
     "shell.execute_reply": "2021-03-04T12:48:26.917730Z"
    }
   },
   "outputs": [],
   "source": [
    "%matplotlib inline\n",
    "\n",
    "import numpy as np\n",
    "import pandas as pd\n",
    "import matplotlib.pyplot as plt\n",
    "\n",
    "import locan as lc"
   ]
  },
  {
   "cell_type": "code",
   "execution_count": 2,
   "metadata": {
    "execution": {
     "iopub.execute_input": "2021-03-04T12:48:26.922733Z",
     "iopub.status.busy": "2021-03-04T12:48:26.921730Z",
     "iopub.status.idle": "2021-03-04T12:48:26.947730Z",
     "shell.execute_reply": "2021-03-04T12:48:26.947730Z"
    }
   },
   "outputs": [
    {
     "name": "stdout",
     "output_type": "stream",
     "text": [
      "\n",
      "Locan:\n",
      "   version: 0.7.dev3+gb9aca40\n",
      "\n",
      "Python:\n",
      "   version: 3.8.8\n"
     ]
    }
   ],
   "source": [
    "lc.show_versions(system=False, dependencies=False, verbose=False)"
   ]
  },
  {
   "cell_type": "markdown",
   "metadata": {},
   "source": [
    "### Sample data:"
   ]
  },
  {
   "cell_type": "markdown",
   "metadata": {},
   "source": [
    "A random dataset is created."
   ]
  },
  {
   "cell_type": "code",
   "execution_count": 3,
   "metadata": {
    "execution": {
     "iopub.execute_input": "2021-03-04T12:48:26.955731Z",
     "iopub.status.busy": "2021-03-04T12:48:26.955731Z",
     "iopub.status.idle": "2021-03-04T12:48:26.960730Z",
     "shell.execute_reply": "2021-03-04T12:48:26.960730Z"
    }
   },
   "outputs": [
    {
     "name": "stdout",
     "output_type": "stream",
     "text": [
      "identifier: \"1\"\n",
      "creation_date: \"2021-03-04 13:48:26 +0100\"\n",
      "source: SIMULATION\n",
      "state: RAW\n",
      "history {\n",
      "  name: \"simulate_tracks\"\n",
      "  parameter: \"{\\'n_steps\\': 100, \\'ranges\\': ((0, 1000), (0, 1000)), \\'diffusion_constant\\': 1, \\'time_step\\': 10, \\'seed\\': 1, \\'n_walks\\': 5}\"\n",
      "}\n",
      "element_count: 500\n",
      "frame_count: 100\n",
      "\n"
     ]
    }
   ],
   "source": [
    "dat = lc.simulate_tracks(n_walks=5, n_steps=100, ranges=((0,1000),(0,1000)),\n",
    "                      diffusion_constant=1, seed=1)\n",
    "\n",
    "dat.print_meta()"
   ]
  },
  {
   "cell_type": "code",
   "execution_count": 4,
   "metadata": {
    "execution": {
     "iopub.execute_input": "2021-03-04T12:48:26.965730Z",
     "iopub.status.busy": "2021-03-04T12:48:26.965730Z",
     "iopub.status.idle": "2021-03-04T12:48:26.977733Z",
     "shell.execute_reply": "2021-03-04T12:48:26.977733Z"
    }
   },
   "outputs": [
    {
     "data": {
      "text/html": [
       "<div>\n",
       "<style scoped>\n",
       "    .dataframe tbody tr th:only-of-type {\n",
       "        vertical-align: middle;\n",
       "    }\n",
       "\n",
       "    .dataframe tbody tr th {\n",
       "        vertical-align: top;\n",
       "    }\n",
       "\n",
       "    .dataframe thead th {\n",
       "        text-align: right;\n",
       "    }\n",
       "</style>\n",
       "<table border=\"1\" class=\"dataframe\">\n",
       "  <thead>\n",
       "    <tr style=\"text-align: right;\">\n",
       "      <th></th>\n",
       "      <th>position_x</th>\n",
       "      <th>position_y</th>\n",
       "      <th>frame</th>\n",
       "    </tr>\n",
       "  </thead>\n",
       "  <tbody>\n",
       "    <tr>\n",
       "      <th>0</th>\n",
       "      <td>410.697449</td>\n",
       "      <td>98.663150</td>\n",
       "      <td>0</td>\n",
       "    </tr>\n",
       "    <tr>\n",
       "      <th>1</th>\n",
       "      <td>404.372894</td>\n",
       "      <td>92.338595</td>\n",
       "      <td>1</td>\n",
       "    </tr>\n",
       "    <tr>\n",
       "      <th>2</th>\n",
       "      <td>410.697449</td>\n",
       "      <td>86.014039</td>\n",
       "      <td>2</td>\n",
       "    </tr>\n",
       "    <tr>\n",
       "      <th>3</th>\n",
       "      <td>404.372894</td>\n",
       "      <td>79.689484</td>\n",
       "      <td>3</td>\n",
       "    </tr>\n",
       "    <tr>\n",
       "      <th>4</th>\n",
       "      <td>410.697449</td>\n",
       "      <td>73.364929</td>\n",
       "      <td>4</td>\n",
       "    </tr>\n",
       "  </tbody>\n",
       "</table>\n",
       "</div>"
      ],
      "text/plain": [
       "   position_x  position_y  frame\n",
       "0  410.697449   98.663150      0\n",
       "1  404.372894   92.338595      1\n",
       "2  410.697449   86.014039      2\n",
       "3  404.372894   79.689484      3\n",
       "4  410.697449   73.364929      4"
      ]
     },
     "execution_count": 1,
     "metadata": {},
     "output_type": "execute_result"
    }
   ],
   "source": [
    "dat.data.head()"
   ]
  },
  {
   "cell_type": "markdown",
   "metadata": {},
   "source": [
    "### Show scatter plots"
   ]
  },
  {
   "cell_type": "code",
   "execution_count": 5,
   "metadata": {
    "execution": {
     "iopub.execute_input": "2021-03-04T12:48:26.997730Z",
     "iopub.status.busy": "2021-03-04T12:48:26.993731Z",
     "iopub.status.idle": "2021-03-04T12:48:27.210732Z",
     "shell.execute_reply": "2021-03-04T12:48:27.211732Z"
    }
   },
   "outputs": [
    {
     "data": {
      "image/png": "[encoded data removed]",
      "text/plain": [
       "<Figure size 432x288 with 1 Axes>"
      ]
     },
     "metadata": {
      "needs_background": "light"
     },
     "output_type": "display_data"
    }
   ],
   "source": [
    "fig, ax = plt.subplots(nrows=1, ncols=1)\n",
    "dat.data.plot.scatter(x='position_x', y='position_y', ax=ax, color='Blue', label='locdata')\n",
    "plt.show()"
   ]
  },
  {
   "cell_type": "markdown",
   "metadata": {},
   "source": [
    "## Track locdata"
   ]
  },
  {
   "cell_type": "markdown",
   "metadata": {},
   "source": [
    "The track function collects tracks in a new locdata object."
   ]
  },
  {
   "cell_type": "code",
   "execution_count": 6,
   "metadata": {
    "execution": {
     "iopub.execute_input": "2021-03-04T12:48:27.221732Z",
     "iopub.status.busy": "2021-03-04T12:48:27.216732Z",
     "iopub.status.idle": "2021-03-04T12:48:28.557732Z",
     "shell.execute_reply": "2021-03-04T12:48:28.558733Z"
    }
   },
   "outputs": [
    {
     "name": "stdout",
     "output_type": "stream",
     "text": [
      "Frame 99: 5 trajectories present.\n"
     ]
    }
   ],
   "source": [
    "tracks, track_numbers = lc.track(dat, search_range=500)"
   ]
  },
  {
   "cell_type": "code",
   "execution_count": 7,
   "metadata": {
    "execution": {
     "iopub.execute_input": "2021-03-04T12:48:28.563735Z",
     "iopub.status.busy": "2021-03-04T12:48:28.562730Z",
     "iopub.status.idle": "2021-03-04T12:48:28.569733Z",
     "shell.execute_reply": "2021-03-04T12:48:28.568733Z"
    }
   },
   "outputs": [
    {
     "name": "stdout",
     "output_type": "stream",
     "text": [
      "identifier: \"7\"\n",
      "comment: \"\"\n",
      "creation_date: \"2021-03-04 13:48:28 +0100\"\n",
      "modification_date: \"\"\n",
      "source: DESIGN\n",
      "state: RAW\n",
      "element_count: 5\n",
      "frame_count: 1\n",
      "file_type: UNKNOWN_FILE_TYPE\n",
      "file_path: \"\"\n",
      "\n"
     ]
    }
   ],
   "source": [
    "tracks.print_summary()"
   ]
  },
  {
   "cell_type": "code",
   "execution_count": 8,
   "metadata": {
    "execution": {
     "iopub.execute_input": "2021-03-04T12:48:28.583737Z",
     "iopub.status.busy": "2021-03-04T12:48:28.583737Z",
     "iopub.status.idle": "2021-03-04T12:48:28.587733Z",
     "shell.execute_reply": "2021-03-04T12:48:28.588733Z"
    }
   },
   "outputs": [
    {
     "data": {
      "text/html": [
       "<div>\n",
       "<style scoped>\n",
       "    .dataframe tbody tr th:only-of-type {\n",
       "        vertical-align: middle;\n",
       "    }\n",
       "\n",
       "    .dataframe tbody tr th {\n",
       "        vertical-align: top;\n",
       "    }\n",
       "\n",
       "    .dataframe thead th {\n",
       "        text-align: right;\n",
       "    }\n",
       "</style>\n",
       "<table border=\"1\" class=\"dataframe\">\n",
       "  <thead>\n",
       "    <tr style=\"text-align: right;\">\n",
       "      <th></th>\n",
       "      <th>localization_count</th>\n",
       "      <th>position_x</th>\n",
       "      <th>position_y</th>\n",
       "      <th>region_measure_bb</th>\n",
       "      <th>localization_density_bb</th>\n",
       "      <th>subregion_measure_bb</th>\n",
       "      <th>frame</th>\n",
       "    </tr>\n",
       "  </thead>\n",
       "  <tbody>\n",
       "    <tr>\n",
       "      <th>0</th>\n",
       "      <td>100</td>\n",
       "      <td>452.439514</td>\n",
       "      <td>87.405442</td>\n",
       "      <td>7280.0</td>\n",
       "      <td>0.013736</td>\n",
       "      <td>341.525987</td>\n",
       "      <td>0</td>\n",
       "    </tr>\n",
       "    <tr>\n",
       "      <th>1</th>\n",
       "      <td>100</td>\n",
       "      <td>153.459919</td>\n",
       "      <td>486.449416</td>\n",
       "      <td>10080.0</td>\n",
       "      <td>0.009921</td>\n",
       "      <td>404.771541</td>\n",
       "      <td>0</td>\n",
       "    </tr>\n",
       "    <tr>\n",
       "      <th>2</th>\n",
       "      <td>100</td>\n",
       "      <td>711.470116</td>\n",
       "      <td>217.377024</td>\n",
       "      <td>13200.0</td>\n",
       "      <td>0.007576</td>\n",
       "      <td>468.017094</td>\n",
       "      <td>0</td>\n",
       "    </tr>\n",
       "    <tr>\n",
       "      <th>3</th>\n",
       "      <td>100</td>\n",
       "      <td>279.184700</td>\n",
       "      <td>334.786832</td>\n",
       "      <td>7040.0</td>\n",
       "      <td>0.014205</td>\n",
       "      <td>341.525987</td>\n",
       "      <td>0</td>\n",
       "    </tr>\n",
       "    <tr>\n",
       "      <th>4</th>\n",
       "      <td>100</td>\n",
       "      <td>-24.424900</td>\n",
       "      <td>325.575132</td>\n",
       "      <td>10640.0</td>\n",
       "      <td>0.009398</td>\n",
       "      <td>417.420651</td>\n",
       "      <td>0</td>\n",
       "    </tr>\n",
       "  </tbody>\n",
       "</table>\n",
       "</div>"
      ],
      "text/plain": [
       "   localization_count  position_x  position_y  region_measure_bb  \\\n",
       "0                 100  452.439514   87.405442             7280.0   \n",
       "1                 100  153.459919  486.449416            10080.0   \n",
       "2                 100  711.470116  217.377024            13200.0   \n",
       "3                 100  279.184700  334.786832             7040.0   \n",
       "4                 100  -24.424900  325.575132            10640.0   \n",
       "\n",
       "   localization_density_bb  subregion_measure_bb  frame  \n",
       "0                 0.013736            341.525987      0  \n",
       "1                 0.009921            404.771541      0  \n",
       "2                 0.007576            468.017094      0  \n",
       "3                 0.014205            341.525987      0  \n",
       "4                 0.009398            417.420651      0  "
      ]
     },
     "execution_count": 1,
     "metadata": {},
     "output_type": "execute_result"
    }
   ],
   "source": [
    "tracks.data"
   ]
  },
  {
   "cell_type": "code",
   "execution_count": 9,
   "metadata": {
    "execution": {
     "iopub.execute_input": "2021-03-04T12:48:28.600732Z",
     "iopub.status.busy": "2021-03-04T12:48:28.599731Z",
     "iopub.status.idle": "2021-03-04T12:48:28.605731Z",
     "shell.execute_reply": "2021-03-04T12:48:28.606730Z"
    }
   },
   "outputs": [
    {
     "data": {
      "text/html": [
       "<div>\n",
       "<style scoped>\n",
       "    .dataframe tbody tr th:only-of-type {\n",
       "        vertical-align: middle;\n",
       "    }\n",
       "\n",
       "    .dataframe tbody tr th {\n",
       "        vertical-align: top;\n",
       "    }\n",
       "\n",
       "    .dataframe thead th {\n",
       "        text-align: right;\n",
       "    }\n",
       "</style>\n",
       "<table border=\"1\" class=\"dataframe\">\n",
       "  <thead>\n",
       "    <tr style=\"text-align: right;\">\n",
       "      <th></th>\n",
       "      <th>position_x</th>\n",
       "      <th>position_y</th>\n",
       "      <th>frame</th>\n",
       "    </tr>\n",
       "  </thead>\n",
       "  <tbody>\n",
       "    <tr>\n",
       "      <th>0</th>\n",
       "      <td>410.697449</td>\n",
       "      <td>98.663150</td>\n",
       "      <td>0</td>\n",
       "    </tr>\n",
       "    <tr>\n",
       "      <th>1</th>\n",
       "      <td>404.372894</td>\n",
       "      <td>92.338595</td>\n",
       "      <td>1</td>\n",
       "    </tr>\n",
       "    <tr>\n",
       "      <th>2</th>\n",
       "      <td>410.697449</td>\n",
       "      <td>86.014039</td>\n",
       "      <td>2</td>\n",
       "    </tr>\n",
       "    <tr>\n",
       "      <th>3</th>\n",
       "      <td>404.372894</td>\n",
       "      <td>79.689484</td>\n",
       "      <td>3</td>\n",
       "    </tr>\n",
       "    <tr>\n",
       "      <th>4</th>\n",
       "      <td>410.697449</td>\n",
       "      <td>73.364929</td>\n",
       "      <td>4</td>\n",
       "    </tr>\n",
       "  </tbody>\n",
       "</table>\n",
       "</div>"
      ],
      "text/plain": [
       "   position_x  position_y  frame\n",
       "0  410.697449   98.663150      0\n",
       "1  404.372894   92.338595      1\n",
       "2  410.697449   86.014039      2\n",
       "3  404.372894   79.689484      3\n",
       "4  410.697449   73.364929      4"
      ]
     },
     "execution_count": 1,
     "metadata": {},
     "output_type": "execute_result"
    }
   ],
   "source": [
    "tracks.references[0].data.head()"
   ]
  },
  {
   "cell_type": "code",
   "execution_count": 10,
   "metadata": {
    "execution": {
     "iopub.execute_input": "2021-03-04T12:48:28.627732Z",
     "iopub.status.busy": "2021-03-04T12:48:28.626733Z",
     "iopub.status.idle": "2021-03-04T12:48:28.835731Z",
     "shell.execute_reply": "2021-03-04T12:48:28.834731Z"
    }
   },
   "outputs": [
    {
     "data": {
      "image/png": "[encoded data removed]",
      "text/plain": [
       "<Figure size 432x288 with 1 Axes>"
      ]
     },
     "metadata": {
      "needs_background": "light"
     },
     "output_type": "display_data"
    }
   ],
   "source": [
    "fig, ax = plt.subplots(nrows=1, ncols=1)\n",
    "dat.data.plot.scatter(x='position_x', y='position_y', ax=ax, color='Blue', label='locdata')\n",
    "tracks.references[0].data.plot.scatter(x='position_x', y='position_y', ax=ax, color='Red', label='track 0')\n",
    "plt.show()"
   ]
  },
  {
   "cell_type": "code",
   "execution_count": 11,
   "metadata": {
    "execution": {
     "iopub.execute_input": "2021-03-04T12:48:28.866730Z",
     "iopub.status.busy": "2021-03-04T12:48:28.865729Z",
     "iopub.status.idle": "2021-03-04T12:48:29.068733Z",
     "shell.execute_reply": "2021-03-04T12:48:29.069731Z"
    }
   },
   "outputs": [
    {
     "data": {
      "image/png": "[encoded data removed]",
      "text/plain": [
       "<Figure size 432x288 with 1 Axes>"
      ]
     },
     "metadata": {
      "needs_background": "light"
     },
     "output_type": "display_data"
    }
   ],
   "source": [
    "fig, ax = plt.subplots(nrows=1, ncols=1)\n",
    "dat.data.plot.scatter(x='position_x', y='position_y', ax=ax, color='Blue', label='locdata')\n",
    "tracks.data.plot.scatter(x='position_x', y='position_y', ax=ax, color='Red', label='tracks')\n",
    "plt.show()"
   ]
  },
  {
   "cell_type": "markdown",
   "metadata": {},
   "source": [
    "To show individual tracks make use of the reference attribute."
   ]
  },
  {
   "cell_type": "code",
   "execution_count": 12,
   "metadata": {
    "execution": {
     "iopub.execute_input": "2021-03-04T12:48:29.124730Z",
     "iopub.status.busy": "2021-03-04T12:48:29.097768Z",
     "iopub.status.idle": "2021-03-04T12:48:29.370731Z",
     "shell.execute_reply": "2021-03-04T12:48:29.371730Z"
    }
   },
   "outputs": [
    {
     "data": {
      "image/png": "[encoded data removed]",
      "text/plain": [
       "<Figure size 432x288 with 1 Axes>"
      ]
     },
     "metadata": {
      "needs_background": "light"
     },
     "output_type": "display_data"
    }
   ],
   "source": [
    "fig, ax = plt.subplots(nrows=1, ncols=1)\n",
    "\n",
    "jet= plt.get_cmap('jet')\n",
    "colors = iter(jet(np.linspace(0,1,len(tracks))))\n",
    "\n",
    "for ref in tracks.references:\n",
    "    c=next(colors)\n",
    "    ref.data.plot.scatter(x='position_x', y='position_y', ax=ax, color=(c,), label=ref.meta.identifier)\n",
    "\n",
    "plt.show()"
   ]
  },
  {
   "cell_type": "markdown",
   "metadata": {},
   "source": [
    "Alternatively a pandas DataFrame is generated by using the link_locdata method."
   ]
  },
  {
   "cell_type": "code",
   "execution_count": 13,
   "metadata": {
    "execution": {
     "iopub.execute_input": "2021-03-04T12:48:29.377730Z",
     "iopub.status.busy": "2021-03-04T12:48:29.377730Z",
     "iopub.status.idle": "2021-03-04T12:48:29.754735Z",
     "shell.execute_reply": "2021-03-04T12:48:29.755736Z"
    }
   },
   "outputs": [
    {
     "name": "stdout",
     "output_type": "stream",
     "text": [
      "Frame 99: 5 trajectories present.\n"
     ]
    }
   ],
   "source": [
    "links = lc.link_locdata(dat, search_range=10)"
   ]
  },
  {
   "cell_type": "code",
   "execution_count": 14,
   "metadata": {
    "execution": {
     "iopub.execute_input": "2021-03-04T12:48:29.763733Z",
     "iopub.status.busy": "2021-03-04T12:48:29.761732Z",
     "iopub.status.idle": "2021-03-04T12:48:29.769732Z",
     "shell.execute_reply": "2021-03-04T12:48:29.768732Z"
    }
   },
   "outputs": [
    {
     "data": {
      "text/plain": [
       "0      0\n",
       "400    1\n",
       "100    2\n",
       "300    3\n",
       "200    4\n",
       "Name: track, dtype: int64"
      ]
     },
     "execution_count": 1,
     "metadata": {},
     "output_type": "execute_result"
    }
   ],
   "source": [
    "links.head()"
   ]
  },
  {
   "cell_type": "markdown",
   "metadata": {},
   "source": [
    "Use the following to add particle column to original locdata dataset."
   ]
  },
  {
   "cell_type": "code",
   "execution_count": 15,
   "metadata": {
    "execution": {
     "iopub.execute_input": "2021-03-04T12:48:29.777732Z",
     "iopub.status.busy": "2021-03-04T12:48:29.775731Z",
     "iopub.status.idle": "2021-03-04T12:48:29.779732Z",
     "shell.execute_reply": "2021-03-04T12:48:29.779732Z"
    }
   },
   "outputs": [],
   "source": [
    "dat.data.loc[links.index,'track']=links"
   ]
  },
  {
   "cell_type": "code",
   "execution_count": 16,
   "metadata": {
    "execution": {
     "iopub.execute_input": "2021-03-04T12:48:29.791731Z",
     "iopub.status.busy": "2021-03-04T12:48:29.790733Z",
     "iopub.status.idle": "2021-03-04T12:48:29.794736Z",
     "shell.execute_reply": "2021-03-04T12:48:29.795732Z"
    }
   },
   "outputs": [
    {
     "data": {
      "text/html": [
       "<div>\n",
       "<style scoped>\n",
       "    .dataframe tbody tr th:only-of-type {\n",
       "        vertical-align: middle;\n",
       "    }\n",
       "\n",
       "    .dataframe tbody tr th {\n",
       "        vertical-align: top;\n",
       "    }\n",
       "\n",
       "    .dataframe thead th {\n",
       "        text-align: right;\n",
       "    }\n",
       "</style>\n",
       "<table border=\"1\" class=\"dataframe\">\n",
       "  <thead>\n",
       "    <tr style=\"text-align: right;\">\n",
       "      <th></th>\n",
       "      <th>position_x</th>\n",
       "      <th>position_y</th>\n",
       "      <th>frame</th>\n",
       "      <th>track</th>\n",
       "    </tr>\n",
       "  </thead>\n",
       "  <tbody>\n",
       "    <tr>\n",
       "      <th>0</th>\n",
       "      <td>410.697449</td>\n",
       "      <td>98.663150</td>\n",
       "      <td>0</td>\n",
       "      <td>0</td>\n",
       "    </tr>\n",
       "    <tr>\n",
       "      <th>1</th>\n",
       "      <td>404.372894</td>\n",
       "      <td>92.338595</td>\n",
       "      <td>1</td>\n",
       "      <td>0</td>\n",
       "    </tr>\n",
       "    <tr>\n",
       "      <th>2</th>\n",
       "      <td>410.697449</td>\n",
       "      <td>86.014039</td>\n",
       "      <td>2</td>\n",
       "      <td>0</td>\n",
       "    </tr>\n",
       "    <tr>\n",
       "      <th>3</th>\n",
       "      <td>404.372894</td>\n",
       "      <td>79.689484</td>\n",
       "      <td>3</td>\n",
       "      <td>0</td>\n",
       "    </tr>\n",
       "    <tr>\n",
       "      <th>4</th>\n",
       "      <td>410.697449</td>\n",
       "      <td>73.364929</td>\n",
       "      <td>4</td>\n",
       "      <td>0</td>\n",
       "    </tr>\n",
       "  </tbody>\n",
       "</table>\n",
       "</div>"
      ],
      "text/plain": [
       "   position_x  position_y  frame  track\n",
       "0  410.697449   98.663150      0      0\n",
       "1  404.372894   92.338595      1      0\n",
       "2  410.697449   86.014039      2      0\n",
       "3  404.372894   79.689484      3      0\n",
       "4  410.697449   73.364929      4      0"
      ]
     },
     "execution_count": 1,
     "metadata": {},
     "output_type": "execute_result"
    }
   ],
   "source": [
    "dat.data.head()"
   ]
  },
  {
   "cell_type": "markdown",
   "metadata": {},
   "source": [
    "## Track using trackpy with locdata.data as input"
   ]
  },
  {
   "cell_type": "markdown",
   "metadata": {},
   "source": [
    "For a detailed tracking analysis you might want to use trackpy functions with the pandas DataFrame carrying localization data as input."
   ]
  },
  {
   "cell_type": "code",
   "execution_count": 17,
   "metadata": {
    "execution": {
     "iopub.execute_input": "2021-03-04T12:48:29.799731Z",
     "iopub.status.busy": "2021-03-04T12:48:29.798731Z",
     "iopub.status.idle": "2021-03-04T12:48:29.804732Z",
     "shell.execute_reply": "2021-03-04T12:48:29.805731Z"
    }
   },
   "outputs": [],
   "source": [
    "import trackpy as tp"
   ]
  },
  {
   "cell_type": "code",
   "execution_count": 18,
   "metadata": {
    "execution": {
     "iopub.execute_input": "2021-03-04T12:48:29.814733Z",
     "iopub.status.busy": "2021-03-04T12:48:29.813736Z",
     "iopub.status.idle": "2021-03-04T12:48:30.282736Z",
     "shell.execute_reply": "2021-03-04T12:48:30.283735Z"
    }
   },
   "outputs": [
    {
     "name": "stdout",
     "output_type": "stream",
     "text": [
      "Frame 99: 5 trajectories present.\n"
     ]
    },
    {
     "data": {
      "text/html": [
       "<div>\n",
       "<style scoped>\n",
       "    .dataframe tbody tr th:only-of-type {\n",
       "        vertical-align: middle;\n",
       "    }\n",
       "\n",
       "    .dataframe tbody tr th {\n",
       "        vertical-align: top;\n",
       "    }\n",
       "\n",
       "    .dataframe thead th {\n",
       "        text-align: right;\n",
       "    }\n",
       "</style>\n",
       "<table border=\"1\" class=\"dataframe\">\n",
       "  <thead>\n",
       "    <tr style=\"text-align: right;\">\n",
       "      <th></th>\n",
       "      <th>position_x</th>\n",
       "      <th>position_y</th>\n",
       "      <th>frame</th>\n",
       "      <th>track</th>\n",
       "      <th>particle</th>\n",
       "    </tr>\n",
       "  </thead>\n",
       "  <tbody>\n",
       "    <tr>\n",
       "      <th>0</th>\n",
       "      <td>410.697449</td>\n",
       "      <td>98.663150</td>\n",
       "      <td>0</td>\n",
       "      <td>0</td>\n",
       "      <td>0</td>\n",
       "    </tr>\n",
       "    <tr>\n",
       "      <th>400</th>\n",
       "      <td>140.431335</td>\n",
       "      <td>545.141289</td>\n",
       "      <td>0</td>\n",
       "      <td>1</td>\n",
       "      <td>1</td>\n",
       "    </tr>\n",
       "    <tr>\n",
       "      <th>100</th>\n",
       "      <td>726.649049</td>\n",
       "      <td>192.584767</td>\n",
       "      <td>0</td>\n",
       "      <td>2</td>\n",
       "      <td>2</td>\n",
       "    </tr>\n",
       "    <tr>\n",
       "      <th>300</th>\n",
       "      <td>296.008017</td>\n",
       "      <td>390.442919</td>\n",
       "      <td>0</td>\n",
       "      <td>3</td>\n",
       "      <td>3</td>\n",
       "    </tr>\n",
       "    <tr>\n",
       "      <th>200</th>\n",
       "      <td>-6.210181</td>\n",
       "      <td>351.885282</td>\n",
       "      <td>0</td>\n",
       "      <td>4</td>\n",
       "      <td>4</td>\n",
       "    </tr>\n",
       "    <tr>\n",
       "      <th>1</th>\n",
       "      <td>404.372894</td>\n",
       "      <td>92.338595</td>\n",
       "      <td>1</td>\n",
       "      <td>0</td>\n",
       "      <td>0</td>\n",
       "    </tr>\n",
       "    <tr>\n",
       "      <th>401</th>\n",
       "      <td>146.755891</td>\n",
       "      <td>551.465845</td>\n",
       "      <td>1</td>\n",
       "      <td>1</td>\n",
       "      <td>1</td>\n",
       "    </tr>\n",
       "    <tr>\n",
       "      <th>101</th>\n",
       "      <td>732.973604</td>\n",
       "      <td>198.909322</td>\n",
       "      <td>1</td>\n",
       "      <td>2</td>\n",
       "      <td>2</td>\n",
       "    </tr>\n",
       "    <tr>\n",
       "      <th>201</th>\n",
       "      <td>-12.534736</td>\n",
       "      <td>345.560727</td>\n",
       "      <td>1</td>\n",
       "      <td>4</td>\n",
       "      <td>4</td>\n",
       "    </tr>\n",
       "    <tr>\n",
       "      <th>301</th>\n",
       "      <td>289.683462</td>\n",
       "      <td>396.767474</td>\n",
       "      <td>1</td>\n",
       "      <td>3</td>\n",
       "      <td>3</td>\n",
       "    </tr>\n",
       "  </tbody>\n",
       "</table>\n",
       "</div>"
      ],
      "text/plain": [
       "     position_x  position_y  frame  track  particle\n",
       "0    410.697449   98.663150      0      0         0\n",
       "400  140.431335  545.141289      0      1         1\n",
       "100  726.649049  192.584767      0      2         2\n",
       "300  296.008017  390.442919      0      3         3\n",
       "200   -6.210181  351.885282      0      4         4\n",
       "1    404.372894   92.338595      1      0         0\n",
       "401  146.755891  551.465845      1      1         1\n",
       "101  732.973604  198.909322      1      2         2\n",
       "201  -12.534736  345.560727      1      4         4\n",
       "301  289.683462  396.767474      1      3         3"
      ]
     },
     "execution_count": 1,
     "metadata": {},
     "output_type": "execute_result"
    }
   ],
   "source": [
    "t = tp.link_df(dat.data, search_range=100, memory=1, pos_columns=['position_x', 'position_y'], t_column='frame')\n",
    "\n",
    "t.head(10)"
   ]
  },
  {
   "cell_type": "code",
   "execution_count": 19,
   "metadata": {
    "execution": {
     "iopub.execute_input": "2021-03-04T12:48:30.313731Z",
     "iopub.status.busy": "2021-03-04T12:48:30.287734Z",
     "iopub.status.idle": "2021-03-04T12:48:30.441730Z",
     "shell.execute_reply": "2021-03-04T12:48:30.440731Z"
    }
   },
   "outputs": [
    {
     "data": {
      "image/png": "[encoded data removed]",
      "text/plain": [
       "<Figure size 432x288 with 1 Axes>"
      ]
     },
     "metadata": {
      "needs_background": "light"
     },
     "output_type": "display_data"
    },
    {
     "data": {
      "text/plain": [
       "<AxesSubplot:xlabel='position_x [px]', ylabel='position_y [px]'>"
      ]
     },
     "execution_count": 1,
     "metadata": {},
     "output_type": "execute_result"
    }
   ],
   "source": [
    "plt.figure()\n",
    "tp.plot_traj(t, pos_columns=['position_x', 'position_y'], t_column='frame');"
   ]
  },
  {
   "cell_type": "markdown",
   "metadata": {},
   "source": [
    "## filter"
   ]
  },
  {
   "cell_type": "code",
   "execution_count": 20,
   "metadata": {
    "execution": {
     "iopub.execute_input": "2021-03-04T12:48:30.449730Z",
     "iopub.status.busy": "2021-03-04T12:48:30.449730Z",
     "iopub.status.idle": "2021-03-04T12:48:30.453730Z",
     "shell.execute_reply": "2021-03-04T12:48:30.453730Z"
    }
   },
   "outputs": [
    {
     "data": {
      "text/html": [
       "<div>\n",
       "<style scoped>\n",
       "    .dataframe tbody tr th:only-of-type {\n",
       "        vertical-align: middle;\n",
       "    }\n",
       "\n",
       "    .dataframe tbody tr th {\n",
       "        vertical-align: top;\n",
       "    }\n",
       "\n",
       "    .dataframe thead th {\n",
       "        text-align: right;\n",
       "    }\n",
       "</style>\n",
       "<table border=\"1\" class=\"dataframe\">\n",
       "  <thead>\n",
       "    <tr style=\"text-align: right;\">\n",
       "      <th></th>\n",
       "      <th>position_x</th>\n",
       "      <th>position_y</th>\n",
       "      <th>frame</th>\n",
       "      <th>track</th>\n",
       "      <th>particle</th>\n",
       "    </tr>\n",
       "  </thead>\n",
       "  <tbody>\n",
       "    <tr>\n",
       "      <th>0</th>\n",
       "      <td>410.697449</td>\n",
       "      <td>98.663150</td>\n",
       "      <td>0</td>\n",
       "      <td>0</td>\n",
       "      <td>0</td>\n",
       "    </tr>\n",
       "    <tr>\n",
       "      <th>400</th>\n",
       "      <td>140.431335</td>\n",
       "      <td>545.141289</td>\n",
       "      <td>0</td>\n",
       "      <td>1</td>\n",
       "      <td>1</td>\n",
       "    </tr>\n",
       "    <tr>\n",
       "      <th>100</th>\n",
       "      <td>726.649049</td>\n",
       "      <td>192.584767</td>\n",
       "      <td>0</td>\n",
       "      <td>2</td>\n",
       "      <td>2</td>\n",
       "    </tr>\n",
       "    <tr>\n",
       "      <th>300</th>\n",
       "      <td>296.008017</td>\n",
       "      <td>390.442919</td>\n",
       "      <td>0</td>\n",
       "      <td>3</td>\n",
       "      <td>3</td>\n",
       "    </tr>\n",
       "    <tr>\n",
       "      <th>200</th>\n",
       "      <td>-6.210181</td>\n",
       "      <td>351.885282</td>\n",
       "      <td>0</td>\n",
       "      <td>4</td>\n",
       "      <td>4</td>\n",
       "    </tr>\n",
       "  </tbody>\n",
       "</table>\n",
       "</div>"
      ],
      "text/plain": [
       "     position_x  position_y  frame  track  particle\n",
       "0    410.697449   98.663150      0      0         0\n",
       "400  140.431335  545.141289      0      1         1\n",
       "100  726.649049  192.584767      0      2         2\n",
       "300  296.008017  390.442919      0      3         3\n",
       "200   -6.210181  351.885282      0      4         4"
      ]
     },
     "execution_count": 1,
     "metadata": {},
     "output_type": "execute_result"
    }
   ],
   "source": [
    "t.head()"
   ]
  },
  {
   "cell_type": "code",
   "execution_count": 21,
   "metadata": {
    "execution": {
     "iopub.execute_input": "2021-03-04T12:48:30.461730Z",
     "iopub.status.busy": "2021-03-04T12:48:30.460786Z",
     "iopub.status.idle": "2021-03-04T12:48:30.465731Z",
     "shell.execute_reply": "2021-03-04T12:48:30.465731Z"
    }
   },
   "outputs": [
    {
     "data": {
      "text/plain": [
       "500"
      ]
     },
     "execution_count": 1,
     "metadata": {},
     "output_type": "execute_result"
    }
   ],
   "source": [
    "t1 = tp.filter_stubs(t, 10).reset_index(drop=True)\n",
    "len(t1)"
   ]
  },
  {
   "cell_type": "code",
   "execution_count": 22,
   "metadata": {
    "execution": {
     "iopub.execute_input": "2021-03-04T12:48:30.487731Z",
     "iopub.status.busy": "2021-03-04T12:48:30.485731Z",
     "iopub.status.idle": "2021-03-04T12:48:30.599730Z",
     "shell.execute_reply": "2021-03-04T12:48:30.599730Z"
    }
   },
   "outputs": [
    {
     "data": {
      "image/png": "[encoded data removed]",
      "text/plain": [
       "<Figure size 432x288 with 1 Axes>"
      ]
     },
     "metadata": {
      "needs_background": "light"
     },
     "output_type": "display_data"
    },
    {
     "data": {
      "text/plain": [
       "<AxesSubplot:xlabel='position_x [px]', ylabel='position_y [px]'>"
      ]
     },
     "execution_count": 1,
     "metadata": {},
     "output_type": "execute_result"
    }
   ],
   "source": [
    "plt.figure()\n",
    "tp.plot_traj(t1, pos_columns=['position_x', 'position_y']);"
   ]
  },
  {
   "cell_type": "markdown",
   "metadata": {},
   "source": [
    "## drift"
   ]
  },
  {
   "cell_type": "code",
   "execution_count": 23,
   "metadata": {
    "execution": {
     "iopub.execute_input": "2021-03-04T12:48:30.618734Z",
     "iopub.status.busy": "2021-03-04T12:48:30.617735Z",
     "iopub.status.idle": "2021-03-04T12:48:30.623739Z",
     "shell.execute_reply": "2021-03-04T12:48:30.622740Z"
    }
   },
   "outputs": [],
   "source": [
    "d = tp.compute_drift(t1, pos_columns=['position_x', 'position_y'])"
   ]
  },
  {
   "cell_type": "code",
   "execution_count": 24,
   "metadata": {
    "execution": {
     "iopub.execute_input": "2021-03-04T12:48:30.647730Z",
     "iopub.status.busy": "2021-03-04T12:48:30.646729Z",
     "iopub.status.idle": "2021-03-04T12:48:30.795731Z",
     "shell.execute_reply": "2021-03-04T12:48:30.795731Z"
    }
   },
   "outputs": [
    {
     "data": {
      "image/png": "[encoded data removed]",
      "text/plain": [
       "<Figure size 432x288 with 1 Axes>"
      ]
     },
     "metadata": {
      "needs_background": "light"
     },
     "output_type": "display_data"
    }
   ],
   "source": [
    "d.plot()\n",
    "plt.show()"
   ]
  },
  {
   "cell_type": "markdown",
   "metadata": {},
   "source": [
    "## msd"
   ]
  },
  {
   "cell_type": "code",
   "execution_count": 25,
   "metadata": {
    "execution": {
     "iopub.execute_input": "2021-03-04T12:48:30.803731Z",
     "iopub.status.busy": "2021-03-04T12:48:30.800767Z",
     "iopub.status.idle": "2021-03-04T12:48:30.818730Z",
     "shell.execute_reply": "2021-03-04T12:48:30.818730Z"
    }
   },
   "outputs": [],
   "source": [
    "em = tp.emsd(t1,0.1, 100, pos_columns=['position_x', 'position_y']) # microns per pixel = 100/285., frames per second = 24"
   ]
  },
  {
   "cell_type": "code",
   "execution_count": 26,
   "metadata": {
    "execution": {
     "iopub.execute_input": "2021-03-04T12:48:30.838730Z",
     "iopub.status.busy": "2021-03-04T12:48:30.838730Z",
     "iopub.status.idle": "2021-03-04T12:48:31.352776Z",
     "shell.execute_reply": "2021-03-04T12:48:31.353729Z"
    }
   },
   "outputs": [
    {
     "data": {
      "text/plain": [
       "[Text(0, 0.5, '$\\\\langle \\\\Delta r^2 \\\\rangle$ [$\\\\mu$m$^2$]'),\n",
       " Text(0.5, 0, 'lag time $t$')]"
      ]
     },
     "execution_count": 1,
     "metadata": {},
     "output_type": "execute_result"
    },
    {
     "data": {
      "image/png": "[encoded data removed]",
      "text/plain": [
       "<Figure size 432x288 with 1 Axes>"
      ]
     },
     "metadata": {
      "needs_background": "light"
     },
     "output_type": "display_data"
    }
   ],
   "source": [
    "fig, ax = plt.subplots()\n",
    "ax.plot(em.index, em, 'o')\n",
    "#ax.set_xscale('log')\n",
    "#ax.set_yscale('log')\n",
    "ax.set(ylabel=r'$\\langle \\Delta r^2 \\rangle$ [$\\mu$m$^2$]',\n",
    "       xlabel='lag time $t$')\n",
    "#ax.set(ylim=(1e-2, 10));"
   ]
  }
 ],
 "metadata": {
  "kernelspec": {
   "display_name": "Python 3",
   "language": "python",
   "name": "python3"
  },
  "language_info": {
   "codemirror_mode": {
    "name": "ipython",
    "version": 3
   },
   "file_extension": ".py",
   "mimetype": "text/x-python",
   "name": "python",
   "nbconvert_exporter": "python",
   "pygments_lexer": "ipython3",
   "version": "3.8.8"
  }
 },
 "nbformat": 4,
 "nbformat_minor": 4
}
