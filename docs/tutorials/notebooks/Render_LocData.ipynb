{
 "cells": [
  {
   "cell_type": "markdown",
   "metadata": {},
   "source": [
    "# Tutorial about rendering LocData"
   ]
  },
  {
   "cell_type": "markdown",
   "metadata": {},
   "source": [
    "## Setting things up"
   ]
  },
  {
   "cell_type": "code",
   "execution_count": 1,
   "metadata": {
    "execution": {
     "iopub.execute_input": "2021-03-04T12:47:58.938587Z",
     "iopub.status.busy": "2021-03-04T12:47:58.937565Z",
     "iopub.status.idle": "2021-03-04T12:48:04.342218Z",
     "shell.execute_reply": "2021-03-04T12:48:04.342218Z"
    }
   },
   "outputs": [],
   "source": [
    "from pathlib import Path\n",
    "\n",
    "%matplotlib inline\n",
    "# %matplotlib widget\n",
    "\n",
    "import numpy as np\n",
    "import pandas as pd\n",
    "import matplotlib.pyplot as plt\n",
    "from mpl_toolkits.mplot3d import Axes3D\n",
    "\n",
    "import surepy as sp"
   ]
  },
  {
   "cell_type": "code",
   "execution_count": 2,
   "metadata": {
    "execution": {
     "iopub.execute_input": "2021-03-04T12:48:04.346217Z",
     "iopub.status.busy": "2021-03-04T12:48:04.346217Z",
     "iopub.status.idle": "2021-03-04T12:48:04.368217Z",
     "shell.execute_reply": "2021-03-04T12:48:04.367217Z"
    }
   },
   "outputs": [
    {
     "name": "stdout",
     "output_type": "stream",
     "text": [
      "\n",
      "Surepy:\n",
      "   version: 0.7.dev3+gb9aca40\n",
      "\n",
      "Python:\n",
      "   version: 3.8.8\n"
     ]
    }
   ],
   "source": [
    "sp.show_versions(system=False, dependencies=False, verbose=False)"
   ]
  },
  {
   "cell_type": "markdown",
   "metadata": {},
   "source": [
    "### Simulated data"
   ]
  },
  {
   "cell_type": "markdown",
   "metadata": {},
   "source": [
    "Localizations are simulated that are distributed according to a Neyman-Scott distribution (blobs)."
   ]
  },
  {
   "cell_type": "code",
   "execution_count": 3,
   "metadata": {
    "execution": {
     "iopub.execute_input": "2021-03-04T12:48:04.372216Z",
     "iopub.status.busy": "2021-03-04T12:48:04.371216Z",
     "iopub.status.idle": "2021-03-04T12:48:04.383216Z",
     "shell.execute_reply": "2021-03-04T12:48:04.383216Z"
    }
   },
   "outputs": [
    {
     "name": "stdout",
     "output_type": "stream",
     "text": [
      "identifier: \"1\"\n",
      "comment: \"\"\n",
      "creation_date: \"2021-03-04 13:48:04 +0100\"\n",
      "modification_date: \"\"\n",
      "source: SIMULATION\n",
      "state: RAW\n",
      "element_count: 1000\n",
      "frame_count: 0\n",
      "file_type: UNKNOWN_FILE_TYPE\n",
      "file_path: \"\"\n",
      "\n"
     ]
    }
   ],
   "source": [
    "dat = sp.simulate_Thomas(n_samples=1000, n_features=2, centers=10, feature_range=(0, 1000), cluster_std=10, seed=0)\n",
    "dat.print_summary()"
   ]
  },
  {
   "cell_type": "markdown",
   "metadata": {},
   "source": [
    "## Show scatter plot"
   ]
  },
  {
   "cell_type": "markdown",
   "metadata": {},
   "source": [
    "Since localization data is kept as a pandas dataframe standard plotting routines from pandas or matplotlip can be used."
   ]
  },
  {
   "cell_type": "code",
   "execution_count": 4,
   "metadata": {
    "execution": {
     "iopub.execute_input": "2021-03-04T12:48:04.398218Z",
     "iopub.status.busy": "2021-03-04T12:48:04.398218Z",
     "iopub.status.idle": "2021-03-04T12:48:04.583298Z",
     "shell.execute_reply": "2021-03-04T12:48:04.584299Z"
    }
   },
   "outputs": [
    {
     "data": {
      "image/png": "[encoded data removed]",
      "text/plain": [
       "<Figure size 432x288 with 1 Axes>"
      ]
     },
     "metadata": {
      "needs_background": "light"
     },
     "output_type": "display_data"
    }
   ],
   "source": [
    "fig, ax = plt.subplots(nrows=1, ncols=1)\n",
    "dat.data.plot.scatter(x='position_x', y='position_y', ax=ax, color='Blue', label='locdata')\n",
    "plt.show()"
   ]
  },
  {
   "cell_type": "markdown",
   "metadata": {},
   "source": [
    "## Render by simple 2D binning"
   ]
  },
  {
   "cell_type": "markdown",
   "metadata": {},
   "source": [
    "A method for simply binning localization data in 2D pixels is provided. This function uses the fast_histogram library."
   ]
  },
  {
   "cell_type": "code",
   "execution_count": 5,
   "metadata": {
    "execution": {
     "iopub.execute_input": "2021-03-04T12:48:04.591296Z",
     "iopub.status.busy": "2021-03-04T12:48:04.589296Z",
     "iopub.status.idle": "2021-03-04T12:48:04.598296Z",
     "shell.execute_reply": "2021-03-04T12:48:04.598296Z"
    }
   },
   "outputs": [
    {
     "name": "stderr",
     "output_type": "stream",
     "text": [
      "C:\\Miniconda3\\envs\\smlm_analysis\\lib\\site-packages\\numpy\\core\\_asarray.py:102: VisibleDeprecationWarning: Creating an ndarray from ragged nested sequences (which is a list-or-tuple of lists-or-tuples-or ndarrays with different lengths or shapes) is deprecated. If you meant to do this, you must specify 'dtype=object' when creating the ndarray.\n",
      "  return array(a, dtype, copy=False, order=order)\n"
     ]
    }
   ],
   "source": [
    "img, bins, label = sp.histogram(dat, bin_size=10)"
   ]
  },
  {
   "cell_type": "code",
   "execution_count": 6,
   "metadata": {
    "execution": {
     "iopub.execute_input": "2021-03-04T12:48:04.615302Z",
     "iopub.status.busy": "2021-03-04T12:48:04.614300Z",
     "iopub.status.idle": "2021-03-04T12:48:05.272296Z",
     "shell.execute_reply": "2021-03-04T12:48:05.272296Z"
    }
   },
   "outputs": [
    {
     "data": {
      "text/plain": [
       "(array([53.,  0.,  0.,  0.,  0., 29.,  0.,  0.,  0.,  0., 23.,  0.,  0.,\n",
       "         0.,  0., 18.,  0.,  0.,  0.,  0., 11.,  0.,  0.,  0.,  0.,  0.,\n",
       "        11.,  0.,  0.,  0.,  0., 11.,  0.,  0.,  0.,  0.,  7.,  0.,  0.,\n",
       "         0.,  0.,  8.,  0.,  0.,  0.,  0.,  0.,  9.,  0.,  0.,  0.,  0.,\n",
       "         2.,  0.,  0.,  0.,  0.,  4.,  0.,  0.,  0.,  0.,  4.,  0.,  0.,\n",
       "         0.,  0.,  2.,  0.,  0.,  0.,  0.,  0.,  5.,  0.,  0.,  0.,  0.,\n",
       "         2.,  0.,  0.,  0.,  0.,  1.,  0.,  0.,  0.,  0.,  1.,  0.,  0.,\n",
       "         0.,  0.,  0.,  2.,  0.,  0.,  0.,  0.,  0.,  0.,  0.,  0.,  0.,\n",
       "         0.,  0.,  0.,  0.,  0.,  0.,  0.,  0.,  0.,  0.,  0.,  0.,  0.,\n",
       "         0.,  0.,  0.,  0.,  0.,  0.,  0.,  0.,  0.,  0.,  0.,  0.,  0.,\n",
       "         0.,  0.,  0.,  0.,  0.,  0.,  0.,  0.,  0.,  0.,  0.,  0.,  0.,\n",
       "         0.,  0.,  0.,  0.,  0.,  0.,  0.,  0.,  0.,  0.,  0.,  0.,  0.,\n",
       "         0.,  0.,  0.,  0.,  0.,  0.,  0.,  0.,  0.,  0.,  0.,  0.,  0.,\n",
       "         0.,  0.,  0.,  0.,  0.,  0.,  0.,  0.,  0.,  0.,  0.,  0.,  0.,\n",
       "         0.,  0.,  0.,  0.,  0.,  0.,  0.,  0.,  0.,  0.,  0.,  0.,  0.,\n",
       "         0.,  0.,  0.,  0.,  0.,  0.,  0.,  0.,  0.,  0.,  0.,  0.,  0.,\n",
       "         0.,  0.,  0.,  0.,  0.,  0.,  0.,  0.,  0.,  0.,  0.,  0.,  0.,\n",
       "         0.,  0.,  0.,  0.,  0.,  0.,  0.,  0.,  0.,  0.,  0.,  0.,  0.,\n",
       "         0.,  0.,  0.,  0.,  0.,  0.,  0.,  0.,  0.,  0.,  0.,  0.,  0.,\n",
       "         0.,  0.,  0.,  0.,  0.,  0.,  0.,  0.,  0.]),\n",
       " array([ 1.        ,  1.19140625,  1.3828125 ,  1.57421875,  1.765625  ,\n",
       "         1.95703125,  2.1484375 ,  2.33984375,  2.53125   ,  2.72265625,\n",
       "         2.9140625 ,  3.10546875,  3.296875  ,  3.48828125,  3.6796875 ,\n",
       "         3.87109375,  4.0625    ,  4.25390625,  4.4453125 ,  4.63671875,\n",
       "         4.828125  ,  5.01953125,  5.2109375 ,  5.40234375,  5.59375   ,\n",
       "         5.78515625,  5.9765625 ,  6.16796875,  6.359375  ,  6.55078125,\n",
       "         6.7421875 ,  6.93359375,  7.125     ,  7.31640625,  7.5078125 ,\n",
       "         7.69921875,  7.890625  ,  8.08203125,  8.2734375 ,  8.46484375,\n",
       "         8.65625   ,  8.84765625,  9.0390625 ,  9.23046875,  9.421875  ,\n",
       "         9.61328125,  9.8046875 ,  9.99609375, 10.1875    , 10.37890625,\n",
       "        10.5703125 , 10.76171875, 10.953125  , 11.14453125, 11.3359375 ,\n",
       "        11.52734375, 11.71875   , 11.91015625, 12.1015625 , 12.29296875,\n",
       "        12.484375  , 12.67578125, 12.8671875 , 13.05859375, 13.25      ,\n",
       "        13.44140625, 13.6328125 , 13.82421875, 14.015625  , 14.20703125,\n",
       "        14.3984375 , 14.58984375, 14.78125   , 14.97265625, 15.1640625 ,\n",
       "        15.35546875, 15.546875  , 15.73828125, 15.9296875 , 16.12109375,\n",
       "        16.3125    , 16.50390625, 16.6953125 , 16.88671875, 17.078125  ,\n",
       "        17.26953125, 17.4609375 , 17.65234375, 17.84375   , 18.03515625,\n",
       "        18.2265625 , 18.41796875, 18.609375  , 18.80078125, 18.9921875 ,\n",
       "        19.18359375, 19.375     , 19.56640625, 19.7578125 , 19.94921875,\n",
       "        20.140625  , 20.33203125, 20.5234375 , 20.71484375, 20.90625   ,\n",
       "        21.09765625, 21.2890625 , 21.48046875, 21.671875  , 21.86328125,\n",
       "        22.0546875 , 22.24609375, 22.4375    , 22.62890625, 22.8203125 ,\n",
       "        23.01171875, 23.203125  , 23.39453125, 23.5859375 , 23.77734375,\n",
       "        23.96875   , 24.16015625, 24.3515625 , 24.54296875, 24.734375  ,\n",
       "        24.92578125, 25.1171875 , 25.30859375, 25.5       , 25.69140625,\n",
       "        25.8828125 , 26.07421875, 26.265625  , 26.45703125, 26.6484375 ,\n",
       "        26.83984375, 27.03125   , 27.22265625, 27.4140625 , 27.60546875,\n",
       "        27.796875  , 27.98828125, 28.1796875 , 28.37109375, 28.5625    ,\n",
       "        28.75390625, 28.9453125 , 29.13671875, 29.328125  , 29.51953125,\n",
       "        29.7109375 , 29.90234375, 30.09375   , 30.28515625, 30.4765625 ,\n",
       "        30.66796875, 30.859375  , 31.05078125, 31.2421875 , 31.43359375,\n",
       "        31.625     , 31.81640625, 32.0078125 , 32.19921875, 32.390625  ,\n",
       "        32.58203125, 32.7734375 , 32.96484375, 33.15625   , 33.34765625,\n",
       "        33.5390625 , 33.73046875, 33.921875  , 34.11328125, 34.3046875 ,\n",
       "        34.49609375, 34.6875    , 34.87890625, 35.0703125 , 35.26171875,\n",
       "        35.453125  , 35.64453125, 35.8359375 , 36.02734375, 36.21875   ,\n",
       "        36.41015625, 36.6015625 , 36.79296875, 36.984375  , 37.17578125,\n",
       "        37.3671875 , 37.55859375, 37.75      , 37.94140625, 38.1328125 ,\n",
       "        38.32421875, 38.515625  , 38.70703125, 38.8984375 , 39.08984375,\n",
       "        39.28125   , 39.47265625, 39.6640625 , 39.85546875, 40.046875  ,\n",
       "        40.23828125, 40.4296875 , 40.62109375, 40.8125    , 41.00390625,\n",
       "        41.1953125 , 41.38671875, 41.578125  , 41.76953125, 41.9609375 ,\n",
       "        42.15234375, 42.34375   , 42.53515625, 42.7265625 , 42.91796875,\n",
       "        43.109375  , 43.30078125, 43.4921875 , 43.68359375, 43.875     ,\n",
       "        44.06640625, 44.2578125 , 44.44921875, 44.640625  , 44.83203125,\n",
       "        45.0234375 , 45.21484375, 45.40625   , 45.59765625, 45.7890625 ,\n",
       "        45.98046875, 46.171875  , 46.36328125, 46.5546875 , 46.74609375,\n",
       "        46.9375    , 47.12890625, 47.3203125 , 47.51171875, 47.703125  ,\n",
       "        47.89453125, 48.0859375 , 48.27734375, 48.46875   , 48.66015625,\n",
       "        48.8515625 , 49.04296875, 49.234375  , 49.42578125, 49.6171875 ,\n",
       "        49.80859375, 50.        ]),\n",
       " <BarContainer object of 256 artists>)"
      ]
     },
     "execution_count": 1,
     "metadata": {},
     "output_type": "execute_result"
    },
    {
     "data": {
      "image/png": "[encoded data removed]",
      "text/plain": [
       "<Figure size 432x288 with 1 Axes>"
      ]
     },
     "metadata": {
      "needs_background": "light"
     },
     "output_type": "display_data"
    }
   ],
   "source": [
    "plt.hist(img.ravel(), bins=256, range=(1, 50), fc='k', ec='k');"
   ]
  },
  {
   "cell_type": "markdown",
   "metadata": {},
   "source": [
    "The `render_2d` method can directly provide a new figure as output."
   ]
  },
  {
   "cell_type": "code",
   "execution_count": 7,
   "metadata": {
    "execution": {
     "iopub.execute_input": "2021-03-04T12:48:05.326295Z",
     "iopub.status.busy": "2021-03-04T12:48:05.295306Z",
     "iopub.status.idle": "2021-03-04T12:48:05.837720Z",
     "shell.execute_reply": "2021-03-04T12:48:05.837720Z"
    }
   },
   "outputs": [
    {
     "data": {
      "text/plain": [
       "<AxesSubplot:title={'center':'counts'}, xlabel='position_x', ylabel='position_y'>"
      ]
     },
     "execution_count": 1,
     "metadata": {},
     "output_type": "execute_result"
    },
    {
     "data": {
      "image/png": "[encoded data removed]",
      "text/plain": [
       "<Figure size 432x288 with 2 Axes>"
      ]
     },
     "metadata": {
      "needs_background": "light"
     },
     "output_type": "display_data"
    }
   ],
   "source": [
    "sp.render_2d(dat, bin_size=10);"
   ]
  },
  {
   "cell_type": "markdown",
   "metadata": {},
   "source": [
    "Or it can be used within the matplotlib environment."
   ]
  },
  {
   "cell_type": "code",
   "execution_count": 8,
   "metadata": {
    "execution": {
     "iopub.execute_input": "2021-03-04T12:48:05.862717Z",
     "iopub.status.busy": "2021-03-04T12:48:05.861716Z",
     "iopub.status.idle": "2021-03-04T12:48:06.199720Z",
     "shell.execute_reply": "2021-03-04T12:48:06.198717Z"
    }
   },
   "outputs": [
    {
     "data": {
      "image/png": "[encoded data removed]",
      "text/plain": [
       "<Figure size 432x288 with 2 Axes>"
      ]
     },
     "metadata": {
      "needs_background": "light"
     },
     "output_type": "display_data"
    }
   ],
   "source": [
    "fig, ax = plt.subplots(nrows=1, ncols=1)\n",
    "sp.render_2d(dat, ax = ax, bin_size=10, cmap='viridis')\n",
    "plt.show()"
   ]
  },
  {
   "cell_type": "markdown",
   "metadata": {},
   "source": [
    "Intensity is per default scaled to the min and max intensity values but can be rescaled to a certain percentile between the min and max intensities:"
   ]
  },
  {
   "cell_type": "code",
   "execution_count": 9,
   "metadata": {
    "collapsed": false,
    "execution": {
     "iopub.execute_input": "2021-03-04T12:48:06.227721Z",
     "iopub.status.busy": "2021-03-04T12:48:06.224719Z",
     "iopub.status.idle": "2021-03-04T12:48:06.510717Z",
     "shell.execute_reply": "2021-03-04T12:48:06.510717Z"
    },
    "jupyter": {
     "outputs_hidden": false
    }
   },
   "outputs": [
    {
     "data": {
      "text/plain": [
       "<AxesSubplot:title={'center':'counts'}, xlabel='position_x', ylabel='position_y'>"
      ]
     },
     "execution_count": 1,
     "metadata": {},
     "output_type": "execute_result"
    },
    {
     "data": {
      "image/png": "[encoded data removed]",
      "text/plain": [
       "<Figure size 432x288 with 2 Axes>"
      ]
     },
     "metadata": {
      "needs_background": "light"
     },
     "output_type": "display_data"
    }
   ],
   "source": [
    "sp.render_2d(dat, bin_size=10, rescale=(0, 50));"
   ]
  },
  {
   "cell_type": "markdown",
   "metadata": {},
   "source": [
    "The image size is set automatically to the min and max coordinates but can be set to (0, max) or an arbitrary range."
   ]
  },
  {
   "cell_type": "code",
   "execution_count": 10,
   "metadata": {
    "execution": {
     "iopub.execute_input": "2021-03-04T12:48:06.524717Z",
     "iopub.status.busy": "2021-03-04T12:48:06.515753Z",
     "iopub.status.idle": "2021-03-04T12:48:06.712717Z",
     "shell.execute_reply": "2021-03-04T12:48:06.712717Z"
    }
   },
   "outputs": [
    {
     "data": {
      "text/plain": [
       "<AxesSubplot:title={'center':'counts'}, xlabel='position_x', ylabel='position_y'>"
      ]
     },
     "execution_count": 1,
     "metadata": {},
     "output_type": "execute_result"
    },
    {
     "data": {
      "image/png": "[encoded data removed]",
      "text/plain": [
       "<Figure size 432x288 with 2 Axes>"
      ]
     },
     "metadata": {
      "needs_background": "light"
     },
     "output_type": "display_data"
    }
   ],
   "source": [
    "sp.render_2d(dat, bin_size=10, bin_range='zero');"
   ]
  },
  {
   "cell_type": "code",
   "execution_count": 11,
   "metadata": {
    "execution": {
     "iopub.execute_input": "2021-03-04T12:48:06.754716Z",
     "iopub.status.busy": "2021-03-04T12:48:06.743716Z",
     "iopub.status.idle": "2021-03-04T12:48:06.948715Z",
     "shell.execute_reply": "2021-03-04T12:48:06.948715Z"
    }
   },
   "outputs": [
    {
     "data": {
      "text/plain": [
       "<AxesSubplot:title={'center':'counts'}, xlabel='position_x', ylabel='position_y'>"
      ]
     },
     "execution_count": 1,
     "metadata": {},
     "output_type": "execute_result"
    },
    {
     "data": {
      "image/png": "[encoded data removed]",
      "text/plain": [
       "<Figure size 432x288 with 2 Axes>"
      ]
     },
     "metadata": {
      "needs_background": "light"
     },
     "output_type": "display_data"
    }
   ],
   "source": [
    "sp.render_2d(dat, bin_size=10, bin_range=((0,400),(0,200)));"
   ]
  },
  {
   "cell_type": "markdown",
   "metadata": {},
   "source": [
    "## Use different libraries for rendering"
   ]
  },
  {
   "cell_type": "markdown",
   "metadata": {},
   "source": [
    "Rendering can also be carried out with a different render engine. Choose one of the following (MPL is the standard matplotlib):"
   ]
  },
  {
   "cell_type": "code",
   "execution_count": 12,
   "metadata": {
    "execution": {
     "iopub.execute_input": "2021-03-04T12:48:06.952715Z",
     "iopub.status.busy": "2021-03-04T12:48:06.951715Z",
     "iopub.status.idle": "2021-03-04T12:48:06.959722Z",
     "shell.execute_reply": "2021-03-04T12:48:06.961722Z"
    }
   },
   "outputs": [
    {
     "data": {
      "text/plain": [
       "[<RenderEngine.MPL: 0>,\n",
       " <RenderEngine.MPL_SCATTER_DENSITY: 1>,\n",
       " <RenderEngine.NAPARI: 2>]"
      ]
     },
     "execution_count": 1,
     "metadata": {},
     "output_type": "execute_result"
    }
   ],
   "source": [
    "list(sp.RenderEngine)"
   ]
  },
  {
   "cell_type": "markdown",
   "metadata": {},
   "source": [
    "### napari"
   ]
  },
  {
   "cell_type": "markdown",
   "metadata": {},
   "source": [
    "As external viewer you can use **napari**.\n",
    "\n",
    "For napari the qt gui interface has to be activated. Make sure to run the following command manually in a single cell and give enough time for this procedure to complete in the background."
   ]
  },
  {
   "cell_type": "raw",
   "metadata": {},
   "source": [
    "%gui qt"
   ]
  },
  {
   "cell_type": "raw",
   "metadata": {},
   "source": [
    "import napari"
   ]
  },
  {
   "cell_type": "raw",
   "metadata": {},
   "source": [
    "sp.render_2d_napari(dat, bin_size=50);\n",
    "# sp.render_2d(dat, render_engine=sp.RenderEngine.NAPARI)"
   ]
  },
  {
   "cell_type": "markdown",
   "metadata": {},
   "source": [
    "or alternatively:"
   ]
  },
  {
   "cell_type": "raw",
   "metadata": {},
   "source": [
    "sp.render_2d(dat, bin_size=50, render_engine=sp.RenderEngine.NAPARI)"
   ]
  },
  {
   "cell_type": "markdown",
   "metadata": {},
   "source": [
    "Remember: In any python script the command has to run within the `napari.gui_qt` context:\n",
    "\n",
    "`\n",
    "with napari.gui_qt():\n",
    "    viewer = sp.render_2d(dat, render_engine=sp.RenderEngine.NAPARI)\n",
    "`"
   ]
  },
  {
   "cell_type": "markdown",
   "metadata": {},
   "source": [
    "### mpl-scatter-density"
   ]
  },
  {
   "cell_type": "markdown",
   "metadata": {},
   "source": [
    "For interactive viewing with variable binning, **mpl-scatter-density** is helpful. To run this the notebook has to be run with a new kernel applying the magic command `%matplotlib widget`  before matplotib is imported."
   ]
  },
  {
   "cell_type": "code",
   "execution_count": 13,
   "metadata": {
    "execution": {
     "iopub.execute_input": "2021-03-04T12:48:06.996719Z",
     "iopub.status.busy": "2021-03-04T12:48:06.995714Z",
     "iopub.status.idle": "2021-03-04T12:48:07.318715Z",
     "shell.execute_reply": "2021-03-04T12:48:07.318715Z"
    }
   },
   "outputs": [
    {
     "name": "stderr",
     "output_type": "stream",
     "text": [
      "C:\\Miniconda3\\envs\\smlm_analysis\\lib\\site-packages\\mpl_scatter_density\\generic_density_artist.py:77: RuntimeWarning: All-NaN slice encountered\n",
      "  vmin = self._density_vmin(array)\n",
      "C:\\Miniconda3\\envs\\smlm_analysis\\lib\\site-packages\\mpl_scatter_density\\generic_density_artist.py:82: RuntimeWarning: All-NaN slice encountered\n",
      "  vmax = self._density_vmax(array)\n"
     ]
    },
    {
     "data": {
      "text/plain": [
       "<ScatterDensityAxesSubplot:label='scatter_density', title={'center':'counts'}, xlabel='position_x', ylabel='position_y'>"
      ]
     },
     "execution_count": 1,
     "metadata": {},
     "output_type": "execute_result"
    },
    {
     "data": {
      "image/png": "[encoded data removed]",
      "text/plain": [
       "<Figure size 432x288 with 3 Axes>"
      ]
     },
     "metadata": {
      "needs_background": "light"
     },
     "output_type": "display_data"
    }
   ],
   "source": [
    "sp.render_2d(dat, render_engine=sp.RenderEngine.MPL_SCATTER_DENSITY);"
   ]
  }
 ],
 "metadata": {
  "kernelspec": {
   "display_name": "Python 3",
   "language": "python",
   "name": "python3"
  },
  "language_info": {
   "codemirror_mode": {
    "name": "ipython",
    "version": 3
   },
   "file_extension": ".py",
   "mimetype": "text/x-python",
   "name": "python",
   "nbconvert_exporter": "python",
   "pygments_lexer": "ipython3",
   "version": "3.8.8"
  }
 },
 "nbformat": 4,
 "nbformat_minor": 4
}
