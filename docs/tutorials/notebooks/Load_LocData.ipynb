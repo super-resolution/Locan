{
 "cells": [
  {
   "cell_type": "markdown",
   "metadata": {},
   "source": [
    "# Tutorial about loading localization data from file"
   ]
  },
  {
   "cell_type": "markdown",
   "metadata": {},
   "source": [
    "Localization data is typically provided as text file with different formats depending on the fitting software."
   ]
  },
  {
   "cell_type": "code",
   "execution_count": 1,
   "metadata": {
    "execution": {
     "iopub.execute_input": "2021-03-04T12:46:52.651331Z",
     "iopub.status.busy": "2021-03-04T12:46:52.650330Z",
     "iopub.status.idle": "2021-03-04T12:46:57.860319Z",
     "shell.execute_reply": "2021-03-04T12:46:57.860319Z"
    }
   },
   "outputs": [],
   "source": [
    "from pathlib import Path\n",
    "\n",
    "import surepy as sp"
   ]
  },
  {
   "cell_type": "code",
   "execution_count": 2,
   "metadata": {
    "execution": {
     "iopub.execute_input": "2021-03-04T12:46:57.864315Z",
     "iopub.status.busy": "2021-03-04T12:46:57.864315Z",
     "iopub.status.idle": "2021-03-04T12:46:57.886365Z",
     "shell.execute_reply": "2021-03-04T12:46:57.887318Z"
    }
   },
   "outputs": [
    {
     "name": "stdout",
     "output_type": "stream",
     "text": [
      "\n",
      "Surepy:\n",
      "   version: 0.7.dev3+gb9aca40\n",
      "\n",
      "Python:\n",
      "   version: 3.8.8\n"
     ]
    }
   ],
   "source": [
    "sp.show_versions(system=False, dependencies=False, verbose=False)"
   ]
  },
  {
   "cell_type": "markdown",
   "metadata": {},
   "source": [
    "Throughout this manual it might be helpful to use pathlib to provided path information. In all cases a string with the path is also usable."
   ]
  },
  {
   "cell_type": "markdown",
   "metadata": {},
   "source": [
    "## Load rapidSTORM data file"
   ]
  },
  {
   "cell_type": "markdown",
   "metadata": {},
   "source": [
    "Here we identify some data in the Test_data directory and provide a path using pathlib:"
   ]
  },
  {
   "cell_type": "code",
   "execution_count": 3,
   "metadata": {
    "execution": {
     "iopub.execute_input": "2021-03-04T12:46:57.890320Z",
     "iopub.status.busy": "2021-03-04T12:46:57.890320Z",
     "iopub.status.idle": "2021-03-04T12:46:57.896319Z",
     "shell.execute_reply": "2021-03-04T12:46:57.896319Z"
    }
   },
   "outputs": [
    {
     "name": "stdout",
     "output_type": "stream",
     "text": [
      "c:\\users\\soeren\\mydata\\programming\\python\\projects\\surepy\\surepy\\tests\\Test_data\\rapidSTORM_dstorm_data.txt \n",
      "\n"
     ]
    }
   ],
   "source": [
    "path = sp.ROOT_DIR / 'tests/Test_data/rapidSTORM_dstorm_data.txt'\n",
    "print(path, '\\n')"
   ]
  },
  {
   "cell_type": "markdown",
   "metadata": {},
   "source": [
    "The data is then loaded from a rapidSTORM localization file. The file header is read to provide correct property names. The number of localisations to be read can be limited by *nrows*"
   ]
  },
  {
   "cell_type": "code",
   "execution_count": 4,
   "metadata": {
    "execution": {
     "iopub.execute_input": "2021-03-04T12:46:57.899315Z",
     "iopub.status.busy": "2021-03-04T12:46:57.899315Z",
     "iopub.status.idle": "2021-03-04T12:46:57.999318Z",
     "shell.execute_reply": "2021-03-04T12:46:57.999318Z"
    }
   },
   "outputs": [],
   "source": [
    "dat = sp.load_rapidSTORM_file(path=path, nrows=1000)"
   ]
  },
  {
   "cell_type": "markdown",
   "metadata": {},
   "source": [
    "Print information about the data: "
   ]
  },
  {
   "cell_type": "code",
   "execution_count": 5,
   "metadata": {
    "execution": {
     "iopub.execute_input": "2021-03-04T12:46:58.003319Z",
     "iopub.status.busy": "2021-03-04T12:46:58.003319Z",
     "iopub.status.idle": "2021-03-04T12:46:58.018356Z",
     "shell.execute_reply": "2021-03-04T12:46:58.019346Z"
    }
   },
   "outputs": [
    {
     "name": "stdout",
     "output_type": "stream",
     "text": [
      "Data head:\n",
      "   position_x  position_y  frame  intensity  chi_square  local_background\n",
      "0     9657.40     24533.5      0   33290.10   1192250.0           767.733\n",
      "1    16754.90     18770.0      0   21275.40   2106810.0           875.461\n",
      "2    14457.60     18582.6      0   20748.70    526031.0           703.370\n",
      "3     6820.58     16662.8      0    8531.77   3179190.0           852.789\n",
      "4    19183.20     22907.2      0   14139.60    448631.0           662.770 \n",
      "\n",
      "Summary:\n",
      "identifier: \"1\"\n",
      "comment: \"\"\n",
      "creation_date: \"2021-03-04 13:46:57 +0100\"\n",
      "modification_date: \"\"\n",
      "source: EXPERIMENT\n",
      "state: RAW\n",
      "element_count: 999\n",
      "frame_count: 48\n",
      "file_type: RAPIDSTORM\n",
      "file_path: \"c:\\\\users\\\\soeren\\\\mydata\\\\programming\\\\python\\\\projects\\\\surepy\\\\surepy\\\\tests\\\\Test_data\\\\rapidSTORM_dstorm_data.txt\"\n",
      "\n",
      "Properties:\n",
      "{'localization_count': 999, 'position_x': 16066.234912912912, 'position_y': 17550.369092792796, 'region_measure_bb': 1064111469.8204715, 'localization_density_bb': 9.388114199807877e-07, 'subregion_measure_bb': 130483.2086}\n"
     ]
    }
   ],
   "source": [
    "print('Data head:')\n",
    "print(dat.data.head(), '\\n')\n",
    "print('Summary:')\n",
    "dat.print_summary()\n",
    "print('Properties:')\n",
    "print(dat.properties)"
   ]
  },
  {
   "cell_type": "markdown",
   "metadata": {},
   "source": [
    "## Load Zeiss Elyra data file"
   ]
  },
  {
   "cell_type": "markdown",
   "metadata": {},
   "source": [
    "The Elyra super-resolution microscopy system from Zeiss uses as lightly different file format. Elyra column names are exchanged with surepy property names."
   ]
  },
  {
   "cell_type": "code",
   "execution_count": 6,
   "metadata": {
    "execution": {
     "iopub.execute_input": "2021-03-04T12:46:58.022315Z",
     "iopub.status.busy": "2021-03-04T12:46:58.022315Z",
     "iopub.status.idle": "2021-03-04T12:46:58.028317Z",
     "shell.execute_reply": "2021-03-04T12:46:58.028317Z"
    }
   },
   "outputs": [
    {
     "name": "stdout",
     "output_type": "stream",
     "text": [
      "c:\\users\\soeren\\mydata\\programming\\python\\projects\\surepy\\surepy\\tests\\Test_data\\Elyra_dstorm_data.txt \n",
      "\n"
     ]
    }
   ],
   "source": [
    "path_Elyra = sp.ROOT_DIR / 'tests/Test_data/Elyra_dstorm_data.txt'\n",
    "print(path_Elyra, '\\n')"
   ]
  },
  {
   "cell_type": "code",
   "execution_count": 7,
   "metadata": {
    "execution": {
     "iopub.execute_input": "2021-03-04T12:46:58.032321Z",
     "iopub.status.busy": "2021-03-04T12:46:58.032321Z",
     "iopub.status.idle": "2021-03-04T12:46:58.041319Z",
     "shell.execute_reply": "2021-03-04T12:46:58.040364Z"
    }
   },
   "outputs": [],
   "source": [
    "dat_Elyra = sp.load_Elyra_file(path=path_Elyra, nrows=1000)"
   ]
  },
  {
   "cell_type": "code",
   "execution_count": 8,
   "metadata": {
    "execution": {
     "iopub.execute_input": "2021-03-04T12:46:58.045318Z",
     "iopub.status.busy": "2021-03-04T12:46:58.044315Z",
     "iopub.status.idle": "2021-03-04T12:46:58.060315Z",
     "shell.execute_reply": "2021-03-04T12:46:58.060315Z"
    }
   },
   "outputs": [
    {
     "name": "stdout",
     "output_type": "stream",
     "text": [
      "Data head:\n",
      "   original_index  frame  frames_number  frames_missing  position_x  \\\n",
      "0               1      1              1               0     15850.6   \n",
      "1               2      1              1               0     25617.3   \n",
      "2               3      1              1               0     20155.8   \n",
      "3               4      1              1               0     10776.9   \n",
      "4               5      1              1               0     28966.9   \n",
      "\n",
      "   position_y  uncertainty  intensity  local_background_sigma  chi_square  \\\n",
      "0     23502.1          8.6        472                    5.33        0.28   \n",
      "1     24310.2          9.5        529                    4.38        0.31   \n",
      "2     24039.1         13.0        306                    3.06        0.23   \n",
      "3     10047.4         13.4        369                    3.98        0.25   \n",
      "4      8731.6         18.1        428                   14.73        0.41   \n",
      "\n",
      "   psf_half_width  channel  slice_z  \n",
      "0           110.0        1        1  \n",
      "1           129.8        1        1  \n",
      "2           131.1        1        1  \n",
      "3           143.0        1        1  \n",
      "4           150.1        1        1   \n",
      "\n",
      "Summary:\n",
      "identifier: \"2\"\n",
      "comment: \"\"\n",
      "creation_date: \"2021-03-04 13:46:58 +0100\"\n",
      "modification_date: \"\"\n",
      "source: EXPERIMENT\n",
      "state: RAW\n",
      "element_count: 999\n",
      "frame_count: 53\n",
      "file_type: ELYRA\n",
      "file_path: \"c:\\\\users\\\\soeren\\\\mydata\\\\programming\\\\python\\\\projects\\\\surepy\\\\surepy\\\\tests\\\\Test_data\\\\Elyra_dstorm_data.txt\"\n",
      "\n",
      "Properties:\n",
      "{'localization_count': 999, 'position_x': 18440.454854854852, 'position_y': 14189.186886886886, 'region_measure_bb': 775271493.12, 'localization_density_bb': 1.2885808505348594e-06, 'subregion_measure_bb': 111666.4}\n"
     ]
    }
   ],
   "source": [
    "print('Data head:')\n",
    "print(dat_Elyra.data.head(), '\\n')\n",
    "print('Summary:')\n",
    "dat_Elyra.print_summary()\n",
    "print('Properties:')\n",
    "print(dat_Elyra.properties)"
   ]
  },
  {
   "cell_type": "markdown",
   "metadata": {},
   "source": [
    "## Localization data from a custom text file"
   ]
  },
  {
   "cell_type": "markdown",
   "metadata": {},
   "source": [
    "Other custom text files can be read with a function that wraps the pandas.read_table() method."
   ]
  },
  {
   "cell_type": "code",
   "execution_count": 9,
   "metadata": {
    "execution": {
     "iopub.execute_input": "2021-03-04T12:46:58.063541Z",
     "iopub.status.busy": "2021-03-04T12:46:58.063541Z",
     "iopub.status.idle": "2021-03-04T12:46:58.069571Z",
     "shell.execute_reply": "2021-03-04T12:46:58.069571Z"
    }
   },
   "outputs": [
    {
     "name": "stdout",
     "output_type": "stream",
     "text": [
      "c:\\users\\soeren\\mydata\\programming\\python\\projects\\surepy\\surepy\\tests\\Test_data\\five_blobs.txt \n",
      "\n"
     ]
    }
   ],
   "source": [
    "path_csv = sp.ROOT_DIR / 'tests/Test_data/five_blobs.txt'\n",
    "print(path_csv, '\\n')"
   ]
  },
  {
   "cell_type": "markdown",
   "metadata": {},
   "source": [
    "Here data is loaded from a comma-separated-value file. Column names are read from the first line and a warning is given if the naming does not comply with surepy conventions. Column names can also be provided as *column*. The separater, e.g. a tab '\\t' can be provided as *sep*. The number of localisations to be read can be limited by *nrows*."
   ]
  },
  {
   "cell_type": "code",
   "execution_count": 10,
   "metadata": {
    "execution": {
     "iopub.execute_input": "2021-03-04T12:46:58.073542Z",
     "iopub.status.busy": "2021-03-04T12:46:58.073542Z",
     "iopub.status.idle": "2021-03-04T12:46:58.081571Z",
     "shell.execute_reply": "2021-03-04T12:46:58.080542Z"
    }
   },
   "outputs": [],
   "source": [
    "dat_csv = sp.load_txt_file(path=path_csv, sep=',', columns=None, nrows=100)"
   ]
  },
  {
   "cell_type": "code",
   "execution_count": 11,
   "metadata": {
    "execution": {
     "iopub.execute_input": "2021-03-04T12:46:58.084541Z",
     "iopub.status.busy": "2021-03-04T12:46:58.084541Z",
     "iopub.status.idle": "2021-03-04T12:46:58.096541Z",
     "shell.execute_reply": "2021-03-04T12:46:58.095541Z"
    }
   },
   "outputs": [
    {
     "name": "stdout",
     "output_type": "stream",
     "text": [
      "Data head:\n",
      "   index  position_x  position_y  cluster_label\n",
      "0      0         624         919              3\n",
      "1      1         611         873              3\n",
      "2      2         388        1015              0\n",
      "3      3         209         465              2\n",
      "4      4        1001         851              4 \n",
      "\n",
      "Summary:\n",
      "identifier: \"3\"\n",
      "comment: \"\"\n",
      "creation_date: \"2021-03-04 13:46:58 +0100\"\n",
      "modification_date: \"\"\n",
      "source: EXPERIMENT\n",
      "state: RAW\n",
      "element_count: 50\n",
      "frame_count: 0\n",
      "file_type: CUSTOM\n",
      "file_path: \"c:\\\\users\\\\soeren\\\\mydata\\\\programming\\\\python\\\\projects\\\\surepy\\\\surepy\\\\tests\\\\Test_data\\\\five_blobs.txt\"\n",
      "\n",
      "Properties:\n",
      "{'localization_count': 50, 'position_x': 608.68, 'position_y': 777.34, 'region_measure_bb': 493145, 'localization_density_bb': 0.00010139005769094282, 'subregion_measure_bb': 2892}\n"
     ]
    }
   ],
   "source": [
    "print('Data head:')\n",
    "print(dat_csv.data.head(), '\\n')\n",
    "print('Summary:')\n",
    "dat_csv.print_summary()\n",
    "print('Properties:')\n",
    "print(dat_csv.properties)"
   ]
  },
  {
   "cell_type": "markdown",
   "metadata": {},
   "source": [
    "## Load localization data file"
   ]
  },
  {
   "cell_type": "markdown",
   "metadata": {},
   "source": [
    "A general function for loading localization data is provided. Targeting specific localization file formats is done through the `file_format` parameter."
   ]
  },
  {
   "cell_type": "code",
   "execution_count": 12,
   "metadata": {
    "execution": {
     "iopub.execute_input": "2021-03-04T12:46:58.099540Z",
     "iopub.status.busy": "2021-03-04T12:46:58.099540Z",
     "iopub.status.idle": "2021-03-04T12:46:58.105858Z",
     "shell.execute_reply": "2021-03-04T12:46:58.104813Z"
    }
   },
   "outputs": [
    {
     "name": "stdout",
     "output_type": "stream",
     "text": [
      "c:\\users\\soeren\\mydata\\programming\\python\\projects\\surepy\\surepy\\tests\\Test_data\\rapidSTORM_dstorm_data.txt \n",
      "\n"
     ]
    }
   ],
   "source": [
    "path = sp.ROOT_DIR / 'tests/Test_data/rapidSTORM_dstorm_data.txt'\n",
    "print(path, '\\n')"
   ]
  },
  {
   "cell_type": "code",
   "execution_count": 13,
   "metadata": {
    "execution": {
     "iopub.execute_input": "2021-03-04T12:46:58.108822Z",
     "iopub.status.busy": "2021-03-04T12:46:58.108822Z",
     "iopub.status.idle": "2021-03-04T12:46:58.117355Z",
     "shell.execute_reply": "2021-03-04T12:46:58.116380Z"
    }
   },
   "outputs": [],
   "source": [
    "dat = sp.load_locdata(path=path, file_type=sp.FileType.RAPIDSTORM, nrows=1000)"
   ]
  },
  {
   "cell_type": "code",
   "execution_count": 14,
   "metadata": {
    "execution": {
     "iopub.execute_input": "2021-03-04T12:46:58.120356Z",
     "iopub.status.busy": "2021-03-04T12:46:58.120356Z",
     "iopub.status.idle": "2021-03-04T12:46:58.126022Z",
     "shell.execute_reply": "2021-03-04T12:46:58.126022Z"
    }
   },
   "outputs": [
    {
     "name": "stdout",
     "output_type": "stream",
     "text": [
      "identifier: \"4\"\n",
      "comment: \"\"\n",
      "creation_date: \"2021-03-04 13:46:58 +0100\"\n",
      "modification_date: \"\"\n",
      "source: EXPERIMENT\n",
      "state: RAW\n",
      "element_count: 999\n",
      "frame_count: 48\n",
      "file_type: RAPIDSTORM\n",
      "file_path: \"c:\\\\users\\\\soeren\\\\mydata\\\\programming\\\\python\\\\projects\\\\surepy\\\\surepy\\\\tests\\\\Test_data\\\\rapidSTORM_dstorm_data.txt\"\n",
      "\n"
     ]
    }
   ],
   "source": [
    "dat.print_summary()"
   ]
  },
  {
   "cell_type": "markdown",
   "metadata": {},
   "source": [
    "The file type can be specified by using the enum class `FileType` and use tab control to make a choice."
   ]
  },
  {
   "cell_type": "code",
   "execution_count": 15,
   "metadata": {
    "execution": {
     "iopub.execute_input": "2021-03-04T12:46:58.131025Z",
     "iopub.status.busy": "2021-03-04T12:46:58.131025Z",
     "iopub.status.idle": "2021-03-04T12:46:58.135464Z",
     "shell.execute_reply": "2021-03-04T12:46:58.134428Z"
    }
   },
   "outputs": [
    {
     "data": {
      "text/plain": [
       "mappingproxy({'UNKNOWN_FILE_TYPE': <FileType.UNKNOWN_FILE_TYPE: 0>,\n",
       "              'CUSTOM': <FileType.CUSTOM: 1>,\n",
       "              'RAPIDSTORM': <FileType.RAPIDSTORM: 2>,\n",
       "              'ELYRA': <FileType.ELYRA: 3>,\n",
       "              'THUNDERSTORM': <FileType.THUNDERSTORM: 4>,\n",
       "              'ASDF': <FileType.ASDF: 5>,\n",
       "              'NANOIMAGER': <FileType.NANOIMAGER: 6>})"
      ]
     },
     "execution_count": 1,
     "metadata": {},
     "output_type": "execute_result"
    }
   ],
   "source": [
    "sp.FileType.__members__"
   ]
  },
  {
   "cell_type": "code",
   "execution_count": 16,
   "metadata": {
    "execution": {
     "iopub.execute_input": "2021-03-04T12:46:58.138426Z",
     "iopub.status.busy": "2021-03-04T12:46:58.138426Z",
     "iopub.status.idle": "2021-03-04T12:46:58.142427Z",
     "shell.execute_reply": "2021-03-04T12:46:58.142427Z"
    }
   },
   "outputs": [
    {
     "data": {
      "text/plain": [
       "<FileType.RAPIDSTORM: 2>"
      ]
     },
     "execution_count": 1,
     "metadata": {},
     "output_type": "execute_result"
    }
   ],
   "source": [
    "sp.FileType.RAPIDSTORM"
   ]
  }
 ],
 "metadata": {
  "kernelspec": {
   "display_name": "Python 3",
   "language": "python",
   "name": "python3"
  },
  "language_info": {
   "codemirror_mode": {
    "name": "ipython",
    "version": 3
   },
   "file_extension": ".py",
   "mimetype": "text/x-python",
   "name": "python",
   "nbconvert_exporter": "python",
   "pygments_lexer": "ipython3",
   "version": "3.8.8"
  }
 },
 "nbformat": 4,
 "nbformat_minor": 4
}
