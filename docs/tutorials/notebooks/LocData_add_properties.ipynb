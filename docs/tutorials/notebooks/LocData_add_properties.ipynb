{
 "cells": [
  {
   "cell_type": "markdown",
   "metadata": {},
   "source": [
    "# Tutorial about adding properties to LocData"
   ]
  },
  {
   "cell_type": "code",
   "execution_count": 1,
   "metadata": {
    "execution": {
     "iopub.execute_input": "2021-03-04T12:47:32.828029Z",
     "iopub.status.busy": "2021-03-04T12:47:32.828029Z",
     "iopub.status.idle": "2021-03-04T12:47:39.951030Z",
     "shell.execute_reply": "2021-03-04T12:47:39.952033Z"
    }
   },
   "outputs": [],
   "source": [
    "import numpy as np\n",
    "import pandas as pd\n",
    "\n",
    "import locan as sp"
   ]
  },
  {
   "cell_type": "code",
   "execution_count": 2,
   "metadata": {
    "execution": {
     "iopub.execute_input": "2021-03-04T12:47:39.957032Z",
     "iopub.status.busy": "2021-03-04T12:47:39.956028Z",
     "iopub.status.idle": "2021-03-04T12:47:39.993029Z",
     "shell.execute_reply": "2021-03-04T12:47:39.994036Z"
    }
   },
   "outputs": [
    {
     "name": "stdout",
     "output_type": "stream",
     "text": [
      "\n",
      "Locan:\n",
      "   version: 0.7.dev3+gb9aca40\n",
      "\n",
      "Python:\n",
      "   version: 3.8.8\n"
     ]
    }
   ],
   "source": [
    "sp.show_versions(system=False, dependencies=False, verbose=False)"
   ]
  },
  {
   "cell_type": "markdown",
   "metadata": {},
   "source": [
    "## Some localization data"
   ]
  },
  {
   "cell_type": "code",
   "execution_count": 3,
   "metadata": {
    "execution": {
     "iopub.execute_input": "2021-03-04T12:47:40.002035Z",
     "iopub.status.busy": "2021-03-04T12:47:40.001030Z",
     "iopub.status.idle": "2021-03-04T12:47:40.022028Z",
     "shell.execute_reply": "2021-03-04T12:47:40.021028Z"
    }
   },
   "outputs": [
    {
     "name": "stdout",
     "output_type": "stream",
     "text": [
      "identifier: \"1\"\n",
      "comment: \"\"\n",
      "creation_date: \"2021-03-04 13:47:40 +0100\"\n",
      "modification_date: \"\"\n",
      "source: EXPERIMENT\n",
      "state: RAW\n",
      "element_count: 999\n",
      "frame_count: 48\n",
      "file_type: RAPIDSTORM\n",
      "file_path: \"c:\\\\users\\\\soeren\\\\mydata\\\\programming\\\\python\\\\projects\\\\locan\\\\locan\\\\tests\\\\Test_data\\\\rapidSTORM_dstorm_data.txt\"\n",
      "\n"
     ]
    }
   ],
   "source": [
    "path = sp.ROOT_DIR / 'tests/Test_data/rapidSTORM_dstorm_data.txt'\n",
    "dat = sp.load_rapidSTORM_file(path=path)\n",
    "dat.print_summary()"
   ]
  },
  {
   "cell_type": "code",
   "execution_count": 4,
   "metadata": {
    "execution": {
     "iopub.execute_input": "2021-03-04T12:47:40.027029Z",
     "iopub.status.busy": "2021-03-04T12:47:40.026028Z",
     "iopub.status.idle": "2021-03-04T12:47:40.034029Z",
     "shell.execute_reply": "2021-03-04T12:47:40.033030Z"
    }
   },
   "outputs": [
    {
     "name": "stdout",
     "output_type": "stream",
     "text": [
      "{'localization_count': 999, 'position_x': 16066.234912912912, 'position_y': 17550.369092792796, 'region_measure_bb': 1064111469.8204715, 'localization_density_bb': 9.388114199807877e-07, 'subregion_measure_bb': 130483.2086}\n"
     ]
    }
   ],
   "source": [
    "print(dat.properties)"
   ]
  },
  {
   "cell_type": "markdown",
   "metadata": {},
   "source": [
    "## Adding a property"
   ]
  },
  {
   "cell_type": "markdown",
   "metadata": {},
   "source": [
    "Any property that is created for a set of localizations can be added to the Locdata object. We use the convex hull as example, even though this is automatically provided through `LocData.convex_hull`."
   ]
  },
  {
   "cell_type": "markdown",
   "metadata": {},
   "source": [
    "### Convex hull for spatial coordinates"
   ]
  },
  {
   "cell_type": "code",
   "execution_count": 5,
   "metadata": {
    "execution": {
     "iopub.execute_input": "2021-03-04T12:47:40.042031Z",
     "iopub.status.busy": "2021-03-04T12:47:40.040032Z",
     "iopub.status.idle": "2021-03-04T12:47:40.059029Z",
     "shell.execute_reply": "2021-03-04T12:47:40.058028Z"
    }
   },
   "outputs": [
    {
     "name": "stdout",
     "output_type": "stream",
     "text": [
      "2\n",
      "<scipy.spatial.qhull.ConvexHull object at 0x0000014DEBB320D0>\n",
      "[794 240 194 173 935 713 232 657 815 653 738 403 421 359 100 497  99  11]\n",
      "1019963326.0736852\n",
      "123077.96064895991\n"
     ]
    }
   ],
   "source": [
    "H = sp.ConvexHull(dat.coordinates)\n",
    "\n",
    "print(H.dimension)\n",
    "print(H.hull)\n",
    "print(H.vertex_indices)\n",
    "print(H.region_measure)\n",
    "print(H.subregion_measure)"
   ]
  },
  {
   "cell_type": "markdown",
   "metadata": {},
   "source": [
    "### Adding Region_measure_ch as new property to LocData object"
   ]
  },
  {
   "cell_type": "code",
   "execution_count": 6,
   "metadata": {
    "execution": {
     "iopub.execute_input": "2021-03-04T12:47:40.065028Z",
     "iopub.status.busy": "2021-03-04T12:47:40.064029Z",
     "iopub.status.idle": "2021-03-04T12:47:40.071030Z",
     "shell.execute_reply": "2021-03-04T12:47:40.070028Z"
    }
   },
   "outputs": [
    {
     "name": "stdout",
     "output_type": "stream",
     "text": [
      "{'localization_count': 999, 'position_x': 16066.234912912912, 'position_y': 17550.369092792796, 'region_measure_bb': 1064111469.8204715, 'localization_density_bb': 9.388114199807877e-07, 'subregion_measure_bb': 130483.2086, 'region_measure_ch': 1019963326.0736852}\n"
     ]
    }
   ],
   "source": [
    "dat.properties.update({'region_measure_ch': H.region_measure})\n",
    "print(dat.properties)"
   ]
  }
 ],
 "metadata": {
  "kernelspec": {
   "display_name": "Python 3",
   "language": "python",
   "name": "python3"
  },
  "language_info": {
   "codemirror_mode": {
    "name": "ipython",
    "version": 3
   },
   "file_extension": ".py",
   "mimetype": "text/x-python",
   "name": "python",
   "nbconvert_exporter": "python",
   "pygments_lexer": "ipython3",
   "version": "3.8.8"
  },
  "widgets": {
   "application/vnd.jupyter.widget-state+json": {
    "state": {},
    "version_major": 2,
    "version_minor": 0
   }
  }
 },
 "nbformat": 4,
 "nbformat_minor": 4
}
