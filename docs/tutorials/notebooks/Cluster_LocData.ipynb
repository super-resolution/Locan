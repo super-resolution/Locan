{
 "cells": [
  {
   "cell_type": "markdown",
   "metadata": {},
   "source": [
    "# Tutorial about clustering LocData"
   ]
  },
  {
   "cell_type": "markdown",
   "metadata": {},
   "source": [
    "Surepy provides methods for clustering localizations in LocData objects. The methods all return a new LocDat object that represents the collected selections for each cluster."
   ]
  },
  {
   "cell_type": "markdown",
   "metadata": {},
   "source": [
    "## Setting things up"
   ]
  },
  {
   "cell_type": "code",
   "execution_count": 1,
   "metadata": {
    "execution": {
     "iopub.execute_input": "2021-03-04T12:46:20.330750Z",
     "iopub.status.busy": "2021-03-04T12:46:20.329765Z",
     "iopub.status.idle": "2021-03-04T12:46:25.688727Z",
     "shell.execute_reply": "2021-03-04T12:46:25.688727Z"
    }
   },
   "outputs": [],
   "source": [
    "from pathlib import Path\n",
    "\n",
    "%matplotlib inline\n",
    "\n",
    "import numpy as np\n",
    "import pandas as pd\n",
    "import matplotlib.pyplot as plt\n",
    "from mpl_toolkits.mplot3d import Axes3D\n",
    "\n",
    "import surepy as sp"
   ]
  },
  {
   "cell_type": "code",
   "execution_count": 2,
   "metadata": {
    "execution": {
     "iopub.execute_input": "2021-03-04T12:46:25.692728Z",
     "iopub.status.busy": "2021-03-04T12:46:25.691726Z",
     "iopub.status.idle": "2021-03-04T12:46:25.713727Z",
     "shell.execute_reply": "2021-03-04T12:46:25.713727Z"
    }
   },
   "outputs": [
    {
     "name": "stdout",
     "output_type": "stream",
     "text": [
      "\n",
      "Surepy:\n",
      "   version: 0.7.dev3+gb9aca40\n",
      "\n",
      "Python:\n",
      "   version: 3.8.8\n"
     ]
    }
   ],
   "source": [
    "sp.show_versions(system=False, dependencies=False, verbose=False)"
   ]
  },
  {
   "cell_type": "markdown",
   "metadata": {},
   "source": [
    "## Simulate localization data that follows a Neyman-Scott distribution in 2D"
   ]
  },
  {
   "cell_type": "code",
   "execution_count": 3,
   "metadata": {
    "collapsed": false,
    "execution": {
     "iopub.execute_input": "2021-03-04T12:46:25.717728Z",
     "iopub.status.busy": "2021-03-04T12:46:25.717728Z",
     "iopub.status.idle": "2021-03-04T12:46:25.732727Z",
     "shell.execute_reply": "2021-03-04T12:46:25.731727Z"
    },
    "jupyter": {
     "outputs_hidden": false
    }
   },
   "outputs": [
    {
     "name": "stdout",
     "output_type": "stream",
     "text": [
      "identifier: \"1\"\n",
      "comment: \"\"\n",
      "creation_date: \"2021-03-04 13:46:25 +0100\"\n",
      "modification_date: \"\"\n",
      "source: SIMULATION\n",
      "state: RAW\n",
      "element_count: 1000\n",
      "frame_count: 0\n",
      "file_type: UNKNOWN_FILE_TYPE\n",
      "file_path: \"\"\n",
      "\n"
     ]
    }
   ],
   "source": [
    "locdata = sp.simulate_Thomas(n_samples=1000, n_features=2, centers=10, feature_range=(0, 1000), cluster_std=10, seed=0)\n",
    "\n",
    "locdata.print_summary()"
   ]
  },
  {
   "cell_type": "code",
   "execution_count": 4,
   "metadata": {
    "execution": {
     "iopub.execute_input": "2021-03-04T12:46:25.750727Z",
     "iopub.status.busy": "2021-03-04T12:46:25.749727Z",
     "iopub.status.idle": "2021-03-04T12:46:25.921147Z",
     "shell.execute_reply": "2021-03-04T12:46:25.921147Z"
    }
   },
   "outputs": [
    {
     "data": {
      "image/png": "[encoded data removed]",
      "text/plain": [
       "<Figure size 432x288 with 1 Axes>"
      ]
     },
     "metadata": {
      "needs_background": "light"
     },
     "output_type": "display_data"
    }
   ],
   "source": [
    "fig, ax = plt.subplots(nrows=1, ncols=1)\n",
    "locdata.data.plot.scatter(x='position_x', y='position_y', ax=ax, color='Blue', label='locdata')\n",
    "plt.show()"
   ]
  },
  {
   "cell_type": "markdown",
   "metadata": {},
   "source": [
    "## Cluster localizations by hdbscan"
   ]
  },
  {
   "cell_type": "code",
   "execution_count": 5,
   "metadata": {
    "execution": {
     "iopub.execute_input": "2021-03-04T12:46:25.935145Z",
     "iopub.status.busy": "2021-03-04T12:46:25.935145Z",
     "iopub.status.idle": "2021-03-04T12:46:26.017146Z",
     "shell.execute_reply": "2021-03-04T12:46:26.017146Z"
    }
   },
   "outputs": [
    {
     "name": "stdout",
     "output_type": "stream",
     "text": [
      "identifier: \"12\"\n",
      "creation_date: \"2021-03-04 13:46:26 +0100\"\n",
      "source: DESIGN\n",
      "state: RAW\n",
      "history {\n",
      "  name: \"cluster_hdbscan\"\n",
      "  parameter: \"{\\'min_cluster_size\\': 5, \\'loc_properties\\': None, \\'allow_single_cluster\\': False, \\'kwargs\\': {}, \\'locdata\\': <surepy.data.locdata.LocData object at 0x00000152702020A0>}\"\n",
      "}\n",
      "ancestor_identifiers: \"2\"\n",
      "ancestor_identifiers: \"3\"\n",
      "ancestor_identifiers: \"4\"\n",
      "ancestor_identifiers: \"5\"\n",
      "ancestor_identifiers: \"6\"\n",
      "ancestor_identifiers: \"7\"\n",
      "ancestor_identifiers: \"8\"\n",
      "ancestor_identifiers: \"9\"\n",
      "ancestor_identifiers: \"10\"\n",
      "ancestor_identifiers: \"11\"\n",
      "element_count: 10\n",
      "\n"
     ]
    }
   ],
   "source": [
    "noise, clust = sp.cluster_hdbscan(locdata, min_cluster_size = 5, allow_single_cluster = False)\n",
    "\n",
    "assert noise is None\n",
    "clust.print_meta()"
   ]
  },
  {
   "cell_type": "markdown",
   "metadata": {},
   "source": [
    "### Show scatter plots"
   ]
  },
  {
   "cell_type": "code",
   "execution_count": 6,
   "metadata": {
    "execution": {
     "iopub.execute_input": "2021-03-04T12:46:26.039146Z",
     "iopub.status.busy": "2021-03-04T12:46:26.039146Z",
     "iopub.status.idle": "2021-03-04T12:46:26.269146Z",
     "shell.execute_reply": "2021-03-04T12:46:26.269146Z"
    }
   },
   "outputs": [
    {
     "data": {
      "image/png": "[encoded data removed]",
      "text/plain": [
       "<Figure size 432x288 with 1 Axes>"
      ]
     },
     "metadata": {
      "needs_background": "light"
     },
     "output_type": "display_data"
    }
   ],
   "source": [
    "fig, ax = plt.subplots(nrows=1, ncols=1)\n",
    "locdata.data.plot.scatter(x='position_x', y='position_y', ax=ax, color='Yellow', label='locdata')\n",
    "sp.LocData.concat(clust.references).data.plot.scatter(x='position_x', y='position_y', ax=ax, color='Blue', label='clustered data')\n",
    "clust.data.plot.scatter(x='position_x', y='position_y', ax=ax, color='Red', s=50, label='cluster centroids')\n",
    "plt.show()"
   ]
  },
  {
   "cell_type": "markdown",
   "metadata": {},
   "source": [
    "## Cluster localizations in the presence of noise"
   ]
  },
  {
   "cell_type": "markdown",
   "metadata": {},
   "source": [
    "Often homogeneously distributed localizations are present that cannot be clustered (so-called noise). In this case *noise* should be set True such that two LocData objects are returned that hold noise and the cluster collection. If *noise* is False it will be part of the returned cluster collection."
   ]
  },
  {
   "cell_type": "code",
   "execution_count": 7,
   "metadata": {
    "execution": {
     "iopub.execute_input": "2021-03-04T12:46:26.283147Z",
     "iopub.status.busy": "2021-03-04T12:46:26.282147Z",
     "iopub.status.idle": "2021-03-04T12:46:26.287145Z",
     "shell.execute_reply": "2021-03-04T12:46:26.286147Z"
    }
   },
   "outputs": [],
   "source": [
    "locdata_cluster = sp.simulate_Thomas(n_samples=1000, n_features=2, centers=10, feature_range=(0, 1000), cluster_std=10, seed=3)\n",
    "locdata_noise = sp.simulate_csr(n_samples=100, feature_range=(0,1000), seed=3)\n",
    "locdata = sp.LocData.concat([locdata_cluster, locdata_noise])"
   ]
  },
  {
   "cell_type": "code",
   "execution_count": 8,
   "metadata": {
    "execution": {
     "iopub.execute_input": "2021-03-04T12:46:26.304147Z",
     "iopub.status.busy": "2021-03-04T12:46:26.303146Z",
     "iopub.status.idle": "2021-03-04T12:46:26.385147Z",
     "shell.execute_reply": "2021-03-04T12:46:26.385147Z"
    }
   },
   "outputs": [],
   "source": [
    "noise, clust = sp.cluster_hdbscan(locdata, min_cluster_size=20, allow_single_cluster=False)"
   ]
  },
  {
   "cell_type": "code",
   "execution_count": 9,
   "metadata": {
    "execution": {
     "iopub.execute_input": "2021-03-04T12:46:26.408147Z",
     "iopub.status.busy": "2021-03-04T12:46:26.403147Z",
     "iopub.status.idle": "2021-03-04T12:46:26.718146Z",
     "shell.execute_reply": "2021-03-04T12:46:26.718146Z"
    }
   },
   "outputs": [
    {
     "data": {
      "image/png": "[encoded data removed]",
      "text/plain": [
       "<Figure size 432x288 with 1 Axes>"
      ]
     },
     "metadata": {
      "needs_background": "light"
     },
     "output_type": "display_data"
    }
   ],
   "source": [
    "fig, ax = plt.subplots(nrows=1, ncols=1)\n",
    "locdata.data.plot.scatter(x='position_x', y='position_y', ax=ax, color='Yellow', label='locdata')\n",
    "sp.LocData.concat(clust.references).data.plot.scatter(x='position_x', y='position_y', ax=ax, color='Blue', label='clustered data')\n",
    "noise.data.plot.scatter(x='position_x', y='position_y', ax=ax, color='Gray', label='noise')\n",
    "clust.data.plot.scatter(x='position_x', y='position_y', ax=ax, color='Red', s=50, label='cluster centroids')\n",
    "plt.show()"
   ]
  },
  {
   "cell_type": "markdown",
   "metadata": {},
   "source": [
    "## Cluster localizations by dbscan"
   ]
  },
  {
   "cell_type": "code",
   "execution_count": 10,
   "metadata": {
    "execution": {
     "iopub.execute_input": "2021-03-04T12:46:26.724147Z",
     "iopub.status.busy": "2021-03-04T12:46:26.723148Z",
     "iopub.status.idle": "2021-03-04T12:46:26.805150Z",
     "shell.execute_reply": "2021-03-04T12:46:26.804149Z"
    }
   },
   "outputs": [],
   "source": [
    "noise, clust = sp.cluster_dbscan(locdata, eps=20, min_samples=4)"
   ]
  },
  {
   "cell_type": "code",
   "execution_count": 11,
   "metadata": {
    "execution": {
     "iopub.execute_input": "2021-03-04T12:46:26.827147Z",
     "iopub.status.busy": "2021-03-04T12:46:26.820146Z",
     "iopub.status.idle": "2021-03-04T12:46:27.142146Z",
     "shell.execute_reply": "2021-03-04T12:46:27.141146Z"
    }
   },
   "outputs": [
    {
     "data": {
      "image/png": "[encoded data removed]",
      "text/plain": [
       "<Figure size 432x288 with 1 Axes>"
      ]
     },
     "metadata": {
      "needs_background": "light"
     },
     "output_type": "display_data"
    }
   ],
   "source": [
    "fig, ax = plt.subplots(nrows=1, ncols=1)\n",
    "locdata.data.plot.scatter(x='position_x', y='position_y', ax=ax, color='Yellow', label='locdata')\n",
    "sp.LocData.concat(clust.references).data.plot.scatter(x='position_x', y='position_y', ax=ax, color='Blue', label='clustered data')\n",
    "noise.data.plot.scatter(x='position_x', y='position_y', ax=ax, color='Gray', label='noise')\n",
    "clust.data.plot.scatter(x='position_x', y='position_y', ax=ax, color='Red', s=50, label='cluster centroids')\n",
    "plt.show()"
   ]
  },
  {
   "cell_type": "markdown",
   "metadata": {},
   "source": [
    "If single localizations should be inlcuded as individual clusters, we need to reduce `min_samples` to 1. In that case `noise` will always be None."
   ]
  },
  {
   "cell_type": "code",
   "execution_count": 12,
   "metadata": {
    "execution": {
     "iopub.execute_input": "2021-03-04T12:46:27.147146Z",
     "iopub.status.busy": "2021-03-04T12:46:27.147146Z",
     "iopub.status.idle": "2021-03-04T12:46:27.793148Z",
     "shell.execute_reply": "2021-03-04T12:46:27.793148Z"
    }
   },
   "outputs": [],
   "source": [
    "noise, clust = sp.cluster_dbscan(locdata, eps=20, min_samples=1)\n",
    "assert noise is None"
   ]
  },
  {
   "cell_type": "code",
   "execution_count": 13,
   "metadata": {
    "execution": {
     "iopub.execute_input": "2021-03-04T12:46:27.797147Z",
     "iopub.status.busy": "2021-03-04T12:46:27.797147Z",
     "iopub.status.idle": "2021-03-04T12:46:27.809147Z",
     "shell.execute_reply": "2021-03-04T12:46:27.809147Z"
    }
   },
   "outputs": [
    {
     "data": {
      "text/html": [
       "<div>\n",
       "<style scoped>\n",
       "    .dataframe tbody tr th:only-of-type {\n",
       "        vertical-align: middle;\n",
       "    }\n",
       "\n",
       "    .dataframe tbody tr th {\n",
       "        vertical-align: top;\n",
       "    }\n",
       "\n",
       "    .dataframe thead th {\n",
       "        text-align: right;\n",
       "    }\n",
       "</style>\n",
       "<table border=\"1\" class=\"dataframe\">\n",
       "  <thead>\n",
       "    <tr style=\"text-align: right;\">\n",
       "      <th></th>\n",
       "      <th>localization_count</th>\n",
       "      <th>position_x</th>\n",
       "      <th>position_y</th>\n",
       "      <th>region_measure_bb</th>\n",
       "      <th>localization_density_bb</th>\n",
       "      <th>subregion_measure_bb</th>\n",
       "    </tr>\n",
       "  </thead>\n",
       "  <tbody>\n",
       "    <tr>\n",
       "      <th>0</th>\n",
       "      <td>101</td>\n",
       "      <td>292.349070</td>\n",
       "      <td>510.327061</td>\n",
       "      <td>2991.217295</td>\n",
       "      <td>0.033766</td>\n",
       "      <td>218.770898</td>\n",
       "    </tr>\n",
       "    <tr>\n",
       "      <th>1</th>\n",
       "      <td>102</td>\n",
       "      <td>259.790296</td>\n",
       "      <td>414.794717</td>\n",
       "      <td>2316.226258</td>\n",
       "      <td>0.044037</td>\n",
       "      <td>192.508868</td>\n",
       "    </tr>\n",
       "    <tr>\n",
       "      <th>2</th>\n",
       "      <td>101</td>\n",
       "      <td>22.434061</td>\n",
       "      <td>557.178332</td>\n",
       "      <td>2260.760531</td>\n",
       "      <td>0.044675</td>\n",
       "      <td>192.618682</td>\n",
       "    </tr>\n",
       "    <tr>\n",
       "      <th>3</th>\n",
       "      <td>202</td>\n",
       "      <td>38.557264</td>\n",
       "      <td>450.245991</td>\n",
       "      <td>4633.074455</td>\n",
       "      <td>0.043600</td>\n",
       "      <td>272.741624</td>\n",
       "    </tr>\n",
       "    <tr>\n",
       "      <th>4</th>\n",
       "      <td>101</td>\n",
       "      <td>676.039010</td>\n",
       "      <td>590.907498</td>\n",
       "      <td>2658.498553</td>\n",
       "      <td>0.037991</td>\n",
       "      <td>206.264464</td>\n",
       "    </tr>\n",
       "  </tbody>\n",
       "</table>\n",
       "</div>"
      ],
      "text/plain": [
       "   localization_count  position_x  position_y  region_measure_bb  \\\n",
       "0                 101  292.349070  510.327061        2991.217295   \n",
       "1                 102  259.790296  414.794717        2316.226258   \n",
       "2                 101   22.434061  557.178332        2260.760531   \n",
       "3                 202   38.557264  450.245991        4633.074455   \n",
       "4                 101  676.039010  590.907498        2658.498553   \n",
       "\n",
       "   localization_density_bb  subregion_measure_bb  \n",
       "0                 0.033766            218.770898  \n",
       "1                 0.044037            192.508868  \n",
       "2                 0.044675            192.618682  \n",
       "3                 0.043600            272.741624  \n",
       "4                 0.037991            206.264464  "
      ]
     },
     "execution_count": 1,
     "metadata": {},
     "output_type": "execute_result"
    }
   ],
   "source": [
    "clust.data.head()"
   ]
  },
  {
   "cell_type": "code",
   "execution_count": 14,
   "metadata": {
    "execution": {
     "iopub.execute_input": "2021-03-04T12:46:27.831146Z",
     "iopub.status.busy": "2021-03-04T12:46:27.830147Z",
     "iopub.status.idle": "2021-03-04T12:46:28.163146Z",
     "shell.execute_reply": "2021-03-04T12:46:28.162146Z"
    }
   },
   "outputs": [
    {
     "data": {
      "image/png": "[encoded data removed]",
      "text/plain": [
       "<Figure size 432x288 with 1 Axes>"
      ]
     },
     "metadata": {
      "needs_background": "light"
     },
     "output_type": "display_data"
    }
   ],
   "source": [
    "fig, ax = plt.subplots(nrows=1, ncols=1)\n",
    "locdata.data.plot.scatter(x='position_x', y='position_y', ax=ax, color='Yellow', label='locdata')\n",
    "sp.LocData.concat(clust.references).data.plot.scatter(x='position_x', y='position_y', ax=ax, color='Blue', label='clustered data')\n",
    "clust.data.plot.scatter(x='position_x', y='position_y', ax=ax, color='Red', s=10, label='cluster centroids')\n",
    "plt.show()"
   ]
  },
  {
   "cell_type": "code",
   "execution_count": null,
   "metadata": {},
   "outputs": [],
   "source": []
  }
 ],
 "metadata": {
  "kernelspec": {
   "display_name": "Python 3",
   "language": "python",
   "name": "python3"
  },
  "language_info": {
   "codemirror_mode": {
    "name": "ipython",
    "version": 3
   },
   "file_extension": ".py",
   "mimetype": "text/x-python",
   "name": "python",
   "nbconvert_exporter": "python",
   "pygments_lexer": "ipython3",
   "version": "3.8.8"
  },
  "widgets": {
   "application/vnd.jupyter.widget-state+json": {
    "state": {},
    "version_major": 2,
    "version_minor": 0
   }
  }
 },
 "nbformat": 4,
 "nbformat_minor": 4
}
